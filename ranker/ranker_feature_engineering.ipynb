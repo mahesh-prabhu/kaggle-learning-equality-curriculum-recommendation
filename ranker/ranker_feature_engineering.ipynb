{
 "cells": [
  {
   "cell_type": "code",
   "execution_count": 1,
   "id": "c0b6a793-b720-4e19-9a19-ef581f1e800a",
   "metadata": {
    "collapsed": false
   },
   "outputs": [],
   "source": [
    "TESTING_SUBSET = False  # ***** FOR TESTING ONLY !!!!!!!! ******\n",
    "\n",
    "import sys\n",
    "IN_COLAB = 'google.colab' in sys.modules"
   ]
  },
  {
   "cell_type": "code",
   "execution_count": 2,
   "id": "93cf853b-9b2d-4b45-9257-e41d835ee511",
   "metadata": {
    "collapsed": false
   },
   "outputs": [
    {
     "name": "stderr",
     "output_type": "stream",
     "text": [
      "/home/mahesh/Desktop/ML/kaggle/LearningEquality/learning-equality-code/le-venv/lib/python3.10/site-packages/tqdm/auto.py:22: TqdmWarning: IProgress not found. Please update jupyter and ipywidgets. See https://ipywidgets.readthedocs.io/en/stable/user_install.html\n",
      "  from .autonotebook import tqdm as notebook_tqdm\n",
      "2023-04-12 13:54:14.207969: I tensorflow/core/platform/cpu_feature_guard.cc:193] This TensorFlow binary is optimized with oneAPI Deep Neural Network Library (oneDNN) to use the following CPU instructions in performance-critical operations:  AVX2 FMA\n",
      "To enable them in other operations, rebuild TensorFlow with the appropriate compiler flags.\n"
     ]
    },
    {
     "name": "stderr",
     "output_type": "stream",
     "text": [
      "2023-04-12 13:54:14.352779: E tensorflow/stream_executor/cuda/cuda_blas.cc:2981] Unable to register cuBLAS factory: Attempting to register factory for plugin cuBLAS when one has already been registered\n"
     ]
    },
    {
     "name": "stderr",
     "output_type": "stream",
     "text": [
      "2023-04-12 13:54:14.815257: W tensorflow/stream_executor/platform/default/dso_loader.cc:64] Could not load dynamic library 'libnvinfer.so.7'; dlerror: libnvinfer.so.7: cannot open shared object file: No such file or directory; LD_LIBRARY_PATH: /usr/local/cuda-11.7/lib64:/usr/local/cuda-11.7/lib64\n",
      "2023-04-12 13:54:14.815322: W tensorflow/stream_executor/platform/default/dso_loader.cc:64] Could not load dynamic library 'libnvinfer_plugin.so.7'; dlerror: libnvinfer_plugin.so.7: cannot open shared object file: No such file or directory; LD_LIBRARY_PATH: /usr/local/cuda-11.7/lib64:/usr/local/cuda-11.7/lib64\n",
      "2023-04-12 13:54:14.815328: W tensorflow/compiler/tf2tensorrt/utils/py_utils.cc:38] TF-TRT Warning: Cannot dlopen some TensorRT libraries. If you would like to use Nvidia GPU with TensorRT, please make sure the missing libraries mentioned above are installed properly.\n"
     ]
    },
    {
     "name": "stdout",
     "output_type": "stream",
     "text": [
      "env: CUBLAS_WORKSPACE_CONFIG=:16:8\n",
      "cuda\n"
     ]
    }
   ],
   "source": [
    "import datetime\n",
    "import numpy as np\n",
    "from sklearn.metrics import fbeta_score\n",
    "from matplotlib import pyplot as plt\n",
    "import math\n",
    "import pandas as pd\n",
    "import sys\n",
    "import json\n",
    "import time\n",
    "import torch\n",
    "from torch import nn\n",
    "import random\n",
    "#from tqdm.auto import tqdm\n",
    "from tqdm import tqdm\n",
    "from torch.utils.data import DataLoader\n",
    "from datasets import Dataset\n",
    "import os\n",
    "import torchsummary\n",
    "from itertools import product\n",
    "from transformers import AutoTokenizer, AutoModel\n",
    "from dataclasses import dataclass\n",
    "from transformers import PreTrainedTokenizer\n",
    "from torch.utils.data import DataLoader\n",
    "\n",
    "if IN_COLAB:\n",
    "  sys.path.append('/content/drive/MyDrive/ML/lecr/code/')\n",
    "from l_utils import *\n",
    "from model_utils import *\n",
    "from fe_utils import *\n",
    "\n",
    "#from model_defs import Topic_NN, Content_NN\n",
    "\n",
    "%env CUBLAS_WORKSPACE_CONFIG=:16:8\n",
    "\n",
    "device = \"cuda\" if torch.cuda.is_available() else \"cpu\"\n",
    "print(device)\n"
   ]
  },
  {
   "cell_type": "code",
   "execution_count": 3,
   "id": "18dca431-bc35-4866-b815-bed3d66a243d",
   "metadata": {
    "collapsed": false
   },
   "outputs": [],
   "source": [
    "if IN_COLAB:\n",
    "    class CFG:\n",
    "        MODEL = \"sentence-transformers/paraphrase-multilingual-MiniLM-L12-v2\"\n",
    "        DIRNAME_PROCESSED_DATA = '/content/drive/MyDrive/ML/lecr/data/'\n",
    "        FILENAME_DATA_CONTENT_F = DIRNAME_PROCESSED_DATA + \"content.f\"\n",
    "        FILENAME_DATA_TOPICS_F = DIRNAME_PROCESSED_DATA + \"topics.f\"\n",
    "        FILENAME_DATA_CORRELATIONS_CSV = DIRNAME_PROCESSED_DATA + \"correlations.csv\"\n",
    "        NUM_FOLDS = 5\n",
    "        SAVE_MODEL_DIR = DIRNAME_PROCESSED_DATA + \"/models/\"\n",
    "else:\n",
    "    from cfg import *\n",
    "topics_tokenized_pq_file = CFG.DIRNAME_PROCESSED_DATA + \"topics_tokenized_for_ranker.pq\"\n",
    "contents_tokenized_pq_file = CFG.DIRNAME_PROCESSED_DATA + \"contents_tokenized_for_ranker.pq\""
   ]
  },
  {
   "cell_type": "code",
   "execution_count": 4,
   "id": "9a583c4c-67f5-403a-b268-c37983c5ae7e",
   "metadata": {
    "collapsed": false
   },
   "outputs": [],
   "source": [
    "auto_tokenizer = AutoTokenizer.from_pretrained(CFG.MODEL)"
   ]
  },
  {
   "cell_type": "code",
   "execution_count": 5,
   "id": "8606ea4a-b3d0-4b4f-805b-bcc7c5e0b06f",
   "metadata": {
    "collapsed": false
   },
   "outputs": [],
   "source": [
    "contents_df = pd.read_feather(CFG.FILENAME_DATA_CONTENT_F)\n",
    "topics_df   = pd.read_feather(CFG.FILENAME_DATA_TOPICS_F)\n",
    "correlations_df =  pd.read_csv(CFG.FILENAME_DATA_CORRELATIONS_CSV)"
   ]
  },
  {
   "cell_type": "code",
   "execution_count": 6,
   "id": "de0cbb33-a8bc-4c5a-80af-30e5cc71097f",
   "metadata": {
    "collapsed": false
   },
   "outputs": [
    {
     "name": "stderr",
     "output_type": "stream",
     "text": [
      "\r",
      "Map (num_proc=2):   0% 0/61517 [00:00<?, ? examples/s]"
     ]
    },
    {
     "name": "stderr",
     "output_type": "stream",
     "text": [
      "\r",
      "Map (num_proc=2):   2% 1000/61517 [00:00<00:45, 1328.92 examples/s]"
     ]
    },
    {
     "name": "stderr",
     "output_type": "stream",
     "text": [
      "\r",
      "Map (num_proc=2):   5% 3000/61517 [00:00<00:14, 3931.71 examples/s]"
     ]
    },
    {
     "name": "stderr",
     "output_type": "stream",
     "text": [
      "\r",
      "Map (num_proc=2):   8% 5000/61517 [00:01<00:09, 6009.38 examples/s]"
     ]
    },
    {
     "name": "stderr",
     "output_type": "stream",
     "text": [
      "\r",
      "Map (num_proc=2):  11% 7000/61517 [00:01<00:07, 7632.99 examples/s]"
     ]
    },
    {
     "name": "stderr",
     "output_type": "stream",
     "text": [
      "\r",
      "Map (num_proc=2):  15% 9000/61517 [00:01<00:05, 8906.57 examples/s]"
     ]
    },
    {
     "name": "stderr",
     "output_type": "stream",
     "text": [
      "\r",
      "Map (num_proc=2):  18% 11000/61517 [00:01<00:05, 9794.42 examples/s]"
     ]
    },
    {
     "name": "stderr",
     "output_type": "stream",
     "text": [
      "\r",
      "Map (num_proc=2):  21% 13000/61517 [00:01<00:04, 10640.57 examples/s]"
     ]
    },
    {
     "name": "stderr",
     "output_type": "stream",
     "text": [
      "\r",
      "Map (num_proc=2):  24% 15000/61517 [00:01<00:04, 10983.59 examples/s]"
     ]
    },
    {
     "name": "stderr",
     "output_type": "stream",
     "text": [
      "\r",
      "Map (num_proc=2):  28% 17000/61517 [00:02<00:03, 11378.58 examples/s]"
     ]
    },
    {
     "name": "stderr",
     "output_type": "stream",
     "text": [
      "\r",
      "Map (num_proc=2):  31% 19000/61517 [00:02<00:03, 11616.24 examples/s]"
     ]
    },
    {
     "name": "stderr",
     "output_type": "stream",
     "text": [
      "\r",
      "Map (num_proc=2):  34% 21000/61517 [00:02<00:03, 11703.99 examples/s]"
     ]
    },
    {
     "name": "stderr",
     "output_type": "stream",
     "text": [
      "\r",
      "Map (num_proc=2):  37% 23000/61517 [00:02<00:04, 8978.02 examples/s] "
     ]
    },
    {
     "name": "stderr",
     "output_type": "stream",
     "text": [
      "\r",
      "Map (num_proc=2):  41% 25000/61517 [00:02<00:03, 9929.72 examples/s]"
     ]
    },
    {
     "name": "stderr",
     "output_type": "stream",
     "text": [
      "\r",
      "Map (num_proc=2):  44% 27000/61517 [00:03<00:03, 10593.47 examples/s]"
     ]
    },
    {
     "name": "stderr",
     "output_type": "stream",
     "text": [
      "\r",
      "Map (num_proc=2):  47% 29000/61517 [00:03<00:02, 11115.19 examples/s]"
     ]
    },
    {
     "name": "stderr",
     "output_type": "stream",
     "text": [
      "\r",
      "Map (num_proc=2):  50% 31000/61517 [00:03<00:02, 11513.21 examples/s]"
     ]
    },
    {
     "name": "stderr",
     "output_type": "stream",
     "text": [
      "\r",
      "Map (num_proc=2):  54% 33000/61517 [00:03<00:02, 11654.10 examples/s]"
     ]
    },
    {
     "name": "stderr",
     "output_type": "stream",
     "text": [
      "\r",
      "Map (num_proc=2):  57% 35000/61517 [00:03<00:02, 11934.56 examples/s]"
     ]
    },
    {
     "name": "stderr",
     "output_type": "stream",
     "text": [
      "\r",
      "Map (num_proc=2):  60% 37000/61517 [00:03<00:02, 12044.00 examples/s]"
     ]
    },
    {
     "name": "stderr",
     "output_type": "stream",
     "text": [
      "\r",
      "Map (num_proc=2):  63% 39000/61517 [00:04<00:01, 12241.31 examples/s]"
     ]
    },
    {
     "name": "stderr",
     "output_type": "stream",
     "text": [
      "\r",
      "Map (num_proc=2):  67% 41000/61517 [00:04<00:01, 12197.36 examples/s]"
     ]
    },
    {
     "name": "stderr",
     "output_type": "stream",
     "text": [
      "\r",
      "Map (num_proc=2):  70% 43000/61517 [00:04<00:01, 12336.86 examples/s]"
     ]
    },
    {
     "name": "stderr",
     "output_type": "stream",
     "text": [
      "\r",
      "Map (num_proc=2):  73% 45000/61517 [00:04<00:01, 12400.50 examples/s]"
     ]
    },
    {
     "name": "stderr",
     "output_type": "stream",
     "text": [
      "\r",
      "Map (num_proc=2):  76% 47000/61517 [00:04<00:01, 12518.78 examples/s]"
     ]
    },
    {
     "name": "stderr",
     "output_type": "stream",
     "text": [
      "\r",
      "Map (num_proc=2):  80% 49000/61517 [00:04<00:00, 12571.95 examples/s]"
     ]
    },
    {
     "name": "stderr",
     "output_type": "stream",
     "text": [
      "\r",
      "Map (num_proc=2):  83% 51000/61517 [00:04<00:00, 12566.70 examples/s]"
     ]
    },
    {
     "name": "stderr",
     "output_type": "stream",
     "text": [
      "\r",
      "Map (num_proc=2):  86% 53000/61517 [00:05<00:00, 12623.37 examples/s]"
     ]
    },
    {
     "name": "stderr",
     "output_type": "stream",
     "text": [
      "\r",
      "Map (num_proc=2):  89% 55000/61517 [00:05<00:00, 12543.15 examples/s]"
     ]
    },
    {
     "name": "stderr",
     "output_type": "stream",
     "text": [
      "\r",
      "Map (num_proc=2):  93% 57000/61517 [00:05<00:00, 12306.58 examples/s]"
     ]
    },
    {
     "name": "stderr",
     "output_type": "stream",
     "text": [
      "\r",
      "Map (num_proc=2):  96% 59000/61517 [00:05<00:00, 12473.56 examples/s]"
     ]
    },
    {
     "name": "stderr",
     "output_type": "stream",
     "text": [
      "\r",
      "Map (num_proc=2):  99% 60758/61517 [00:05<00:00, 12998.67 examples/s]"
     ]
    },
    {
     "name": "stderr",
     "output_type": "stream",
     "text": [
      "\r",
      "                                                                     "
     ]
    },
    {
     "name": "stderr",
     "output_type": "stream",
     "text": [
      "\r"
     ]
    },
    {
     "name": "stderr",
     "output_type": "stream",
     "text": [
      "\r",
      "Map (num_proc=2):   0% 0/154047 [00:00<?, ? examples/s]"
     ]
    },
    {
     "name": "stderr",
     "output_type": "stream",
     "text": [
      "\r",
      "Map (num_proc=2):   1% 1000/154047 [00:06<16:47, 151.88 examples/s]"
     ]
    },
    {
     "name": "stderr",
     "output_type": "stream",
     "text": [
      "\r",
      "Map (num_proc=2):   1% 2000/154047 [00:09<10:31, 240.81 examples/s]"
     ]
    },
    {
     "name": "stderr",
     "output_type": "stream",
     "text": [
      "\r",
      "Map (num_proc=2):   2% 3000/154047 [00:09<06:35, 381.66 examples/s]"
     ]
    },
    {
     "name": "stderr",
     "output_type": "stream",
     "text": [
      "\r",
      "Map (num_proc=2):   3% 4000/154047 [00:11<05:53, 424.37 examples/s]"
     ]
    },
    {
     "name": "stderr",
     "output_type": "stream",
     "text": [
      "\r",
      "Map (num_proc=2):   3% 5000/154047 [00:13<04:54, 505.29 examples/s]"
     ]
    },
    {
     "name": "stderr",
     "output_type": "stream",
     "text": [
      "\r",
      "Map (num_proc=2):   4% 6000/154047 [00:15<05:09, 478.26 examples/s]"
     ]
    },
    {
     "name": "stderr",
     "output_type": "stream",
     "text": [
      "\r",
      "Map (num_proc=2):   5% 7000/154047 [00:16<04:03, 604.77 examples/s]"
     ]
    },
    {
     "name": "stderr",
     "output_type": "stream",
     "text": [
      "\r",
      "Map (num_proc=2):   5% 8000/154047 [00:18<04:34, 531.45 examples/s]"
     ]
    },
    {
     "name": "stderr",
     "output_type": "stream",
     "text": [
      "\r",
      "Map (num_proc=2):   6% 9000/154047 [00:18<03:25, 705.21 examples/s]"
     ]
    },
    {
     "name": "stderr",
     "output_type": "stream",
     "text": [
      "\r",
      "Map (num_proc=2):   6% 10000/154047 [00:21<04:22, 549.04 examples/s]"
     ]
    },
    {
     "name": "stderr",
     "output_type": "stream",
     "text": [
      "\r",
      "Map (num_proc=2):   7% 11000/154047 [00:22<03:16, 727.17 examples/s]"
     ]
    },
    {
     "name": "stderr",
     "output_type": "stream",
     "text": [
      "\r",
      "Map (num_proc=2):   8% 12000/154047 [00:25<04:32, 520.80 examples/s]"
     ]
    },
    {
     "name": "stderr",
     "output_type": "stream",
     "text": [
      "\r",
      "Map (num_proc=2):   8% 13000/154047 [00:25<03:30, 669.77 examples/s]"
     ]
    },
    {
     "name": "stderr",
     "output_type": "stream",
     "text": [
      "\r",
      "Map (num_proc=2):   9% 14000/154047 [00:28<04:39, 500.52 examples/s]"
     ]
    },
    {
     "name": "stderr",
     "output_type": "stream",
     "text": [
      "\r",
      "Map (num_proc=2):  10% 15000/154047 [00:29<03:29, 663.44 examples/s]"
     ]
    },
    {
     "name": "stderr",
     "output_type": "stream",
     "text": [
      "\r",
      "Map (num_proc=2):  10% 16000/154047 [00:32<04:27, 515.37 examples/s]"
     ]
    },
    {
     "name": "stderr",
     "output_type": "stream",
     "text": [
      "\r",
      "Map (num_proc=2):  11% 17000/154047 [00:32<03:24, 669.80 examples/s]"
     ]
    },
    {
     "name": "stderr",
     "output_type": "stream",
     "text": [
      "\r",
      "Map (num_proc=2):  12% 18000/154047 [00:35<04:19, 524.68 examples/s]"
     ]
    },
    {
     "name": "stderr",
     "output_type": "stream",
     "text": [
      "\r",
      "Map (num_proc=2):  12% 19000/154047 [00:36<03:29, 645.52 examples/s]"
     ]
    },
    {
     "name": "stderr",
     "output_type": "stream",
     "text": [
      "\r",
      "Map (num_proc=2):  13% 20000/154047 [00:39<04:25, 505.13 examples/s]"
     ]
    },
    {
     "name": "stderr",
     "output_type": "stream",
     "text": [
      "\r",
      "Map (num_proc=2):  14% 21000/154047 [00:39<03:16, 678.71 examples/s]"
     ]
    },
    {
     "name": "stderr",
     "output_type": "stream",
     "text": [
      "\r",
      "Map (num_proc=2):  14% 22000/154047 [00:42<04:00, 548.61 examples/s]"
     ]
    },
    {
     "name": "stderr",
     "output_type": "stream",
     "text": [
      "\r",
      "Map (num_proc=2):  15% 23000/154047 [00:42<03:07, 698.93 examples/s]"
     ]
    },
    {
     "name": "stderr",
     "output_type": "stream",
     "text": [
      "\r",
      "Map (num_proc=2):  16% 24000/154047 [00:45<03:56, 548.81 examples/s]"
     ]
    },
    {
     "name": "stderr",
     "output_type": "stream",
     "text": [
      "\r",
      "Map (num_proc=2):  16% 25000/154047 [00:46<03:26, 625.00 examples/s]"
     ]
    },
    {
     "name": "stderr",
     "output_type": "stream",
     "text": [
      "\r",
      "Map (num_proc=2):  17% 26000/154047 [00:49<04:09, 512.66 examples/s]"
     ]
    },
    {
     "name": "stderr",
     "output_type": "stream",
     "text": [
      "\r",
      "Map (num_proc=2):  18% 27000/154047 [00:49<03:15, 650.12 examples/s]"
     ]
    },
    {
     "name": "stderr",
     "output_type": "stream",
     "text": [
      "\r",
      "Map (num_proc=2):  18% 28000/154047 [00:52<03:49, 548.89 examples/s]"
     ]
    },
    {
     "name": "stderr",
     "output_type": "stream",
     "text": [
      "\r",
      "Map (num_proc=2):  19% 29000/154047 [00:53<03:09, 659.24 examples/s]"
     ]
    },
    {
     "name": "stderr",
     "output_type": "stream",
     "text": [
      "\r",
      "Map (num_proc=2):  19% 30000/154047 [00:55<03:50, 537.75 examples/s]"
     ]
    },
    {
     "name": "stderr",
     "output_type": "stream",
     "text": [
      "\r",
      "Map (num_proc=2):  20% 31000/154047 [00:55<02:47, 734.41 examples/s]"
     ]
    },
    {
     "name": "stderr",
     "output_type": "stream",
     "text": [
      "\r",
      "Map (num_proc=2):  21% 32000/154047 [00:58<03:44, 544.85 examples/s]"
     ]
    },
    {
     "name": "stderr",
     "output_type": "stream",
     "text": [
      "\r",
      "Map (num_proc=2):  21% 33000/154047 [00:59<02:47, 722.02 examples/s]"
     ]
    },
    {
     "name": "stderr",
     "output_type": "stream",
     "text": [
      "\r",
      "Map (num_proc=2):  22% 34000/154047 [01:02<03:48, 524.51 examples/s]"
     ]
    },
    {
     "name": "stderr",
     "output_type": "stream",
     "text": [
      "\r",
      "Map (num_proc=2):  23% 35000/154047 [01:03<03:04, 644.03 examples/s]"
     ]
    },
    {
     "name": "stderr",
     "output_type": "stream",
     "text": [
      "\r",
      "Map (num_proc=2):  23% 36000/154047 [01:05<03:28, 566.36 examples/s]"
     ]
    },
    {
     "name": "stderr",
     "output_type": "stream",
     "text": [
      "\r",
      "Map (num_proc=2):  24% 37000/154047 [01:06<03:01, 645.24 examples/s]"
     ]
    },
    {
     "name": "stderr",
     "output_type": "stream",
     "text": [
      "\r",
      "Map (num_proc=2):  25% 38000/154047 [01:08<03:23, 569.39 examples/s]"
     ]
    },
    {
     "name": "stderr",
     "output_type": "stream",
     "text": [
      "\r",
      "Map (num_proc=2):  25% 39000/154047 [01:09<02:57, 649.40 examples/s]"
     ]
    },
    {
     "name": "stderr",
     "output_type": "stream",
     "text": [
      "\r",
      "Map (num_proc=2):  26% 40000/154047 [01:12<03:47, 502.03 examples/s]"
     ]
    },
    {
     "name": "stderr",
     "output_type": "stream",
     "text": [
      "\r",
      "Map (num_proc=2):  27% 41000/154047 [01:13<02:49, 668.33 examples/s]"
     ]
    },
    {
     "name": "stderr",
     "output_type": "stream",
     "text": [
      "\r",
      "Map (num_proc=2):  27% 42000/154047 [01:15<03:33, 523.99 examples/s]"
     ]
    },
    {
     "name": "stderr",
     "output_type": "stream",
     "text": [
      "\r",
      "Map (num_proc=2):  28% 43000/154047 [01:16<02:43, 681.16 examples/s]"
     ]
    },
    {
     "name": "stderr",
     "output_type": "stream",
     "text": [
      "\r",
      "Map (num_proc=2):  29% 44000/154047 [01:19<03:40, 498.95 examples/s]"
     ]
    },
    {
     "name": "stderr",
     "output_type": "stream",
     "text": [
      "\r",
      "Map (num_proc=2):  29% 45000/154047 [01:19<02:39, 684.32 examples/s]"
     ]
    },
    {
     "name": "stderr",
     "output_type": "stream",
     "text": [
      "\r",
      "Map (num_proc=2):  30% 46000/154047 [01:22<03:20, 539.83 examples/s]"
     ]
    },
    {
     "name": "stderr",
     "output_type": "stream",
     "text": [
      "\r",
      "Map (num_proc=2):  31% 47000/154047 [01:23<02:44, 650.30 examples/s]"
     ]
    },
    {
     "name": "stderr",
     "output_type": "stream",
     "text": [
      "\r",
      "Map (num_proc=2):  31% 48000/154047 [01:25<03:13, 549.01 examples/s]"
     ]
    },
    {
     "name": "stderr",
     "output_type": "stream",
     "text": [
      "\r",
      "Map (num_proc=2):  32% 49000/154047 [01:26<02:44, 639.31 examples/s]"
     ]
    },
    {
     "name": "stderr",
     "output_type": "stream",
     "text": [
      "\r",
      "Map (num_proc=2):  32% 50000/154047 [01:29<03:05, 561.19 examples/s]"
     ]
    },
    {
     "name": "stderr",
     "output_type": "stream",
     "text": [
      "\r",
      "Map (num_proc=2):  33% 51000/154047 [01:29<02:35, 662.84 examples/s]"
     ]
    },
    {
     "name": "stderr",
     "output_type": "stream",
     "text": [
      "\r",
      "Map (num_proc=2):  34% 52000/154047 [01:32<02:58, 572.49 examples/s]"
     ]
    },
    {
     "name": "stderr",
     "output_type": "stream",
     "text": [
      "\r",
      "Map (num_proc=2):  34% 53000/154047 [01:33<02:42, 623.57 examples/s]"
     ]
    },
    {
     "name": "stderr",
     "output_type": "stream",
     "text": [
      "\r",
      "Map (num_proc=2):  35% 54000/154047 [01:35<02:47, 598.08 examples/s]"
     ]
    },
    {
     "name": "stderr",
     "output_type": "stream",
     "text": [
      "\r",
      "Map (num_proc=2):  36% 55000/154047 [01:36<02:35, 638.67 examples/s]"
     ]
    },
    {
     "name": "stderr",
     "output_type": "stream",
     "text": [
      "\r",
      "Map (num_proc=2):  36% 56000/154047 [01:38<02:41, 607.71 examples/s]"
     ]
    },
    {
     "name": "stderr",
     "output_type": "stream",
     "text": [
      "\r",
      "Map (num_proc=2):  37% 57000/154047 [01:40<02:46, 581.79 examples/s]"
     ]
    },
    {
     "name": "stderr",
     "output_type": "stream",
     "text": [
      "\r",
      "Map (num_proc=2):  38% 58000/154047 [01:41<02:29, 643.77 examples/s]"
     ]
    },
    {
     "name": "stderr",
     "output_type": "stream",
     "text": [
      "\r",
      "Map (num_proc=2):  38% 59000/154047 [01:43<02:45, 573.62 examples/s]"
     ]
    },
    {
     "name": "stderr",
     "output_type": "stream",
     "text": [
      "\r",
      "Map (num_proc=2):  39% 60000/154047 [01:44<02:26, 640.16 examples/s]"
     ]
    },
    {
     "name": "stderr",
     "output_type": "stream",
     "text": [
      "\r",
      "Map (num_proc=2):  40% 61000/154047 [01:47<02:44, 565.39 examples/s]"
     ]
    },
    {
     "name": "stderr",
     "output_type": "stream",
     "text": [
      "\r",
      "Map (num_proc=2):  40% 62000/154047 [01:48<02:38, 582.00 examples/s]"
     ]
    },
    {
     "name": "stderr",
     "output_type": "stream",
     "text": [
      "\r",
      "Map (num_proc=2):  41% 63000/154047 [01:50<02:35, 584.25 examples/s]"
     ]
    },
    {
     "name": "stderr",
     "output_type": "stream",
     "text": [
      "\r",
      "Map (num_proc=2):  42% 64000/154047 [01:51<02:22, 632.15 examples/s]"
     ]
    },
    {
     "name": "stderr",
     "output_type": "stream",
     "text": [
      "\r",
      "Map (num_proc=2):  42% 65000/154047 [01:53<02:32, 584.19 examples/s]"
     ]
    },
    {
     "name": "stderr",
     "output_type": "stream",
     "text": [
      "\r",
      "Map (num_proc=2):  43% 66000/154047 [01:55<02:21, 622.19 examples/s]"
     ]
    },
    {
     "name": "stderr",
     "output_type": "stream",
     "text": [
      "\r",
      "Map (num_proc=2):  43% 67000/154047 [01:57<02:42, 536.83 examples/s]"
     ]
    },
    {
     "name": "stderr",
     "output_type": "stream",
     "text": [
      "\r",
      "Map (num_proc=2):  44% 68000/154047 [01:58<02:08, 667.40 examples/s]"
     ]
    },
    {
     "name": "stderr",
     "output_type": "stream",
     "text": [
      "\r",
      "Map (num_proc=2):  45% 69000/154047 [02:00<02:33, 554.98 examples/s]"
     ]
    },
    {
     "name": "stderr",
     "output_type": "stream",
     "text": [
      "\r",
      "Map (num_proc=2):  45% 70000/154047 [02:01<02:07, 661.21 examples/s]"
     ]
    },
    {
     "name": "stderr",
     "output_type": "stream",
     "text": [
      "\r",
      "Map (num_proc=2):  46% 71000/154047 [02:04<02:44, 505.79 examples/s]"
     ]
    },
    {
     "name": "stderr",
     "output_type": "stream",
     "text": [
      "\r",
      "Map (num_proc=2):  47% 73000/154047 [02:08<02:29, 542.24 examples/s]"
     ]
    },
    {
     "name": "stderr",
     "output_type": "stream",
     "text": [
      "\r",
      "Map (num_proc=2):  48% 74000/154047 [02:08<01:54, 699.19 examples/s]"
     ]
    },
    {
     "name": "stderr",
     "output_type": "stream",
     "text": [
      "\r",
      "Map (num_proc=2):  49% 75000/154047 [02:11<02:28, 531.90 examples/s]"
     ]
    },
    {
     "name": "stderr",
     "output_type": "stream",
     "text": [
      "\r",
      "Map (num_proc=2):  49% 76000/154047 [02:11<01:51, 700.50 examples/s]"
     ]
    },
    {
     "name": "stderr",
     "output_type": "stream",
     "text": [
      "\r",
      "Map (num_proc=2):  50% 77000/154047 [02:14<02:25, 529.49 examples/s]"
     ]
    },
    {
     "name": "stderr",
     "output_type": "stream",
     "text": [
      "\r",
      "Map (num_proc=2):  51% 78000/154047 [02:15<01:54, 662.26 examples/s]"
     ]
    },
    {
     "name": "stderr",
     "output_type": "stream",
     "text": [
      "\r",
      "Map (num_proc=2):  51% 79000/154047 [02:18<02:22, 526.52 examples/s]"
     ]
    },
    {
     "name": "stderr",
     "output_type": "stream",
     "text": [
      "\r",
      "Map (num_proc=2):  52% 80000/154047 [02:18<01:43, 716.73 examples/s]"
     ]
    },
    {
     "name": "stderr",
     "output_type": "stream",
     "text": [
      "\r",
      "Map (num_proc=2):  53% 81000/154047 [02:21<02:20, 520.76 examples/s]"
     ]
    },
    {
     "name": "stderr",
     "output_type": "stream",
     "text": [
      "\r",
      "Map (num_proc=2):  53% 82000/154047 [02:21<01:43, 696.82 examples/s]"
     ]
    },
    {
     "name": "stderr",
     "output_type": "stream",
     "text": [
      "\r",
      "Map (num_proc=2):  54% 83000/154047 [02:24<02:12, 536.59 examples/s]"
     ]
    },
    {
     "name": "stderr",
     "output_type": "stream",
     "text": [
      "\r",
      "Map (num_proc=2):  55% 84000/154047 [02:25<01:51, 629.14 examples/s]"
     ]
    },
    {
     "name": "stderr",
     "output_type": "stream",
     "text": [
      "\r",
      "Map (num_proc=2):  55% 85000/154047 [02:27<01:58, 584.97 examples/s]"
     ]
    },
    {
     "name": "stderr",
     "output_type": "stream",
     "text": [
      "\r",
      "Map (num_proc=2):  56% 86000/154047 [02:29<01:52, 605.44 examples/s]"
     ]
    },
    {
     "name": "stderr",
     "output_type": "stream",
     "text": [
      "\r",
      "Map (num_proc=2):  56% 87000/154047 [02:30<01:49, 614.21 examples/s]"
     ]
    },
    {
     "name": "stderr",
     "output_type": "stream",
     "text": [
      "\r",
      "Map (num_proc=2):  57% 88000/154047 [02:32<01:47, 614.61 examples/s]"
     ]
    },
    {
     "name": "stderr",
     "output_type": "stream",
     "text": [
      "\r",
      "Map (num_proc=2):  58% 89000/154047 [02:34<01:53, 571.34 examples/s]"
     ]
    },
    {
     "name": "stderr",
     "output_type": "stream",
     "text": [
      "\r",
      "Map (num_proc=2):  58% 90000/154047 [02:35<01:35, 671.51 examples/s]"
     ]
    },
    {
     "name": "stderr",
     "output_type": "stream",
     "text": [
      "\r",
      "Map (num_proc=2):  59% 91000/154047 [02:37<01:44, 602.34 examples/s]"
     ]
    },
    {
     "name": "stderr",
     "output_type": "stream",
     "text": [
      "\r",
      "Map (num_proc=2):  60% 92000/154047 [02:38<01:30, 686.20 examples/s]"
     ]
    },
    {
     "name": "stderr",
     "output_type": "stream",
     "text": [
      "\r",
      "Map (num_proc=2):  60% 93000/154047 [02:40<01:43, 592.30 examples/s]"
     ]
    },
    {
     "name": "stderr",
     "output_type": "stream",
     "text": [
      "\r",
      "Map (num_proc=2):  61% 94000/154047 [02:41<01:29, 668.53 examples/s]"
     ]
    },
    {
     "name": "stderr",
     "output_type": "stream",
     "text": [
      "\r",
      "Map (num_proc=2):  62% 95000/154047 [02:43<01:38, 599.66 examples/s]"
     ]
    },
    {
     "name": "stderr",
     "output_type": "stream",
     "text": [
      "\r",
      "Map (num_proc=2):  62% 96000/154047 [02:44<01:30, 642.29 examples/s]"
     ]
    },
    {
     "name": "stderr",
     "output_type": "stream",
     "text": [
      "\r",
      "Map (num_proc=2):  63% 97000/154047 [02:47<01:42, 556.62 examples/s]"
     ]
    },
    {
     "name": "stderr",
     "output_type": "stream",
     "text": [
      "\r",
      "Map (num_proc=2):  64% 98000/154047 [02:48<01:24, 662.87 examples/s]"
     ]
    },
    {
     "name": "stderr",
     "output_type": "stream",
     "text": [
      "\r",
      "Map (num_proc=2):  64% 99000/154047 [02:50<01:36, 571.35 examples/s]"
     ]
    },
    {
     "name": "stderr",
     "output_type": "stream",
     "text": [
      "\r",
      "Map (num_proc=2):  65% 100000/154047 [02:51<01:18, 687.64 examples/s]"
     ]
    },
    {
     "name": "stderr",
     "output_type": "stream",
     "text": [
      "\r",
      "Map (num_proc=2):  66% 101000/154047 [02:53<01:33, 568.05 examples/s]"
     ]
    },
    {
     "name": "stderr",
     "output_type": "stream",
     "text": [
      "\r",
      "Map (num_proc=2):  66% 102000/154047 [02:54<01:20, 647.70 examples/s]"
     ]
    },
    {
     "name": "stderr",
     "output_type": "stream",
     "text": [
      "\r",
      "Map (num_proc=2):  67% 103000/154047 [02:56<01:27, 585.08 examples/s]"
     ]
    },
    {
     "name": "stderr",
     "output_type": "stream",
     "text": [
      "\r",
      "Map (num_proc=2):  68% 104000/154047 [02:58<01:20, 624.89 examples/s]"
     ]
    },
    {
     "name": "stderr",
     "output_type": "stream",
     "text": [
      "\r",
      "Map (num_proc=2):  68% 105000/154047 [02:59<01:21, 602.03 examples/s]"
     ]
    },
    {
     "name": "stderr",
     "output_type": "stream",
     "text": [
      "\r",
      "Map (num_proc=2):  69% 106000/154047 [03:00<01:11, 673.85 examples/s]"
     ]
    },
    {
     "name": "stderr",
     "output_type": "stream",
     "text": [
      "\r",
      "Map (num_proc=2):  69% 107000/154047 [03:03<01:20, 586.75 examples/s]"
     ]
    },
    {
     "name": "stderr",
     "output_type": "stream",
     "text": [
      "\r",
      "Map (num_proc=2):  70% 108000/154047 [03:04<01:11, 643.95 examples/s]"
     ]
    },
    {
     "name": "stderr",
     "output_type": "stream",
     "text": [
      "\r",
      "Map (num_proc=2):  71% 109000/154047 [03:06<01:16, 586.77 examples/s]"
     ]
    },
    {
     "name": "stderr",
     "output_type": "stream",
     "text": [
      "\r",
      "Map (num_proc=2):  71% 110000/154047 [03:07<01:13, 600.68 examples/s]"
     ]
    },
    {
     "name": "stderr",
     "output_type": "stream",
     "text": [
      "\r",
      "Map (num_proc=2):  72% 111000/154047 [03:09<01:06, 651.06 examples/s]"
     ]
    },
    {
     "name": "stderr",
     "output_type": "stream",
     "text": [
      "\r",
      "Map (num_proc=2):  73% 112000/154047 [03:11<01:15, 554.80 examples/s]"
     ]
    },
    {
     "name": "stderr",
     "output_type": "stream",
     "text": [
      "\r",
      "Map (num_proc=2):  73% 113000/154047 [03:13<01:10, 586.27 examples/s]"
     ]
    },
    {
     "name": "stderr",
     "output_type": "stream",
     "text": [
      "\r",
      "Map (num_proc=2):  74% 114000/154047 [03:14<01:06, 606.46 examples/s]"
     ]
    },
    {
     "name": "stderr",
     "output_type": "stream",
     "text": [
      "\r",
      "Map (num_proc=2):  75% 115000/154047 [03:16<01:04, 606.71 examples/s]"
     ]
    },
    {
     "name": "stderr",
     "output_type": "stream",
     "text": [
      "\r",
      "Map (num_proc=2):  75% 116000/154047 [03:18<01:09, 549.87 examples/s]"
     ]
    },
    {
     "name": "stderr",
     "output_type": "stream",
     "text": [
      "\r",
      "Map (num_proc=2):  76% 117000/154047 [03:19<01:01, 600.08 examples/s]"
     ]
    },
    {
     "name": "stderr",
     "output_type": "stream",
     "text": [
      "\r",
      "Map (num_proc=2):  77% 118000/154047 [03:21<01:02, 578.29 examples/s]"
     ]
    },
    {
     "name": "stderr",
     "output_type": "stream",
     "text": [
      "\r",
      "Map (num_proc=2):  77% 119000/154047 [03:23<01:01, 571.98 examples/s]"
     ]
    },
    {
     "name": "stderr",
     "output_type": "stream",
     "text": [
      "\r",
      "Map (num_proc=2):  78% 120000/154047 [03:24<00:52, 653.00 examples/s]"
     ]
    },
    {
     "name": "stderr",
     "output_type": "stream",
     "text": [
      "\r",
      "Map (num_proc=2):  79% 121000/154047 [03:26<00:57, 572.69 examples/s]"
     ]
    },
    {
     "name": "stderr",
     "output_type": "stream",
     "text": [
      "\r",
      "Map (num_proc=2):  79% 122000/154047 [03:27<00:50, 632.96 examples/s]"
     ]
    },
    {
     "name": "stderr",
     "output_type": "stream",
     "text": [
      "\r",
      "Map (num_proc=2):  80% 123000/154047 [03:30<00:54, 566.39 examples/s]"
     ]
    },
    {
     "name": "stderr",
     "output_type": "stream",
     "text": [
      "\r",
      "Map (num_proc=2):  80% 124000/154047 [03:31<00:51, 587.53 examples/s]"
     ]
    },
    {
     "name": "stderr",
     "output_type": "stream",
     "text": [
      "\r",
      "Map (num_proc=2):  81% 125000/154047 [03:33<00:49, 586.25 examples/s]"
     ]
    },
    {
     "name": "stderr",
     "output_type": "stream",
     "text": [
      "\r",
      "Map (num_proc=2):  82% 126000/154047 [03:35<00:48, 575.58 examples/s]"
     ]
    },
    {
     "name": "stderr",
     "output_type": "stream",
     "text": [
      "\r",
      "Map (num_proc=2):  82% 127000/154047 [03:36<00:46, 581.55 examples/s]"
     ]
    },
    {
     "name": "stderr",
     "output_type": "stream",
     "text": [
      "\r",
      "Map (num_proc=2):  83% 128000/154047 [03:37<00:40, 650.13 examples/s]"
     ]
    },
    {
     "name": "stderr",
     "output_type": "stream",
     "text": [
      "\r",
      "Map (num_proc=2):  84% 129000/154047 [03:40<00:43, 577.81 examples/s]"
     ]
    },
    {
     "name": "stderr",
     "output_type": "stream",
     "text": [
      "\r",
      "Map (num_proc=2):  84% 130000/154047 [03:41<00:37, 648.51 examples/s]"
     ]
    },
    {
     "name": "stderr",
     "output_type": "stream",
     "text": [
      "\r",
      "Map (num_proc=2):  85% 131000/154047 [03:43<00:42, 542.38 examples/s]"
     ]
    },
    {
     "name": "stderr",
     "output_type": "stream",
     "text": [
      "\r",
      "Map (num_proc=2):  86% 132000/154047 [03:44<00:31, 703.58 examples/s]"
     ]
    },
    {
     "name": "stderr",
     "output_type": "stream",
     "text": [
      "\r",
      "Map (num_proc=2):  86% 133000/154047 [03:46<00:37, 563.72 examples/s]"
     ]
    },
    {
     "name": "stderr",
     "output_type": "stream",
     "text": [
      "\r",
      "Map (num_proc=2):  87% 134000/154047 [03:47<00:28, 709.70 examples/s]"
     ]
    },
    {
     "name": "stderr",
     "output_type": "stream",
     "text": [
      "\r",
      "Map (num_proc=2):  88% 135000/154047 [03:50<00:35, 535.33 examples/s]"
     ]
    },
    {
     "name": "stderr",
     "output_type": "stream",
     "text": [
      "\r",
      "Map (num_proc=2):  88% 136000/154047 [03:50<00:26, 679.05 examples/s]"
     ]
    },
    {
     "name": "stderr",
     "output_type": "stream",
     "text": [
      "\r",
      "Map (num_proc=2):  89% 137000/154047 [03:53<00:31, 543.28 examples/s]"
     ]
    },
    {
     "name": "stderr",
     "output_type": "stream",
     "text": [
      "\r",
      "Map (num_proc=2):  90% 138000/154047 [03:54<00:24, 666.47 examples/s]"
     ]
    },
    {
     "name": "stderr",
     "output_type": "stream",
     "text": [
      "\r",
      "Map (num_proc=2):  90% 139000/154047 [03:56<00:26, 577.15 examples/s]"
     ]
    },
    {
     "name": "stderr",
     "output_type": "stream",
     "text": [
      "\r",
      "Map (num_proc=2):  91% 140000/154047 [03:57<00:20, 683.44 examples/s]"
     ]
    },
    {
     "name": "stderr",
     "output_type": "stream",
     "text": [
      "\r",
      "Map (num_proc=2):  92% 141000/154047 [04:00<00:24, 529.14 examples/s]"
     ]
    },
    {
     "name": "stderr",
     "output_type": "stream",
     "text": [
      "\r",
      "Map (num_proc=2):  92% 142000/154047 [04:00<00:17, 705.26 examples/s]"
     ]
    },
    {
     "name": "stderr",
     "output_type": "stream",
     "text": [
      "\r",
      "Map (num_proc=2):  93% 143000/154047 [04:03<00:20, 529.97 examples/s]"
     ]
    },
    {
     "name": "stderr",
     "output_type": "stream",
     "text": [
      "\r",
      "Map (num_proc=2):  93% 144000/154047 [04:04<00:16, 626.03 examples/s]"
     ]
    },
    {
     "name": "stderr",
     "output_type": "stream",
     "text": [
      "\r",
      "Map (num_proc=2):  94% 145000/154047 [04:06<00:16, 544.21 examples/s]"
     ]
    },
    {
     "name": "stderr",
     "output_type": "stream",
     "text": [
      "\r",
      "Map (num_proc=2):  95% 146000/154047 [04:08<00:12, 619.15 examples/s]"
     ]
    },
    {
     "name": "stderr",
     "output_type": "stream",
     "text": [
      "\r",
      "Map (num_proc=2):  95% 147000/154047 [04:10<00:12, 562.08 examples/s]"
     ]
    },
    {
     "name": "stderr",
     "output_type": "stream",
     "text": [
      "\r",
      "Map (num_proc=2):  96% 148000/154047 [04:10<00:08, 686.25 examples/s]"
     ]
    },
    {
     "name": "stderr",
     "output_type": "stream",
     "text": [
      "\r",
      "Map (num_proc=2):  97% 149000/154047 [04:13<00:09, 511.44 examples/s]"
     ]
    },
    {
     "name": "stderr",
     "output_type": "stream",
     "text": [
      "\r",
      "Map (num_proc=2):  97% 150000/154047 [04:14<00:05, 696.08 examples/s]"
     ]
    },
    {
     "name": "stderr",
     "output_type": "stream",
     "text": [
      "\r",
      "Map (num_proc=2):  98% 151000/154047 [04:17<00:05, 523.09 examples/s]"
     ]
    },
    {
     "name": "stderr",
     "output_type": "stream",
     "text": [
      "\r",
      "Map (num_proc=2):  99% 152000/154047 [04:17<00:02, 688.50 examples/s]"
     ]
    },
    {
     "name": "stderr",
     "output_type": "stream",
     "text": [
      "\r",
      "Map (num_proc=2):  99% 153024/154047 [04:20<00:01, 555.19 examples/s]"
     ]
    },
    {
     "name": "stderr",
     "output_type": "stream",
     "text": [
      "\r",
      "Map (num_proc=2): 100% 154024/154047 [04:23<00:00, 447.40 examples/s]"
     ]
    },
    {
     "name": "stderr",
     "output_type": "stream",
     "text": [
      "\r",
      "                                                                     "
     ]
    },
    {
     "name": "stderr",
     "output_type": "stream",
     "text": [
      "\r"
     ]
    }
   ],
   "source": [
    "topics_tokenized_df, contents_tokenized_df = ranker_tokenize_main(auto_tokenizer, topics_df.copy(),  contents_df.copy(), max_length = 64)"
   ]
  },
  {
   "cell_type": "code",
   "execution_count": 7,
   "id": "7fd44b0d-b40c-4126-94c0-64be5114071b",
   "metadata": {
    "collapsed": false
   },
   "outputs": [],
   "source": [
    "topics_tokenized_df.to_parquet(topics_tokenized_pq_file)\n",
    "contents_tokenized_df.to_parquet(contents_tokenized_pq_file)"
   ]
  }
 ],
 "metadata": {
  "kernelspec": {
   "argv": [
    "/home/mahesh/Desktop/ML/kaggle/LearningEquality/learning-equality-code/le-venv/bin/python3",
    "-m",
    "ipykernel_launcher",
    "-f",
    "{connection_file}"
   ],
   "display_name": "le-venv",
   "env": null,
   "interrupt_mode": "signal",
   "language": "python",
   "metadata": {
    "debugger": true
   },
   "name": "le-venv"
  },
  "name": "ranker_feature_engineering.ipynb"
 },
 "nbformat": 4,
 "nbformat_minor": 5
}
