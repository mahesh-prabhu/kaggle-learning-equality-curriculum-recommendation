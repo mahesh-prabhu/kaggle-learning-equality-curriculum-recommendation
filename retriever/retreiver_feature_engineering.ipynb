{
 "cells": [
  {
   "cell_type": "code",
   "execution_count": 8,
   "id": "c0b6a793-b720-4e19-9a19-ef581f1e800a",
   "metadata": {
    "collapsed": false
   },
   "outputs": [],
   "source": [
    "TESTING_SUBSET = False  # ***** FOR TESTING ONLY !!!!!!!! ******\n",
    "\n",
    "import sys\n",
    "IN_COLAB = 'google.colab' in sys.modules"
   ]
  },
  {
   "cell_type": "code",
   "execution_count": 94,
   "id": "18dca431-bc35-4866-b815-bed3d66a243d",
   "metadata": {
    "collapsed": false
   },
   "outputs": [
    {
     "name": "stdout",
     "output_type": "stream",
     "text": [
      "env: CUBLAS_WORKSPACE_CONFIG=:16:8\n",
      "cuda\n"
     ]
    }
   ],
   "source": [
    "import datetime\n",
    "import numpy as np\n",
    "from sklearn.metrics import fbeta_score\n",
    "from matplotlib import pyplot as plt\n",
    "import math\n",
    "import pandas as pd\n",
    "import sys\n",
    "import json\n",
    "import time\n",
    "import torch\n",
    "from torch import nn\n",
    "import random\n",
    "#from tqdm.auto import tqdm\n",
    "from tqdm import tqdm\n",
    "from torch.utils.data import DataLoader\n",
    "from datasets import Dataset\n",
    "import os\n",
    "import torchsummary\n",
    "from functools import partialmethod\n",
    "from itertools import product\n",
    "\n",
    "from transformers import AutoTokenizer, AutoModel\n",
    "from dataclasses import dataclass\n",
    "from transformers import PreTrainedTokenizer\n",
    "from torch.utils.data import DataLoader\n",
    "\n",
    "if IN_COLAB:\n",
    "  sys.path.append('/content/drive/MyDrive/ML/lecr/code/')\n",
    "\n",
    "from l_utils import *\n",
    "from model_utils import *\n",
    "from fe_utils import *\n",
    "\n",
    "#from model_defs import Topic_NN, Content_NN\n",
    "\n",
    "%env CUBLAS_WORKSPACE_CONFIG=:16:8\n",
    "\n",
    "device = \"cuda\" if torch.cuda.is_available() else \"cpu\"\n",
    "print(device)\n",
    "\n",
    "if IN_COLAB:\n",
    "    class CFG:\n",
    "        # MODEL = \"sentence-transformers/paraphrase-multilingual-MiniLM-L12-v2\"\n",
    "        MODEL = \"sentence-transformers/distiluse-base-multilingual-cased-v2\"\n",
    "        DIRNAME_PROCESSED_DATA = '/content/drive/MyDrive/ML/lecr/data/'\n",
    "        FILENAME_DATA_CONTENT_F = DIRNAME_PROCESSED_DATA + \"content.f\"\n",
    "        FILENAME_DATA_TOPICS_F = DIRNAME_PROCESSED_DATA + \"topics.f\"\n",
    "        FILENAME_DATA_CORRELATIONS_CSV = DIRNAME_PROCESSED_DATA + \"correlations.csv\"\n",
    "        NUM_FOLDS = 5\n",
    "        SAVE_MODEL_DIR = DIRNAME_PROCESSED_DATA + \"/models/\"\n",
    "else:\n",
    "    from cfg import *\n",
    "    \n",
    "# topics_tokenized_pq_file = CFG.DIRNAME_PROCESSED_DATA + \"topics_tokenized.pq\"\n",
    "# contents_tokenized_pq_file = CFG.DIRNAME_PROCESSED_DATA + \"contents_tokenized.pq\"\n",
    "\n",
    "topics_tokenized_pq_file = CFG.DIRNAME_PROCESSED_DATA + \"topics_tokenized_ml64_dist.pq\"\n",
    "contents_tokenized_pq_file = CFG.DIRNAME_PROCESSED_DATA + \"contents_tokenized_ml64_dist.pq\""
   ]
  },
  {
   "cell_type": "code",
   "execution_count": 10,
   "id": "e86e620b-8378-4cfd-9e7f-b916b1e525b8",
   "metadata": {
    "collapsed": false
   },
   "outputs": [],
   "source": [
    "def progress_bar_control(show_progress_bars = True):\n",
    "    tqdm.__init__ = partialmethod(tqdm.__init__, disable=(not show_progress_bars))"
   ]
  },
  {
   "cell_type": "code",
   "execution_count": null,
   "id": "9a583c4c-67f5-403a-b268-c37983c5ae7e",
   "metadata": {
    "collapsed": false
   },
   "outputs": [],
   "source": [
    "auto_tokenizer = AutoTokenizer.from_pretrained(CFG.MODEL)"
   ]
  },
  {
   "cell_type": "code",
   "execution_count": null,
   "id": "9c2cf77c-7943-41ac-a9ba-a48155965e6c",
   "metadata": {
    "collapsed": false
   },
   "outputs": [],
   "source": [
    "contents_df = pd.read_feather(CFG.FILENAME_DATA_CONTENT_F)\n",
    "topics_df   = pd.read_feather(CFG.FILENAME_DATA_TOPICS_F)\n",
    "correlations_df =  pd.read_csv(CFG.FILENAME_DATA_CORRELATIONS_CSV)"
   ]
  },
  {
   "cell_type": "code",
   "execution_count": 137,
   "id": "779a68ac-5770-48a6-8231-e45045dd2901",
   "metadata": {
    "collapsed": false
   },
   "outputs": [],
   "source": [
    "def tokenize_main(tokenizer, topics_df, contents_df, topics_tokenized_pq_file, contents_tokenized_pq_file, max_length, debug = False, show_progress_bars=True):\n",
    "    \n",
    "    progress_bar_control(show_progress_bars)\n",
    "    \n",
    "    tokenize_df_and_write_to_parquet(tokenizer, retreiver_topics_FE, topics_df, text_cols = ['combined'], col_prefix = \"t_\", max_length = max_length, tokenized_ds_name = topics_tokenized_pq_file, debug = debug, post_process_df = None)\n",
    "\n",
    "    tokenize_df_and_write_to_parquet(tokenizer, retreiver_contents_FE, contents_df, text_cols = ['combined'], col_prefix = \"c_\", max_length = max_length, tokenized_ds_name = contents_tokenized_pq_file, debug = debug)\n"
   ]
  },
  {
   "cell_type": "code",
   "execution_count": 138,
   "id": "de0cbb33-a8bc-4c5a-80af-30e5cc71097f",
   "metadata": {
    "collapsed": false
   },
   "outputs": [
    {
     "name": "stderr",
     "output_type": "stream",
     "text": [
      "\r",
      "Map (num_proc=2):   0% 0/61517 [00:00<?, ? examples/s]"
     ]
    },
    {
     "name": "stderr",
     "output_type": "stream",
     "text": [
      "\r",
      "Map (num_proc=2):   2% 1000/61517 [00:00<00:45, 1322.69 examples/s]"
     ]
    },
    {
     "name": "stderr",
     "output_type": "stream",
     "text": [
      "\r",
      "Map (num_proc=2):   5% 3000/61517 [00:00<00:14, 3902.84 examples/s]"
     ]
    },
    {
     "name": "stderr",
     "output_type": "stream",
     "text": [
      "\r",
      "Map (num_proc=2):   8% 5000/61517 [00:01<00:09, 6030.90 examples/s]"
     ]
    },
    {
     "name": "stderr",
     "output_type": "stream",
     "text": [
      "\r",
      "Map (num_proc=2):  11% 7000/61517 [00:01<00:07, 7685.93 examples/s]"
     ]
    },
    {
     "name": "stderr",
     "output_type": "stream",
     "text": [
      "\r",
      "Map (num_proc=2):  15% 9000/61517 [00:01<00:05, 9059.60 examples/s]"
     ]
    },
    {
     "name": "stderr",
     "output_type": "stream",
     "text": [
      "\r",
      "Map (num_proc=2):  18% 11000/61517 [00:01<00:05, 9960.60 examples/s]"
     ]
    },
    {
     "name": "stderr",
     "output_type": "stream",
     "text": [
      "\r",
      "Map (num_proc=2):  21% 13000/61517 [00:02<00:08, 5616.17 examples/s]"
     ]
    },
    {
     "name": "stderr",
     "output_type": "stream",
     "text": [
      "\r",
      "Map (num_proc=2):  24% 15000/61517 [00:02<00:06, 6782.35 examples/s]"
     ]
    },
    {
     "name": "stderr",
     "output_type": "stream",
     "text": [
      "\r",
      "Map (num_proc=2):  28% 17000/61517 [00:02<00:05, 7966.03 examples/s]"
     ]
    },
    {
     "name": "stderr",
     "output_type": "stream",
     "text": [
      "\r",
      "Map (num_proc=2):  31% 19000/61517 [00:02<00:04, 9015.26 examples/s]"
     ]
    },
    {
     "name": "stderr",
     "output_type": "stream",
     "text": [
      "\r",
      "Map (num_proc=2):  34% 21000/61517 [00:02<00:04, 9923.04 examples/s]"
     ]
    },
    {
     "name": "stderr",
     "output_type": "stream",
     "text": [
      "\r",
      "Map (num_proc=2):  37% 23000/61517 [00:03<00:03, 10671.62 examples/s]"
     ]
    },
    {
     "name": "stderr",
     "output_type": "stream",
     "text": [
      "\r",
      "Map (num_proc=2):  41% 25000/61517 [00:03<00:03, 11321.50 examples/s]"
     ]
    },
    {
     "name": "stderr",
     "output_type": "stream",
     "text": [
      "\r",
      "Map (num_proc=2):  44% 27000/61517 [00:03<00:02, 11806.17 examples/s]"
     ]
    },
    {
     "name": "stderr",
     "output_type": "stream",
     "text": [
      "\r",
      "Map (num_proc=2):  47% 29000/61517 [00:03<00:02, 12017.75 examples/s]"
     ]
    },
    {
     "name": "stderr",
     "output_type": "stream",
     "text": [
      "\r",
      "Map (num_proc=2):  50% 31000/61517 [00:03<00:02, 12053.26 examples/s]"
     ]
    },
    {
     "name": "stderr",
     "output_type": "stream",
     "text": [
      "\r",
      "Map (num_proc=2):  54% 33000/61517 [00:03<00:02, 12500.29 examples/s]"
     ]
    },
    {
     "name": "stderr",
     "output_type": "stream",
     "text": [
      "\r",
      "Map (num_proc=2):  57% 35000/61517 [00:03<00:02, 12367.60 examples/s]"
     ]
    },
    {
     "name": "stderr",
     "output_type": "stream",
     "text": [
      "\r",
      "Map (num_proc=2):  60% 37000/61517 [00:04<00:02, 12058.86 examples/s]"
     ]
    },
    {
     "name": "stderr",
     "output_type": "stream",
     "text": [
      "\r",
      "Map (num_proc=2):  63% 39000/61517 [00:04<00:01, 12285.62 examples/s]"
     ]
    },
    {
     "name": "stderr",
     "output_type": "stream",
     "text": [
      "\r",
      "Map (num_proc=2):  67% 41000/61517 [00:04<00:01, 12438.49 examples/s]"
     ]
    },
    {
     "name": "stderr",
     "output_type": "stream",
     "text": [
      "\r",
      "Map (num_proc=2):  70% 43000/61517 [00:04<00:01, 12568.41 examples/s]"
     ]
    },
    {
     "name": "stderr",
     "output_type": "stream",
     "text": [
      "\r",
      "Map (num_proc=2):  73% 45000/61517 [00:04<00:01, 12597.26 examples/s]"
     ]
    },
    {
     "name": "stderr",
     "output_type": "stream",
     "text": [
      "\r",
      "Map (num_proc=2):  76% 47000/61517 [00:04<00:01, 12510.20 examples/s]"
     ]
    },
    {
     "name": "stderr",
     "output_type": "stream",
     "text": [
      "\r",
      "Map (num_proc=2):  80% 49000/61517 [00:05<00:00, 12527.79 examples/s]"
     ]
    },
    {
     "name": "stderr",
     "output_type": "stream",
     "text": [
      "\r",
      "Map (num_proc=2):  83% 51000/61517 [00:05<00:00, 12504.83 examples/s]"
     ]
    },
    {
     "name": "stderr",
     "output_type": "stream",
     "text": [
      "\r",
      "Map (num_proc=2):  86% 53000/61517 [00:05<00:00, 12666.86 examples/s]"
     ]
    },
    {
     "name": "stderr",
     "output_type": "stream",
     "text": [
      "\r",
      "Map (num_proc=2):  89% 55000/61517 [00:05<00:00, 12746.72 examples/s]"
     ]
    },
    {
     "name": "stderr",
     "output_type": "stream",
     "text": [
      "\r",
      "Map (num_proc=2):  93% 57000/61517 [00:05<00:00, 12847.21 examples/s]"
     ]
    },
    {
     "name": "stderr",
     "output_type": "stream",
     "text": [
      "\r",
      "Map (num_proc=2):  96% 59000/61517 [00:05<00:00, 12889.48 examples/s]"
     ]
    },
    {
     "name": "stderr",
     "output_type": "stream",
     "text": [
      "\r",
      "Map (num_proc=2):  99% 60759/61517 [00:05<00:00, 13203.38 examples/s]"
     ]
    },
    {
     "name": "stderr",
     "output_type": "stream",
     "text": [
      "\r",
      "                                                                     "
     ]
    },
    {
     "name": "stderr",
     "output_type": "stream",
     "text": [
      "\r"
     ]
    },
    {
     "name": "stderr",
     "output_type": "stream",
     "text": [
      "\r",
      "Creating parquet from Arrow format:   0% 0/62 [00:00<?, ?ba/s]"
     ]
    },
    {
     "name": "stderr",
     "output_type": "stream",
     "text": [
      "\r",
      "Creating parquet from Arrow format:  66% 41/62 [00:00<00:00, 409.08ba/s]"
     ]
    },
    {
     "name": "stderr",
     "output_type": "stream",
     "text": [
      "\r",
      "Creating parquet from Arrow format: 100% 62/62 [00:00<00:00, 410.45ba/s]"
     ]
    },
    {
     "name": "stderr",
     "output_type": "stream",
     "text": [
      "\n"
     ]
    }
   ],
   "source": [
    "# if (not(os.path.exists(topics_tokenized_pq_file) and os.path.exists(contents_tokenized_pq_file))):\n",
    "tokenize_main(auto_tokenizer, topics_df.copy(),  contents_df.copy(), topics_tokenized_pq_file, contents_tokenized_pq_file, max_length = 64)\n",
    "topics_tokenized_df   = pd.read_parquet(topics_tokenized_pq_file)\n",
    "contents_tokenized_df = pd.read_parquet(contents_tokenized_pq_file)"
   ]
  },
  {
   "cell_type": "code",
   "execution_count": 63,
   "id": "95167da7-530a-42f5-b1e5-9087797c9212",
   "metadata": {
    "collapsed": false
   },
   "outputs": [
    {
     "name": "stdout",
     "output_type": "stream",
     "text": [
      "<class 'pandas.core.frame.DataFrame'>\n",
      "RangeIndex: 61517 entries, 0 to 61516\n",
      "Data columns (total 3 columns):\n",
      " #   Column              Non-Null Count  Dtype \n",
      "---  ------              --------------  ----- \n",
      " 0   id                  61517 non-null  object\n",
      " 1   t_0_input_ids       61517 non-null  object\n",
      " 2   t_1_attention_mask  61517 non-null  object\n",
      "dtypes: object(3)\n",
      "memory usage: 1.4+ MB\n"
     ]
    }
   ],
   "source": [
    "topics_tokenized_df.info()"
   ]
  },
  {
   "cell_type": "code",
   "execution_count": 128,
   "id": "5896474a-b459-4eaf-a2cd-1259dd9b83dc",
   "metadata": {
    "collapsed": false
   },
   "outputs": [],
   "source": [
    "SEP_TOKEN = auto_tokenizer.sep_token\n",
    "SEP_TOKEN_ENCODING = 2\n",
    "UNK_TOKEN_ENCODING = 3\n",
    "CLS_TOKEN_ENCODING = 0\n",
    "def count_sep(l):\n",
    "    count = 0\n",
    "    length = len(l)\n",
    "    for i, item in enumerate(l):\n",
    "        if item == SEP_TOKEN_ENCODING:\n",
    "            if (i+1 < length and (l[i+1] == CLS_TOKEN_ENCODING)):\n",
    "                count += 1\n",
    "    return count\n",
    "        "
   ]
  },
  {
   "cell_type": "code",
   "execution_count": 134,
   "id": "efcabb6c-7391-4953-bd67-25ab9bd839a2",
   "metadata": {
    "collapsed": false
   },
   "outputs": [
    {
     "data": {
      "text/plain": [
       "3    42086\n",
       "2    11779\n",
       "1     7651\n",
       "0        1\n",
       "Name: combined_sep_count, dtype: int64"
      ]
     },
     "execution_count": 134,
     "metadata": {},
     "output_type": "execute_result"
    }
   ],
   "source": [
    "topics_tokenized_df['combined_sep_count'] = topics_tokenized_df['t_0_input_ids'].apply(lambda l: count_sep(l))\n",
    "topics_tokenized_df['combined_sep_count'].value_counts()"
   ]
  },
  {
   "cell_type": "code",
   "execution_count": 136,
   "id": "57ce5895-f768-4f72-9af9-c9155e43aca5",
   "metadata": {
    "collapsed": false
   },
   "outputs": [
    {
     "data": {
      "text/plain": [
       "3    76045\n",
       "2    65852\n",
       "1    12147\n",
       "0        3\n",
       "Name: combined_sep_count, dtype: int64"
      ]
     },
     "execution_count": 136,
     "metadata": {},
     "output_type": "execute_result"
    }
   ],
   "source": [
    "contents_tokenized_df['combined_sep_count'] = contents_tokenized_df['c_0_input_ids'].apply(lambda l: count_sep(l))\n",
    "contents_tokenized_df['combined_sep_count'].value_counts()"
   ]
  },
  {
   "cell_type": "code",
   "execution_count": 65,
   "id": "e8c3ed23-17aa-493a-b860-0660805ed7d5",
   "metadata": {
    "collapsed": false
   },
   "outputs": [],
   "source": [
    "# topics_tokenized_df[['t_0_input_ids']][0:10]\n",
    "l = list(topics_df[['title']][0:10].values.tolist())"
   ]
  },
  {
   "cell_type": "code",
   "execution_count": 66,
   "id": "1763d1ea-905c-4430-b85b-cf8ecdfb7553",
   "metadata": {
    "collapsed": false
   },
   "outputs": [
    {
     "data": {
      "text/plain": [
       "['Откриването на резисторите',\n",
       " 'Unit 3.3 Enlargements and Similarities',\n",
       " 'Entradas e saídas de uma função',\n",
       " 'Transcripts',\n",
       " 'Графики на експоненциални функции (Алгебра 2 ниво)',\n",
       " '100 સુધીનો સરવાળો',\n",
       " '12. 20: Bird Reproduction',\n",
       " 'Nepal',\n",
       " '2.1.2 - Logarithms',\n",
       " 'As vacinas']"
      ]
     },
     "execution_count": 66,
     "metadata": {},
     "output_type": "execute_result"
    }
   ],
   "source": [
    "l = flatten_l(l)\n",
    "l"
   ]
  },
  {
   "cell_type": "code",
   "execution_count": 67,
   "id": "f845c49d-5c47-43f7-8d32-13a2efaefa99",
   "metadata": {
    "collapsed": false
   },
   "outputs": [],
   "source": [
    "encoded_input = auto_tokenizer(l, padding=True, truncation=True, return_tensors='pt')"
   ]
  },
  {
   "cell_type": "code",
   "execution_count": 68,
   "id": "15a4d860-451d-4e1d-93b9-cd1240f582ab",
   "metadata": {
    "collapsed": false
   },
   "outputs": [
    {
     "data": {
      "text/plain": [
       "tensor([     0,   3858,  18229,  16317,     29,      6, 150652,  61056,    226,\n",
       "             2,      1,      1,      1,      1,      1,      1,      1])"
      ]
     },
     "execution_count": 68,
     "metadata": {},
     "output_type": "execute_result"
    }
   ],
   "source": [
    "encoded_input['input_ids'][0]"
   ]
  },
  {
   "cell_type": "code",
   "execution_count": 78,
   "id": "41961f7f-14fb-4c68-92a9-a0867c1f8920",
   "metadata": {
    "collapsed": false
   },
   "outputs": [
    {
     "data": {
      "text/plain": [
       "PreTrainedTokenizerFast(name_or_path='sentence-transformers/paraphrase-multilingual-MiniLM-L12-v2', vocab_size=250002, model_max_len=512, is_fast=True, padding_side='right', truncation_side='right', special_tokens={'bos_token': '<s>', 'eos_token': '</s>', 'unk_token': '<unk>', 'sep_token': '</s>', 'pad_token': '<pad>', 'cls_token': '<s>', 'mask_token': AddedToken(\"<mask>\", rstrip=False, lstrip=True, single_word=False, normalized=False)})"
      ]
     },
     "execution_count": 78,
     "metadata": {},
     "output_type": "execute_result"
    }
   ],
   "source": [
    "auto_tokenizer"
   ]
  }
 ],
 "metadata": {
  "kernelspec": {
   "argv": [
    "/home/mahesh/Desktop/ML/kaggle/LearningEquality/learning-equality-code/le-venv/bin/python3",
    "-m",
    "ipykernel_launcher",
    "-f",
    "{connection_file}"
   ],
   "display_name": "le-venv",
   "env": null,
   "interrupt_mode": "signal",
   "language": "python",
   "metadata": {
    "debugger": true
   },
   "name": "le-venv"
  },
  "name": "retreiver_feature_engineering.ipynb"
 },
 "nbformat": 4,
 "nbformat_minor": 5
}
