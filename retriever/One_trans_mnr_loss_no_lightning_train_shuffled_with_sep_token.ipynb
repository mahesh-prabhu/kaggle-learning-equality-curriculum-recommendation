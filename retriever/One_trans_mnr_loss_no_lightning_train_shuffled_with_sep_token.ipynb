{
 "cells": [
  {
   "cell_type": "code",
   "execution_count": 1,
   "id": "c6d49be5-752f-4da3-acd9-9d5bba3820cd",
   "metadata": {
    "collapsed": false,
    "id": "c6d49be5-752f-4da3-acd9-9d5bba3820cd"
   },
   "outputs": [],
   "source": [
    "TESTING_SUBSET = False  # ***** FOR TESTING ONLY !!!!!!!! ******"
   ]
  },
  {
   "cell_type": "code",
   "execution_count": 2,
   "id": "sv02pJISHp8W",
   "metadata": {
    "colab": {
     "base_uri": "https://localhost:8080/"
    },
    "collapsed": false,
    "id": "sv02pJISHp8W",
    "outputId": "fba58501-175d-495e-b861-96605f1c05cd"
   },
   "outputs": [
    {
     "name": "stdout",
     "output_type": "stream",
     "text": [
      "Drive already mounted at /content/drive; to attempt to forcibly remount, call drive.mount(\"/content/drive\", force_remount=True).\n",
      "Looking in indexes: https://pypi.org/simple, https://us-python.pkg.dev/colab-wheels/public/simple/\n",
      "Requirement already satisfied: transformers in /usr/local/lib/python3.9/dist-packages (4.27.3)\n",
      "Requirement already satisfied: filelock in /usr/local/lib/python3.9/dist-packages (from transformers) (3.10.1)\n",
      "Requirement already satisfied: requests in /usr/local/lib/python3.9/dist-packages (from transformers) (2.27.1)\n",
      "Requirement already satisfied: regex!=2019.12.17 in /usr/local/lib/python3.9/dist-packages (from transformers) (2022.10.31)\n",
      "Requirement already satisfied: pyyaml>=5.1 in /usr/local/lib/python3.9/dist-packages (from transformers) (6.0)\n",
      "Requirement already satisfied: huggingface-hub<1.0,>=0.11.0 in /usr/local/lib/python3.9/dist-packages (from transformers) (0.13.3)\n",
      "Requirement already satisfied: tqdm>=4.27 in /usr/local/lib/python3.9/dist-packages (from transformers) (4.65.0)\n",
      "Requirement already satisfied: packaging>=20.0 in /usr/local/lib/python3.9/dist-packages (from transformers) (23.0)\n",
      "Requirement already satisfied: tokenizers!=0.11.3,<0.14,>=0.11.1 in /usr/local/lib/python3.9/dist-packages (from transformers) (0.13.2)\n",
      "Requirement already satisfied: numpy>=1.17 in /usr/local/lib/python3.9/dist-packages (from transformers) (1.22.4)\n",
      "Requirement already satisfied: typing-extensions>=3.7.4.3 in /usr/local/lib/python3.9/dist-packages (from huggingface-hub<1.0,>=0.11.0->transformers) (4.5.0)\n",
      "Requirement already satisfied: idna<4,>=2.5 in /usr/local/lib/python3.9/dist-packages (from requests->transformers) (3.4)\n",
      "Requirement already satisfied: charset-normalizer~=2.0.0 in /usr/local/lib/python3.9/dist-packages (from requests->transformers) (2.0.12)\n",
      "Requirement already satisfied: urllib3<1.27,>=1.21.1 in /usr/local/lib/python3.9/dist-packages (from requests->transformers) (1.26.15)\n",
      "Requirement already satisfied: certifi>=2017.4.17 in /usr/local/lib/python3.9/dist-packages (from requests->transformers) (2022.12.7)\n",
      "Looking in indexes: https://pypi.org/simple, https://us-python.pkg.dev/colab-wheels/public/simple/\n",
      "Requirement already satisfied: datasets in /usr/local/lib/python3.9/dist-packages (2.10.1)\n",
      "Requirement already satisfied: xxhash in /usr/local/lib/python3.9/dist-packages (from datasets) (3.2.0)\n",
      "Requirement already satisfied: responses<0.19 in /usr/local/lib/python3.9/dist-packages (from datasets) (0.18.0)\n",
      "Requirement already satisfied: aiohttp in /usr/local/lib/python3.9/dist-packages (from datasets) (3.8.4)\n",
      "Requirement already satisfied: numpy>=1.17 in /usr/local/lib/python3.9/dist-packages (from datasets) (1.22.4)\n",
      "Requirement already satisfied: pyyaml>=5.1 in /usr/local/lib/python3.9/dist-packages (from datasets) (6.0)\n",
      "Requirement already satisfied: huggingface-hub<1.0.0,>=0.2.0 in /usr/local/lib/python3.9/dist-packages (from datasets) (0.13.3)\n",
      "Requirement already satisfied: multiprocess in /usr/local/lib/python3.9/dist-packages (from datasets) (0.70.14)\n",
      "Requirement already satisfied: pyarrow>=6.0.0 in /usr/local/lib/python3.9/dist-packages (from datasets) (9.0.0)\n",
      "Requirement already satisfied: fsspec[http]>=2021.11.1 in /usr/local/lib/python3.9/dist-packages (from datasets) (2023.3.0)\n",
      "Requirement already satisfied: tqdm>=4.62.1 in /usr/local/lib/python3.9/dist-packages (from datasets) (4.65.0)\n",
      "Requirement already satisfied: packaging in /usr/local/lib/python3.9/dist-packages (from datasets) (23.0)\n",
      "Requirement already satisfied: requests>=2.19.0 in /usr/local/lib/python3.9/dist-packages (from datasets) (2.27.1)\n",
      "Requirement already satisfied: pandas in /usr/local/lib/python3.9/dist-packages (from datasets) (1.4.4)\n",
      "Requirement already satisfied: dill<0.3.7,>=0.3.0 in /usr/local/lib/python3.9/dist-packages (from datasets) (0.3.6)\n",
      "Requirement already satisfied: multidict<7.0,>=4.5 in /usr/local/lib/python3.9/dist-packages (from aiohttp->datasets) (6.0.4)\n",
      "Requirement already satisfied: yarl<2.0,>=1.0 in /usr/local/lib/python3.9/dist-packages (from aiohttp->datasets) (1.8.2)\n",
      "Requirement already satisfied: attrs>=17.3.0 in /usr/local/lib/python3.9/dist-packages (from aiohttp->datasets) (22.2.0)\n",
      "Requirement already satisfied: async-timeout<5.0,>=4.0.0a3 in /usr/local/lib/python3.9/dist-packages (from aiohttp->datasets) (4.0.2)\n",
      "Requirement already satisfied: charset-normalizer<4.0,>=2.0 in /usr/local/lib/python3.9/dist-packages (from aiohttp->datasets) (2.0.12)\n",
      "Requirement already satisfied: frozenlist>=1.1.1 in /usr/local/lib/python3.9/dist-packages (from aiohttp->datasets) (1.3.3)\n",
      "Requirement already satisfied: aiosignal>=1.1.2 in /usr/local/lib/python3.9/dist-packages (from aiohttp->datasets) (1.3.1)\n",
      "Requirement already satisfied: typing-extensions>=3.7.4.3 in /usr/local/lib/python3.9/dist-packages (from huggingface-hub<1.0.0,>=0.2.0->datasets) (4.5.0)\n",
      "Requirement already satisfied: filelock in /usr/local/lib/python3.9/dist-packages (from huggingface-hub<1.0.0,>=0.2.0->datasets) (3.10.1)\n",
      "Requirement already satisfied: idna<4,>=2.5 in /usr/local/lib/python3.9/dist-packages (from requests>=2.19.0->datasets) (3.4)\n",
      "Requirement already satisfied: certifi>=2017.4.17 in /usr/local/lib/python3.9/dist-packages (from requests>=2.19.0->datasets) (2022.12.7)\n",
      "Requirement already satisfied: urllib3<1.27,>=1.21.1 in /usr/local/lib/python3.9/dist-packages (from requests>=2.19.0->datasets) (1.26.15)\n",
      "Requirement already satisfied: pytz>=2020.1 in /usr/local/lib/python3.9/dist-packages (from pandas->datasets) (2022.7.1)\n",
      "Requirement already satisfied: python-dateutil>=2.8.1 in /usr/local/lib/python3.9/dist-packages (from pandas->datasets) (2.8.2)\n",
      "Requirement already satisfied: six>=1.5 in /usr/local/lib/python3.9/dist-packages (from python-dateutil>=2.8.1->pandas->datasets) (1.16.0)\n",
      "Looking in indexes: https://pypi.org/simple, https://us-python.pkg.dev/colab-wheels/public/simple/\n",
      "Requirement already satisfied: pynvml in /usr/local/lib/python3.9/dist-packages (11.5.0)\n"
     ]
    }
   ],
   "source": [
    "import sys\n",
    "IN_COLAB = 'google.colab' in sys.modules\n",
    "\n",
    "if IN_COLAB:\n",
    "\n",
    "    # Enable line-wrapping\n",
    "    # from IPython.display import HTML, display\n",
    "\n",
    "    # def set_css():\n",
    "    #     display(HTML('''\n",
    "    #         <style>\n",
    "    #         pre {\n",
    "    #             white-space: pre-wrap;\n",
    "    #             }\n",
    "    #         </style>\n",
    "    #     '''))\n",
    "    # get_ipython().events.register('pre_run_cell', set_css)\n",
    "\n",
    "\n",
    "    # mount google drive\n",
    "    from google.colab import drive\n",
    "    drive.mount('/content/drive')\n",
    "\n",
    "    %pip install transformers\n",
    "    %pip install datasets\n",
    "    %pip install pynvml"
   ]
  },
  {
   "cell_type": "code",
   "execution_count": 3,
   "id": "WzPqPDg6MFLS",
   "metadata": {
    "colab": {
     "base_uri": "https://localhost:8080/"
    },
    "collapsed": false,
    "id": "WzPqPDg6MFLS",
    "outputId": "0c79e91a-86d7-4c7a-c73e-efa5fbc5b8d0"
   },
   "outputs": [
    {
     "name": "stdout",
     "output_type": "stream",
     "text": [
      "Drive already mounted at /content/drive; to attempt to forcibly remount, call drive.mount(\"/content/drive\", force_remount=True).\n"
     ]
    }
   ],
   "source": [
    "if IN_COLAB:\n",
    "    # Enable line-wrapping\n",
    "    from IPython.display import HTML, display\n",
    "\n",
    "    def set_css():\n",
    "        display(HTML('''\n",
    "            <style>\n",
    "            pre {\n",
    "                white-space: pre-wrap;\n",
    "                }\n",
    "            </style>\n",
    "        '''))\n",
    "    get_ipython().events.register('pre_run_cell', set_css)\n",
    "\n",
    "\n",
    "    # mount google drive\n",
    "    from google.colab import drive\n",
    "    drive.mount('/content/drive')"
   ]
  },
  {
   "cell_type": "code",
   "execution_count": 4,
   "id": "eb01cd0b-b30b-41f8-ab3c-c963f1e6f482",
   "metadata": {
    "colab": {
     "base_uri": "https://localhost:8080/",
     "height": 54
    },
    "collapsed": false,
    "id": "eb01cd0b-b30b-41f8-ab3c-c963f1e6f482",
    "outputId": "37a4a32d-3aed-4410-d2d9-71af9f20cd5b"
   },
   "outputs": [
    {
     "data": {
      "text/html": [
       "\n",
       "            <style>\n",
       "            pre {\n",
       "                white-space: pre-wrap;\n",
       "                }\n",
       "            </style>\n",
       "        "
      ],
      "text/plain": [
       "<IPython.core.display.HTML object>"
      ]
     },
     "metadata": {},
     "output_type": "display_data"
    },
    {
     "name": "stdout",
     "output_type": "stream",
     "text": [
      "env: CUBLAS_WORKSPACE_CONFIG=:16:8\n",
      "cuda\n"
     ]
    }
   ],
   "source": [
    "import datetime\n",
    "import numpy as np\n",
    "from sklearn.metrics import fbeta_score\n",
    "from matplotlib import pyplot as plt\n",
    "import math\n",
    "import pandas as pd\n",
    "import sys\n",
    "import json\n",
    "import time\n",
    "import torch\n",
    "from torch import nn\n",
    "import random\n",
    "#from tqdm.auto import tqdm\n",
    "from tqdm import tqdm\n",
    "from torch.utils.data import DataLoader\n",
    "from datasets import Dataset\n",
    "import os\n",
    "import torchsummary\n",
    "from functools import partialmethod\n",
    "from itertools import product\n",
    "\n",
    "from transformers import AutoTokenizer, AutoModel\n",
    "from dataclasses import dataclass\n",
    "from transformers import PreTrainedTokenizer\n",
    "from torch.utils.data import DataLoader\n",
    "\n",
    "if IN_COLAB:\n",
    "  sys.path.append('/content/drive/MyDrive/ML/lecr/code/')\n",
    "from l_utils import *\n",
    "from model_utils import *\n",
    "\n",
    "#from model_defs import Topic_NN, Content_NN\n",
    "\n",
    "%env CUBLAS_WORKSPACE_CONFIG=:16:8\n",
    "\n",
    "device = \"cuda\" if torch.cuda.is_available() else \"cpu\"\n",
    "print(device)"
   ]
  },
  {
   "cell_type": "code",
   "execution_count": 5,
   "id": "P0T5isInFStC",
   "metadata": {
    "colab": {
     "base_uri": "https://localhost:8080/",
     "height": 17
    },
    "collapsed": false,
    "id": "P0T5isInFStC",
    "outputId": "b2ada6bd-60a7-477d-a982-bf14f7d722ef"
   },
   "outputs": [
    {
     "data": {
      "text/html": [
       "\n",
       "            <style>\n",
       "            pre {\n",
       "                white-space: pre-wrap;\n",
       "                }\n",
       "            </style>\n",
       "        "
      ],
      "text/plain": [
       "<IPython.core.display.HTML object>"
      ]
     },
     "metadata": {},
     "output_type": "display_data"
    }
   ],
   "source": [
    "if IN_COLAB:\n",
    "    class CFG:\n",
    "        MODEL = \"sentence-transformers/paraphrase-multilingual-MiniLM-L12-v2\"\n",
    "        DIRNAME_PROCESSED_DATA = '/content/drive/MyDrive/ML/lecr/data/'\n",
    "        FILENAME_DATA_CONTENT_F = DIRNAME_PROCESSED_DATA + \"content.f\"\n",
    "        FILENAME_DATA_TOPICS_F = DIRNAME_PROCESSED_DATA + \"topics.f\"\n",
    "        FILENAME_DATA_CORRELATIONS_CSV = DIRNAME_PROCESSED_DATA + \"correlations.csv\"\n",
    "        NUM_FOLDS = 5\n",
    "        SAVE_MODEL_DIR = '/content/drive/MyDrive/ML/lecr/models/'\n",
    "else:\n",
    "    from cfg import *\n",
    "topics_tokenized_pq_file = CFG.DIRNAME_PROCESSED_DATA + \"topics_tokenized.pq\"\n",
    "contents_tokenized_pq_file = CFG.DIRNAME_PROCESSED_DATA + \"contents_tokenized.pq\"\n"
   ]
  },
  {
   "cell_type": "code",
   "execution_count": 6,
   "id": "54Hk7HUL6VuP",
   "metadata": {
    "colab": {
     "base_uri": "https://localhost:8080/",
     "height": 387
    },
    "collapsed": false,
    "id": "54Hk7HUL6VuP",
    "outputId": "552b2901-62de-4a94-81cd-7db39c2a9e7f"
   },
   "outputs": [
    {
     "data": {
      "text/html": [
       "\n",
       "            <style>\n",
       "            pre {\n",
       "                white-space: pre-wrap;\n",
       "                }\n",
       "            </style>\n",
       "        "
      ],
      "text/plain": [
       "<IPython.core.display.HTML object>"
      ]
     },
     "metadata": {},
     "output_type": "display_data"
    },
    {
     "name": "stdout",
     "output_type": "stream",
     "text": [
      "Fri Mar 24 19:55:18 2023       \n",
      "+-----------------------------------------------------------------------------+\n",
      "| NVIDIA-SMI 525.85.12    Driver Version: 525.85.12    CUDA Version: 12.0     |\n",
      "|-------------------------------+----------------------+----------------------+\n",
      "| GPU  Name        Persistence-M| Bus-Id        Disp.A | Volatile Uncorr. ECC |\n",
      "| Fan  Temp  Perf  Pwr:Usage/Cap|         Memory-Usage | GPU-Util  Compute M. |\n",
      "|                               |                      |               MIG M. |\n",
      "|===============================+======================+======================|\n",
      "|   0  NVIDIA A100-SXM...  Off  | 00000000:00:04.0 Off |                    0 |\n",
      "| N/A   42C    P0    44W / 400W |      3MiB / 40960MiB |      0%      Default |\n",
      "|                               |                      |             Disabled |\n",
      "+-------------------------------+----------------------+----------------------+\n",
      "                                                                               \n",
      "+-----------------------------------------------------------------------------+\n",
      "| Processes:                                                                  |\n",
      "|  GPU   GI   CI        PID   Type   Process name                  GPU Memory |\n",
      "|        ID   ID                                                   Usage      |\n",
      "|=============================================================================|\n",
      "|  No running processes found                                                 |\n",
      "+-----------------------------------------------------------------------------+\n"
     ]
    }
   ],
   "source": [
    "!nvidia-smi"
   ]
  },
  {
   "cell_type": "code",
   "execution_count": 7,
   "id": "f465bcbb-a100-484a-aa43-10160343f582",
   "metadata": {
    "colab": {
     "base_uri": "https://localhost:8080/",
     "height": 17
    },
    "collapsed": false,
    "id": "f465bcbb-a100-484a-aa43-10160343f582",
    "outputId": "38a88c20-4a29-460c-c9f1-5dcf0c47c112"
   },
   "outputs": [
    {
     "data": {
      "text/html": [
       "\n",
       "            <style>\n",
       "            pre {\n",
       "                white-space: pre-wrap;\n",
       "                }\n",
       "            </style>\n",
       "        "
      ],
      "text/plain": [
       "<IPython.core.display.HTML object>"
      ]
     },
     "metadata": {},
     "output_type": "display_data"
    }
   ],
   "source": [
    "# Split data into folds\n",
    "\n",
    "# Feature engineering ... use same as the one used for bce-lightning\n",
    "\n",
    "# Training for a Top-k metric ... see if this performs better than directly using minilm embeddings"
   ]
  },
  {
   "cell_type": "code",
   "execution_count": 8,
   "id": "c18badcd-b5d0-4c9c-bca3-04d16435ab88",
   "metadata": {
    "colab": {
     "base_uri": "https://localhost:8080/",
     "height": 17
    },
    "collapsed": false,
    "id": "c18badcd-b5d0-4c9c-bca3-04d16435ab88",
    "outputId": "1b0df31d-64af-4cb5-fea6-05eca04d85c3"
   },
   "outputs": [
    {
     "data": {
      "text/html": [
       "\n",
       "            <style>\n",
       "            pre {\n",
       "                white-space: pre-wrap;\n",
       "                }\n",
       "            </style>\n",
       "        "
      ],
      "text/plain": [
       "<IPython.core.display.HTML object>"
      ]
     },
     "metadata": {},
     "output_type": "display_data"
    }
   ],
   "source": [
    "def progress_bar_control(show_progress_bars = True):\n",
    "    tqdm.__init__ = partialmethod(tqdm.__init__, disable=(not show_progress_bars))"
   ]
  },
  {
   "cell_type": "code",
   "execution_count": 9,
   "id": "0de9240c-c7b5-4e65-8f42-1af4226552ac",
   "metadata": {
    "colab": {
     "base_uri": "https://localhost:8080/",
     "height": 17
    },
    "collapsed": false,
    "id": "0de9240c-c7b5-4e65-8f42-1af4226552ac",
    "outputId": "237e9068-a09c-48ca-fdca-05fde8e23ab2"
   },
   "outputs": [
    {
     "data": {
      "text/html": [
       "\n",
       "            <style>\n",
       "            pre {\n",
       "                white-space: pre-wrap;\n",
       "                }\n",
       "            </style>\n",
       "        "
      ],
      "text/plain": [
       "<IPython.core.display.HTML object>"
      ]
     },
     "metadata": {},
     "output_type": "display_data"
    }
   ],
   "source": [
    "contents_df = pd.read_feather(CFG.FILENAME_DATA_CONTENT_F)\n",
    "topics_df   = pd.read_feather(CFG.FILENAME_DATA_TOPICS_F)\n",
    "correlations_df =  pd.read_csv(CFG.FILENAME_DATA_CORRELATIONS_CSV)"
   ]
  },
  {
   "cell_type": "code",
   "execution_count": 10,
   "id": "8a1ec376-3ef7-4cdf-a84b-c1dbf894e847",
   "metadata": {
    "colab": {
     "base_uri": "https://localhost:8080/",
     "height": 756
    },
    "collapsed": false,
    "id": "8a1ec376-3ef7-4cdf-a84b-c1dbf894e847",
    "outputId": "fbda30ba-3e48-4d3e-9ecb-0f9e80ebb497"
   },
   "outputs": [
    {
     "data": {
      "text/html": [
       "\n",
       "            <style>\n",
       "            pre {\n",
       "                white-space: pre-wrap;\n",
       "                }\n",
       "            </style>\n",
       "        "
      ],
      "text/plain": [
       "<IPython.core.display.HTML object>"
      ]
     },
     "metadata": {},
     "output_type": "display_data"
    },
    {
     "name": "stdout",
     "output_type": "stream",
     "text": [
      "<class 'pandas.core.frame.DataFrame'>\n",
      "RangeIndex: 154047 entries, 0 to 154046\n",
      "Data columns (total 8 columns):\n",
      " #   Column            Non-Null Count   Dtype \n",
      "---  ------            --------------   ----- \n",
      " 0   id                154047 non-null  object\n",
      " 1   title             154038 non-null  object\n",
      " 2   description       89456 non-null   object\n",
      " 3   kind              154047 non-null  object\n",
      " 4   text              74035 non-null   object\n",
      " 5   language          154047 non-null  object\n",
      " 6   copyright_holder  71821 non-null   object\n",
      " 7   license           74035 non-null   object\n",
      "dtypes: object(8)\n",
      "memory usage: 9.4+ MB\n",
      "<class 'pandas.core.frame.DataFrame'>\n",
      "RangeIndex: 76972 entries, 0 to 76971\n",
      "Data columns (total 9 columns):\n",
      " #   Column       Non-Null Count  Dtype \n",
      "---  ------       --------------  ----- \n",
      " 0   id           76972 non-null  object\n",
      " 1   title        76970 non-null  object\n",
      " 2   description  34953 non-null  object\n",
      " 3   channel      76972 non-null  object\n",
      " 4   category     76972 non-null  object\n",
      " 5   level        76972 non-null  int64 \n",
      " 6   language     76972 non-null  object\n",
      " 7   parent       76801 non-null  object\n",
      " 8   has_content  76972 non-null  bool  \n",
      "dtypes: bool(1), int64(1), object(7)\n",
      "memory usage: 4.8+ MB\n",
      "<class 'pandas.core.frame.DataFrame'>\n",
      "RangeIndex: 61517 entries, 0 to 61516\n",
      "Data columns (total 2 columns):\n",
      " #   Column       Non-Null Count  Dtype \n",
      "---  ------       --------------  ----- \n",
      " 0   topic_id     61517 non-null  object\n",
      " 1   content_ids  61517 non-null  object\n",
      "dtypes: object(2)\n",
      "memory usage: 961.3+ KB\n"
     ]
    }
   ],
   "source": [
    "contents_df.info()\n",
    "topics_df.info()\n",
    "correlations_df.info()"
   ]
  },
  {
   "cell_type": "code",
   "execution_count": 11,
   "id": "00d65818-f54e-44b6-9517-5ffc45149575",
   "metadata": {
    "colab": {
     "base_uri": "https://localhost:8080/",
     "height": 17
    },
    "collapsed": false,
    "id": "00d65818-f54e-44b6-9517-5ffc45149575",
    "outputId": "2f426a96-24f0-4d43-f5f0-333e51b12add"
   },
   "outputs": [
    {
     "data": {
      "text/html": [
       "\n",
       "            <style>\n",
       "            pre {\n",
       "                white-space: pre-wrap;\n",
       "                }\n",
       "            </style>\n",
       "        "
      ],
      "text/plain": [
       "<IPython.core.display.HTML object>"
      ]
     },
     "metadata": {},
     "output_type": "display_data"
    }
   ],
   "source": [
    "topics_tokenized_df   = pd.read_parquet(topics_tokenized_pq_file)\n",
    "contents_tokenized_df = pd.read_parquet(contents_tokenized_pq_file)"
   ]
  },
  {
   "cell_type": "code",
   "execution_count": 12,
   "id": "eb247507-6691-49a4-a156-39e36d9ae91d",
   "metadata": {
    "colab": {
     "base_uri": "https://localhost:8080/",
     "height": 387
    },
    "collapsed": false,
    "id": "eb247507-6691-49a4-a156-39e36d9ae91d",
    "outputId": "ae249b2a-c2e7-43fc-cd38-4c06c1403e89"
   },
   "outputs": [
    {
     "data": {
      "text/html": [
       "\n",
       "            <style>\n",
       "            pre {\n",
       "                white-space: pre-wrap;\n",
       "                }\n",
       "            </style>\n",
       "        "
      ],
      "text/plain": [
       "<IPython.core.display.HTML object>"
      ]
     },
     "metadata": {},
     "output_type": "display_data"
    },
    {
     "name": "stdout",
     "output_type": "stream",
     "text": [
      "<class 'pandas.core.frame.DataFrame'>\n",
      "RangeIndex: 154047 entries, 0 to 154046\n",
      "Data columns (total 3 columns):\n",
      " #   Column              Non-Null Count   Dtype \n",
      "---  ------              --------------   ----- \n",
      " 0   id                  154047 non-null  object\n",
      " 1   c_0_input_ids       154047 non-null  object\n",
      " 2   c_1_attention_mask  154047 non-null  object\n",
      "dtypes: object(3)\n",
      "memory usage: 3.5+ MB\n",
      "<class 'pandas.core.frame.DataFrame'>\n",
      "RangeIndex: 61517 entries, 0 to 61516\n",
      "Data columns (total 3 columns):\n",
      " #   Column              Non-Null Count  Dtype \n",
      "---  ------              --------------  ----- \n",
      " 0   id                  61517 non-null  object\n",
      " 1   t_0_input_ids       61517 non-null  object\n",
      " 2   t_1_attention_mask  61517 non-null  object\n",
      "dtypes: object(3)\n",
      "memory usage: 1.4+ MB\n"
     ]
    }
   ],
   "source": [
    "contents_tokenized_df.info()\n",
    "topics_tokenized_df.info()"
   ]
  },
  {
   "cell_type": "code",
   "execution_count": 13,
   "id": "6274ee15-516d-4afc-9e18-616f93876a44",
   "metadata": {
    "colab": {
     "base_uri": "https://localhost:8080/",
     "height": 294
    },
    "collapsed": false,
    "id": "6274ee15-516d-4afc-9e18-616f93876a44",
    "outputId": "279ab13d-19d3-466b-8ee5-8a44323f9ee8"
   },
   "outputs": [
    {
     "data": {
      "text/html": [
       "\n",
       "            <style>\n",
       "            pre {\n",
       "                white-space: pre-wrap;\n",
       "                }\n",
       "            </style>\n",
       "        "
      ],
      "text/plain": [
       "<IPython.core.display.HTML object>"
      ]
     },
     "metadata": {},
     "output_type": "display_data"
    },
    {
     "name": "stdout",
     "output_type": "stream",
     "text": [
      "177290\n",
      "102629\n",
      "2023-03-24 19:55:22.883026 : Splitting non-source into 4 folds\n",
      "fold\n",
      "0.0    25667\n",
      "1.0    25677\n",
      "2.0    25663\n",
      "3.0    25622\n",
      "dtype: int64\n",
      "fold\n",
      "0.0    6070\n",
      "1.0    4971\n",
      "2.0    8493\n",
      "3.0    5469\n",
      "dtype: int64\n"
     ]
    }
   ],
   "source": [
    "# train_df_orig, val_df_orig = create_train_val_split_pos_corr(topics_df, contents_df, correlations_df, CFG.NUM_FOLDS, min_train_perc = 80.0, use_topic_trees = True, random_seed = 3) # pick a random seed that gives a good split\n",
    "train_df_orig, val_df_orig = create_train_val_split_pos_corr_from_kaggle(topics_df, correlations_df, num_splits = 4, val_fold = 0)"
   ]
  },
  {
   "cell_type": "code",
   "execution_count": 14,
   "id": "58c5cb7a-00fd-4db7-9855-2a58a889cadf",
   "metadata": {
    "colab": {
     "base_uri": "https://localhost:8080/",
     "height": 17
    },
    "collapsed": false,
    "id": "58c5cb7a-00fd-4db7-9855-2a58a889cadf",
    "outputId": "c7324ffd-5dd7-4f52-c763-7fb7b5151f89"
   },
   "outputs": [
    {
     "data": {
      "text/html": [
       "\n",
       "            <style>\n",
       "            pre {\n",
       "                white-space: pre-wrap;\n",
       "                }\n",
       "            </style>\n",
       "        "
      ],
      "text/plain": [
       "<IPython.core.display.HTML object>"
      ]
     },
     "metadata": {},
     "output_type": "display_data"
    }
   ],
   "source": [
    "# ***** FOR TESTING ONLY !!!!!!!! ******\n",
    "if TESTING_SUBSET:\n",
    "    train_df = train_df_orig[:1000]\n",
    "    val_df = val_df_orig[:1000]\n",
    "else:\n",
    "    train_df = train_df_orig\n",
    "    val_df = val_df_orig"
   ]
  },
  {
   "cell_type": "code",
   "execution_count": 15,
   "id": "f3c4ee3f-3136-490b-b0bd-bfe974fe3647",
   "metadata": {
    "colab": {
     "base_uri": "https://localhost:8080/",
     "height": 350
    },
    "collapsed": false,
    "id": "f3c4ee3f-3136-490b-b0bd-bfe974fe3647",
    "outputId": "28f41b56-3451-4642-a96a-2dfbaa2205b6"
   },
   "outputs": [
    {
     "data": {
      "text/html": [
       "\n",
       "            <style>\n",
       "            pre {\n",
       "                white-space: pre-wrap;\n",
       "                }\n",
       "            </style>\n",
       "        "
      ],
      "text/plain": [
       "<IPython.core.display.HTML object>"
      ]
     },
     "metadata": {},
     "output_type": "display_data"
    },
    {
     "name": "stdout",
     "output_type": "stream",
     "text": [
      "<class 'pandas.core.frame.DataFrame'>\n",
      "RangeIndex: 254252 entries, 0 to 254251\n",
      "Data columns (total 2 columns):\n",
      " #   Column  Non-Null Count   Dtype \n",
      "---  ------  --------------   ----- \n",
      " 0   t_id    254252 non-null  object\n",
      " 1   c_id    254252 non-null  object\n",
      "dtypes: object(2)\n",
      "memory usage: 3.9+ MB\n",
      "<class 'pandas.core.frame.DataFrame'>\n",
      "RangeIndex: 25667 entries, 0 to 25666\n",
      "Data columns (total 2 columns):\n",
      " #   Column  Non-Null Count  Dtype \n",
      "---  ------  --------------  ----- \n",
      " 0   t_id    25667 non-null  object\n",
      " 1   c_id    25667 non-null  object\n",
      "dtypes: object(2)\n",
      "memory usage: 401.2+ KB\n"
     ]
    }
   ],
   "source": [
    "train_df.info()\n",
    "val_df.info()"
   ]
  },
  {
   "cell_type": "code",
   "execution_count": 16,
   "id": "26771d02-f345-4a94-9508-1973435fd85e",
   "metadata": {
    "colab": {
     "base_uri": "https://localhost:8080/",
     "height": 331
    },
    "collapsed": false,
    "id": "26771d02-f345-4a94-9508-1973435fd85e",
    "outputId": "7fe52c9d-2711-4084-e0fa-012a170eead8"
   },
   "outputs": [
    {
     "data": {
      "text/html": [
       "\n",
       "            <style>\n",
       "            pre {\n",
       "                white-space: pre-wrap;\n",
       "                }\n",
       "            </style>\n",
       "        "
      ],
      "text/plain": [
       "<IPython.core.display.HTML object>"
      ]
     },
     "metadata": {},
     "output_type": "display_data"
    },
    {
     "data": {
      "text/html": [
       "\n",
       "  <div id=\"df-553736fc-206f-4ab2-bc24-d316fb93ba70\">\n",
       "    <div class=\"colab-df-container\">\n",
       "      <div>\n",
       "<style scoped>\n",
       "    .dataframe tbody tr th:only-of-type {\n",
       "        vertical-align: middle;\n",
       "    }\n",
       "\n",
       "    .dataframe tbody tr th {\n",
       "        vertical-align: top;\n",
       "    }\n",
       "\n",
       "    .dataframe thead th {\n",
       "        text-align: right;\n",
       "    }\n",
       "</style>\n",
       "<table border=\"1\" class=\"dataframe\">\n",
       "  <thead>\n",
       "    <tr style=\"text-align: right;\">\n",
       "      <th></th>\n",
       "      <th>t_id</th>\n",
       "      <th>c_id</th>\n",
       "    </tr>\n",
       "  </thead>\n",
       "  <tbody>\n",
       "    <tr>\n",
       "      <th>249849</th>\n",
       "      <td>t_f2872cd7562c</td>\n",
       "      <td>c_0227d2bbe4cf</td>\n",
       "    </tr>\n",
       "    <tr>\n",
       "      <th>249850</th>\n",
       "      <td>t_f2872cd7562c</td>\n",
       "      <td>c_1ec69bbecf6a</td>\n",
       "    </tr>\n",
       "    <tr>\n",
       "      <th>249851</th>\n",
       "      <td>t_f2872cd7562c</td>\n",
       "      <td>c_3eb7c9babbac</td>\n",
       "    </tr>\n",
       "    <tr>\n",
       "      <th>249852</th>\n",
       "      <td>t_f2872cd7562c</td>\n",
       "      <td>c_6c55a9120277</td>\n",
       "    </tr>\n",
       "    <tr>\n",
       "      <th>249853</th>\n",
       "      <td>t_f2872cd7562c</td>\n",
       "      <td>c_7a6f34a71b1a</td>\n",
       "    </tr>\n",
       "    <tr>\n",
       "      <th>249854</th>\n",
       "      <td>t_f2872cd7562c</td>\n",
       "      <td>c_9b8249e189bf</td>\n",
       "    </tr>\n",
       "    <tr>\n",
       "      <th>249855</th>\n",
       "      <td>t_f2872cd7562c</td>\n",
       "      <td>c_b5e5385e2d8b</td>\n",
       "    </tr>\n",
       "    <tr>\n",
       "      <th>249856</th>\n",
       "      <td>t_f2872cd7562c</td>\n",
       "      <td>c_c2481d9b0e88</td>\n",
       "    </tr>\n",
       "    <tr>\n",
       "      <th>249857</th>\n",
       "      <td>t_f2872cd7562c</td>\n",
       "      <td>c_c4218a848990</td>\n",
       "    </tr>\n",
       "  </tbody>\n",
       "</table>\n",
       "</div>\n",
       "      <button class=\"colab-df-convert\" onclick=\"convertToInteractive('df-553736fc-206f-4ab2-bc24-d316fb93ba70')\"\n",
       "              title=\"Convert this dataframe to an interactive table.\"\n",
       "              style=\"display:none;\">\n",
       "        \n",
       "  <svg xmlns=\"http://www.w3.org/2000/svg\" height=\"24px\"viewBox=\"0 0 24 24\"\n",
       "       width=\"24px\">\n",
       "    <path d=\"M0 0h24v24H0V0z\" fill=\"none\"/>\n",
       "    <path d=\"M18.56 5.44l.94 2.06.94-2.06 2.06-.94-2.06-.94-.94-2.06-.94 2.06-2.06.94zm-11 1L8.5 8.5l.94-2.06 2.06-.94-2.06-.94L8.5 2.5l-.94 2.06-2.06.94zm10 10l.94 2.06.94-2.06 2.06-.94-2.06-.94-.94-2.06-.94 2.06-2.06.94z\"/><path d=\"M17.41 7.96l-1.37-1.37c-.4-.4-.92-.59-1.43-.59-.52 0-1.04.2-1.43.59L10.3 9.45l-7.72 7.72c-.78.78-.78 2.05 0 2.83L4 21.41c.39.39.9.59 1.41.59.51 0 1.02-.2 1.41-.59l7.78-7.78 2.81-2.81c.8-.78.8-2.07 0-2.86zM5.41 20L4 18.59l7.72-7.72 1.47 1.35L5.41 20z\"/>\n",
       "  </svg>\n",
       "      </button>\n",
       "      \n",
       "  <style>\n",
       "    .colab-df-container {\n",
       "      display:flex;\n",
       "      flex-wrap:wrap;\n",
       "      gap: 12px;\n",
       "    }\n",
       "\n",
       "    .colab-df-convert {\n",
       "      background-color: #E8F0FE;\n",
       "      border: none;\n",
       "      border-radius: 50%;\n",
       "      cursor: pointer;\n",
       "      display: none;\n",
       "      fill: #1967D2;\n",
       "      height: 32px;\n",
       "      padding: 0 0 0 0;\n",
       "      width: 32px;\n",
       "    }\n",
       "\n",
       "    .colab-df-convert:hover {\n",
       "      background-color: #E2EBFA;\n",
       "      box-shadow: 0px 1px 2px rgba(60, 64, 67, 0.3), 0px 1px 3px 1px rgba(60, 64, 67, 0.15);\n",
       "      fill: #174EA6;\n",
       "    }\n",
       "\n",
       "    [theme=dark] .colab-df-convert {\n",
       "      background-color: #3B4455;\n",
       "      fill: #D2E3FC;\n",
       "    }\n",
       "\n",
       "    [theme=dark] .colab-df-convert:hover {\n",
       "      background-color: #434B5C;\n",
       "      box-shadow: 0px 1px 3px 1px rgba(0, 0, 0, 0.15);\n",
       "      filter: drop-shadow(0px 1px 2px rgba(0, 0, 0, 0.3));\n",
       "      fill: #FFFFFF;\n",
       "    }\n",
       "  </style>\n",
       "\n",
       "      <script>\n",
       "        const buttonEl =\n",
       "          document.querySelector('#df-553736fc-206f-4ab2-bc24-d316fb93ba70 button.colab-df-convert');\n",
       "        buttonEl.style.display =\n",
       "          google.colab.kernel.accessAllowed ? 'block' : 'none';\n",
       "\n",
       "        async function convertToInteractive(key) {\n",
       "          const element = document.querySelector('#df-553736fc-206f-4ab2-bc24-d316fb93ba70');\n",
       "          const dataTable =\n",
       "            await google.colab.kernel.invokeFunction('convertToInteractive',\n",
       "                                                     [key], {});\n",
       "          if (!dataTable) return;\n",
       "\n",
       "          const docLinkHtml = 'Like what you see? Visit the ' +\n",
       "            '<a target=\"_blank\" href=https://colab.research.google.com/notebooks/data_table.ipynb>data table notebook</a>'\n",
       "            + ' to learn more about interactive tables.';\n",
       "          element.innerHTML = '';\n",
       "          dataTable['output_type'] = 'display_data';\n",
       "          await google.colab.output.renderOutput(dataTable, element);\n",
       "          const docLink = document.createElement('div');\n",
       "          docLink.innerHTML = docLinkHtml;\n",
       "          element.appendChild(docLink);\n",
       "        }\n",
       "      </script>\n",
       "    </div>\n",
       "  </div>\n",
       "  "
      ],
      "text/plain": [
       "                  t_id            c_id\n",
       "249849  t_f2872cd7562c  c_0227d2bbe4cf\n",
       "249850  t_f2872cd7562c  c_1ec69bbecf6a\n",
       "249851  t_f2872cd7562c  c_3eb7c9babbac\n",
       "249852  t_f2872cd7562c  c_6c55a9120277\n",
       "249853  t_f2872cd7562c  c_7a6f34a71b1a\n",
       "249854  t_f2872cd7562c  c_9b8249e189bf\n",
       "249855  t_f2872cd7562c  c_b5e5385e2d8b\n",
       "249856  t_f2872cd7562c  c_c2481d9b0e88\n",
       "249857  t_f2872cd7562c  c_c4218a848990"
      ]
     },
     "execution_count": 16,
     "metadata": {},
     "output_type": "execute_result"
    }
   ],
   "source": [
    "#train_df.loc[random.sample(range(0,len(train_df)),10)]\n",
    "train_df.loc[train_df['t_id']=='t_f2872cd7562c']"
   ]
  },
  {
   "cell_type": "code",
   "execution_count": 17,
   "id": "4ff6f76a-fe1b-4fcb-816b-cf857c7942e5",
   "metadata": {
    "colab": {
     "base_uri": "https://localhost:8080/",
     "height": 17
    },
    "collapsed": false,
    "id": "4ff6f76a-fe1b-4fcb-816b-cf857c7942e5",
    "outputId": "c3845db3-38c3-4916-e396-aafd464e4750"
   },
   "outputs": [
    {
     "data": {
      "text/html": [
       "\n",
       "            <style>\n",
       "            pre {\n",
       "                white-space: pre-wrap;\n",
       "                }\n",
       "            </style>\n",
       "        "
      ],
      "text/plain": [
       "<IPython.core.display.HTML object>"
      ]
     },
     "metadata": {},
     "output_type": "display_data"
    }
   ],
   "source": [
    "PARTITION_BATCH_SIZE = 350"
   ]
  },
  {
   "cell_type": "code",
   "execution_count": 18,
   "id": "4cbc1c7a-4059-4559-a836-a8f1fb22cbd2",
   "metadata": {
    "colab": {
     "base_uri": "https://localhost:8080/",
     "height": 35
    },
    "collapsed": false,
    "id": "4cbc1c7a-4059-4559-a836-a8f1fb22cbd2",
    "outputId": "994c0318-3271-4f59-9ad0-584d6df811bc"
   },
   "outputs": [
    {
     "data": {
      "text/html": [
       "\n",
       "            <style>\n",
       "            pre {\n",
       "                white-space: pre-wrap;\n",
       "                }\n",
       "            </style>\n",
       "        "
      ],
      "text/plain": [
       "<IPython.core.display.HTML object>"
      ]
     },
     "metadata": {},
     "output_type": "display_data"
    },
    {
     "name": "stdout",
     "output_type": "stream",
     "text": [
      "2023-03-24 19:55:23.215980 : Merging in topic and content data into the folds data ... \n"
     ]
    }
   ],
   "source": [
    "train_tokenized_df = get_partitioned_data_for_pos_corr(train_df, topics_tokenized_df, contents_tokenized_df, batch_size = PARTITION_BATCH_SIZE, do_partitioning = False, sort = False)\n",
    "# train_tokenized_df = get_labeled_data_for_pos_corr(train_df.copy(), topics_tokenized_df, contents_tokenized_df)"
   ]
  },
  {
   "cell_type": "code",
   "execution_count": 19,
   "id": "15fa9882-4603-4860-a850-be25242d330e",
   "metadata": {
    "colab": {
     "base_uri": "https://localhost:8080/",
     "height": 220
    },
    "collapsed": false,
    "id": "15fa9882-4603-4860-a850-be25242d330e",
    "outputId": "8c18afa2-641d-4289-b6b5-d24df65b04cb"
   },
   "outputs": [
    {
     "data": {
      "text/html": [
       "\n",
       "            <style>\n",
       "            pre {\n",
       "                white-space: pre-wrap;\n",
       "                }\n",
       "            </style>\n",
       "        "
      ],
      "text/plain": [
       "<IPython.core.display.HTML object>"
      ]
     },
     "metadata": {},
     "output_type": "display_data"
    },
    {
     "name": "stdout",
     "output_type": "stream",
     "text": [
      "<class 'pandas.core.frame.DataFrame'>\n",
      "Int64Index: 254252 entries, 0 to 254251\n",
      "Data columns (total 4 columns):\n",
      " #   Column              Non-Null Count   Dtype \n",
      "---  ------              --------------   ----- \n",
      " 0   t_0_input_ids       254252 non-null  object\n",
      " 1   t_1_attention_mask  254252 non-null  object\n",
      " 2   c_0_input_ids       254252 non-null  object\n",
      " 3   c_1_attention_mask  254252 non-null  object\n",
      "dtypes: object(4)\n",
      "memory usage: 9.7+ MB\n"
     ]
    }
   ],
   "source": [
    "train_tokenized_df.info()"
   ]
  },
  {
   "cell_type": "code",
   "execution_count": 21,
   "id": "02c811f9-b216-4061-930d-0ae0aca542d7",
   "metadata": {
    "colab": {
     "base_uri": "https://localhost:8080/",
     "height": 815
    },
    "collapsed": false,
    "id": "02c811f9-b216-4061-930d-0ae0aca542d7",
    "outputId": "04d4cc7b-9918-42b4-8dab-542cc08dff0d"
   },
   "outputs": [
    {
     "data": {
      "text/html": [
       "\n",
       "            <style>\n",
       "            pre {\n",
       "                white-space: pre-wrap;\n",
       "                }\n",
       "            </style>\n",
       "        "
      ],
      "text/plain": [
       "<IPython.core.display.HTML object>"
      ]
     },
     "metadata": {},
     "output_type": "display_data"
    },
    {
     "data": {
      "text/html": [
       "\n",
       "  <div id=\"df-efcf28bb-d52b-42c5-b81a-4d83980dbda6\">\n",
       "    <div class=\"colab-df-container\">\n",
       "      <div>\n",
       "<style scoped>\n",
       "    .dataframe tbody tr th:only-of-type {\n",
       "        vertical-align: middle;\n",
       "    }\n",
       "\n",
       "    .dataframe tbody tr th {\n",
       "        vertical-align: top;\n",
       "    }\n",
       "\n",
       "    .dataframe thead th {\n",
       "        text-align: right;\n",
       "    }\n",
       "</style>\n",
       "<table border=\"1\" class=\"dataframe\">\n",
       "  <thead>\n",
       "    <tr style=\"text-align: right;\">\n",
       "      <th></th>\n",
       "      <th>t_0_input_ids</th>\n",
       "      <th>t_1_attention_mask</th>\n",
       "      <th>c_0_input_ids</th>\n",
       "      <th>c_1_attention_mask</th>\n",
       "      <th>t_0_input_ids_sep_indices</th>\n",
       "      <th>c_0_input_ids_sep_indices</th>\n",
       "    </tr>\n",
       "  </thead>\n",
       "  <tbody>\n",
       "    <tr>\n",
       "      <th>0</th>\n",
       "      <td>[0, 3858, 18229, 16317, 29, 6, 150652, 61056, ...</td>\n",
       "      <td>[1, 1, 1, 1, 1, 1, 1, 1, 1, 1, 1, 1, 1, 1, 1, ...</td>\n",
       "      <td>[0, 7331, 14709, 1770, 6, 150652, 22885, 2, 0,...</td>\n",
       "      <td>[1, 1, 1, 1, 1, 1, 1, 1, 1, 1, 1, 1, 1, 1, 1, ...</td>\n",
       "      <td>[10, 40, 64]</td>\n",
       "      <td>[8, 33, 35]</td>\n",
       "    </tr>\n",
       "    <tr>\n",
       "      <th>1</th>\n",
       "      <td>[0, 52920, 358, 15119, 27662, 12, 38273, 89, 2...</td>\n",
       "      <td>[1, 1, 1, 1, 1, 1, 1, 1, 1, 1, 1, 1, 1, 1, 1, ...</td>\n",
       "      <td>[0, 7331, 14709, 1770, 6, 150652, 22885, 2, 0,...</td>\n",
       "      <td>[1, 1, 1, 1, 1, 1, 1, 1, 1, 1, 1, 1, 1, 1, 1, ...</td>\n",
       "      <td>[9, 34, 64]</td>\n",
       "      <td>[8, 33, 35]</td>\n",
       "    </tr>\n",
       "    <tr>\n",
       "      <th>2</th>\n",
       "      <td>[0, 3858, 18229, 16317, 29, 6, 150652, 61056, ...</td>\n",
       "      <td>[1, 1, 1, 1, 1, 1, 1, 1, 1, 1, 1, 1, 1, 1, 1, ...</td>\n",
       "      <td>[0, 1721, 9282, 1551, 241140, 7474, 5341, 4967...</td>\n",
       "      <td>[1, 1, 1, 1, 1, 1, 1, 1, 1, 1, 1, 1, 1, 1, 1, ...</td>\n",
       "      <td>[10, 40, 64]</td>\n",
       "      <td>[10, 55, 57]</td>\n",
       "    </tr>\n",
       "    <tr>\n",
       "      <th>3</th>\n",
       "      <td>[0, 52920, 358, 15119, 27662, 12, 38273, 89, 2...</td>\n",
       "      <td>[1, 1, 1, 1, 1, 1, 1, 1, 1, 1, 1, 1, 1, 1, 1, ...</td>\n",
       "      <td>[0, 1721, 9282, 1551, 241140, 7474, 5341, 4967...</td>\n",
       "      <td>[1, 1, 1, 1, 1, 1, 1, 1, 1, 1, 1, 1, 1, 1, 1, ...</td>\n",
       "      <td>[9, 34, 64]</td>\n",
       "      <td>[10, 55, 57]</td>\n",
       "    </tr>\n",
       "    <tr>\n",
       "      <th>4</th>\n",
       "      <td>[0, 3858, 18229, 16317, 29, 6, 150652, 61056, ...</td>\n",
       "      <td>[1, 1, 1, 1, 1, 1, 1, 1, 1, 1, 1, 1, 1, 1, 1, ...</td>\n",
       "      <td>[0, 2443, 1488, 14709, 6, 150652, 22885, 15, 3...</td>\n",
       "      <td>[1, 1, 1, 1, 1, 1, 1, 1, 1, 1, 1, 1, 1, 1, 1, ...</td>\n",
       "      <td>[10, 40, 64]</td>\n",
       "      <td>[19, 64, 64]</td>\n",
       "    </tr>\n",
       "    <tr>\n",
       "      <th>...</th>\n",
       "      <td>...</td>\n",
       "      <td>...</td>\n",
       "      <td>...</td>\n",
       "      <td>...</td>\n",
       "      <td>...</td>\n",
       "      <td>...</td>\n",
       "    </tr>\n",
       "    <tr>\n",
       "      <th>254247</th>\n",
       "      <td>[0, 3076, 454, 1062, 9016, 20, 540, 178149, 2,...</td>\n",
       "      <td>[1, 1, 1, 1, 1, 1, 1, 1, 1, 1, 1, 1, 1, 1, 1, ...</td>\n",
       "      <td>[0, 239, 199625, 2, 0, 2, 0, 2, 0, 2, 1, 1, 1,...</td>\n",
       "      <td>[1, 1, 1, 1, 1, 1, 1, 1, 1, 1, 0, 0, 0, 0, 0, ...</td>\n",
       "      <td>[9, 11, 24]</td>\n",
       "      <td>[4, 6, 8]</td>\n",
       "    </tr>\n",
       "    <tr>\n",
       "      <th>254248</th>\n",
       "      <td>[0, 3076, 454, 1062, 9016, 20, 540, 178149, 2,...</td>\n",
       "      <td>[1, 1, 1, 1, 1, 1, 1, 1, 1, 1, 1, 1, 1, 1, 1, ...</td>\n",
       "      <td>[0, 97033, 7, 144, 14364, 2, 0, 2, 0, 2, 0, 2,...</td>\n",
       "      <td>[1, 1, 1, 1, 1, 1, 1, 1, 1, 1, 1, 1, 0, 0, 0, ...</td>\n",
       "      <td>[9, 11, 24]</td>\n",
       "      <td>[6, 8, 10]</td>\n",
       "    </tr>\n",
       "    <tr>\n",
       "      <th>254249</th>\n",
       "      <td>[0, 3076, 454, 1062, 9016, 20, 540, 178149, 2,...</td>\n",
       "      <td>[1, 1, 1, 1, 1, 1, 1, 1, 1, 1, 1, 1, 1, 1, 1, ...</td>\n",
       "      <td>[0, 5599, 40, 42624, 8, 51, 178149, 2, 0, 2, 0...</td>\n",
       "      <td>[1, 1, 1, 1, 1, 1, 1, 1, 1, 1, 1, 1, 1, 1, 0, ...</td>\n",
       "      <td>[9, 11, 24]</td>\n",
       "      <td>[8, 10, 12]</td>\n",
       "    </tr>\n",
       "    <tr>\n",
       "      <th>254250</th>\n",
       "      <td>[0, 3076, 454, 1062, 9016, 20, 540, 178149, 2,...</td>\n",
       "      <td>[1, 1, 1, 1, 1, 1, 1, 1, 1, 1, 1, 1, 1, 1, 1, ...</td>\n",
       "      <td>[0, 44891, 14618, 12, 540, 178149, 2, 0, 2, 0,...</td>\n",
       "      <td>[1, 1, 1, 1, 1, 1, 1, 1, 1, 1, 1, 1, 1, 0, 0, ...</td>\n",
       "      <td>[9, 11, 24]</td>\n",
       "      <td>[7, 9, 11]</td>\n",
       "    </tr>\n",
       "    <tr>\n",
       "      <th>254251</th>\n",
       "      <td>[0, 636, 14618, 361, 2, 0, 2, 0, 992, 3812, 20...</td>\n",
       "      <td>[1, 1, 1, 1, 1, 1, 1, 1, 1, 1, 1, 1, 1, 1, 1, ...</td>\n",
       "      <td>[0, 3314, 3081, 158, 576, 37575, 2, 0, 2, 0, 2...</td>\n",
       "      <td>[1, 1, 1, 1, 1, 1, 1, 1, 1, 1, 1, 1, 1, 0, 0, ...</td>\n",
       "      <td>[5, 7, 32]</td>\n",
       "      <td>[7, 9, 11]</td>\n",
       "    </tr>\n",
       "  </tbody>\n",
       "</table>\n",
       "<p>254252 rows × 6 columns</p>\n",
       "</div>\n",
       "      <button class=\"colab-df-convert\" onclick=\"convertToInteractive('df-efcf28bb-d52b-42c5-b81a-4d83980dbda6')\"\n",
       "              title=\"Convert this dataframe to an interactive table.\"\n",
       "              style=\"display:none;\">\n",
       "        \n",
       "  <svg xmlns=\"http://www.w3.org/2000/svg\" height=\"24px\"viewBox=\"0 0 24 24\"\n",
       "       width=\"24px\">\n",
       "    <path d=\"M0 0h24v24H0V0z\" fill=\"none\"/>\n",
       "    <path d=\"M18.56 5.44l.94 2.06.94-2.06 2.06-.94-2.06-.94-.94-2.06-.94 2.06-2.06.94zm-11 1L8.5 8.5l.94-2.06 2.06-.94-2.06-.94L8.5 2.5l-.94 2.06-2.06.94zm10 10l.94 2.06.94-2.06 2.06-.94-2.06-.94-.94-2.06-.94 2.06-2.06.94z\"/><path d=\"M17.41 7.96l-1.37-1.37c-.4-.4-.92-.59-1.43-.59-.52 0-1.04.2-1.43.59L10.3 9.45l-7.72 7.72c-.78.78-.78 2.05 0 2.83L4 21.41c.39.39.9.59 1.41.59.51 0 1.02-.2 1.41-.59l7.78-7.78 2.81-2.81c.8-.78.8-2.07 0-2.86zM5.41 20L4 18.59l7.72-7.72 1.47 1.35L5.41 20z\"/>\n",
       "  </svg>\n",
       "      </button>\n",
       "      \n",
       "  <style>\n",
       "    .colab-df-container {\n",
       "      display:flex;\n",
       "      flex-wrap:wrap;\n",
       "      gap: 12px;\n",
       "    }\n",
       "\n",
       "    .colab-df-convert {\n",
       "      background-color: #E8F0FE;\n",
       "      border: none;\n",
       "      border-radius: 50%;\n",
       "      cursor: pointer;\n",
       "      display: none;\n",
       "      fill: #1967D2;\n",
       "      height: 32px;\n",
       "      padding: 0 0 0 0;\n",
       "      width: 32px;\n",
       "    }\n",
       "\n",
       "    .colab-df-convert:hover {\n",
       "      background-color: #E2EBFA;\n",
       "      box-shadow: 0px 1px 2px rgba(60, 64, 67, 0.3), 0px 1px 3px 1px rgba(60, 64, 67, 0.15);\n",
       "      fill: #174EA6;\n",
       "    }\n",
       "\n",
       "    [theme=dark] .colab-df-convert {\n",
       "      background-color: #3B4455;\n",
       "      fill: #D2E3FC;\n",
       "    }\n",
       "\n",
       "    [theme=dark] .colab-df-convert:hover {\n",
       "      background-color: #434B5C;\n",
       "      box-shadow: 0px 1px 3px 1px rgba(0, 0, 0, 0.15);\n",
       "      filter: drop-shadow(0px 1px 2px rgba(0, 0, 0, 0.3));\n",
       "      fill: #FFFFFF;\n",
       "    }\n",
       "  </style>\n",
       "\n",
       "      <script>\n",
       "        const buttonEl =\n",
       "          document.querySelector('#df-efcf28bb-d52b-42c5-b81a-4d83980dbda6 button.colab-df-convert');\n",
       "        buttonEl.style.display =\n",
       "          google.colab.kernel.accessAllowed ? 'block' : 'none';\n",
       "\n",
       "        async function convertToInteractive(key) {\n",
       "          const element = document.querySelector('#df-efcf28bb-d52b-42c5-b81a-4d83980dbda6');\n",
       "          const dataTable =\n",
       "            await google.colab.kernel.invokeFunction('convertToInteractive',\n",
       "                                                     [key], {});\n",
       "          if (!dataTable) return;\n",
       "\n",
       "          const docLinkHtml = 'Like what you see? Visit the ' +\n",
       "            '<a target=\"_blank\" href=https://colab.research.google.com/notebooks/data_table.ipynb>data table notebook</a>'\n",
       "            + ' to learn more about interactive tables.';\n",
       "          element.innerHTML = '';\n",
       "          dataTable['output_type'] = 'display_data';\n",
       "          await google.colab.output.renderOutput(dataTable, element);\n",
       "          const docLink = document.createElement('div');\n",
       "          docLink.innerHTML = docLinkHtml;\n",
       "          element.appendChild(docLink);\n",
       "        }\n",
       "      </script>\n",
       "    </div>\n",
       "  </div>\n",
       "  "
      ],
      "text/plain": [
       "                                            t_0_input_ids  \\\n",
       "0       [0, 3858, 18229, 16317, 29, 6, 150652, 61056, ...   \n",
       "1       [0, 52920, 358, 15119, 27662, 12, 38273, 89, 2...   \n",
       "2       [0, 3858, 18229, 16317, 29, 6, 150652, 61056, ...   \n",
       "3       [0, 52920, 358, 15119, 27662, 12, 38273, 89, 2...   \n",
       "4       [0, 3858, 18229, 16317, 29, 6, 150652, 61056, ...   \n",
       "...                                                   ...   \n",
       "254247  [0, 3076, 454, 1062, 9016, 20, 540, 178149, 2,...   \n",
       "254248  [0, 3076, 454, 1062, 9016, 20, 540, 178149, 2,...   \n",
       "254249  [0, 3076, 454, 1062, 9016, 20, 540, 178149, 2,...   \n",
       "254250  [0, 3076, 454, 1062, 9016, 20, 540, 178149, 2,...   \n",
       "254251  [0, 636, 14618, 361, 2, 0, 2, 0, 992, 3812, 20...   \n",
       "\n",
       "                                       t_1_attention_mask  \\\n",
       "0       [1, 1, 1, 1, 1, 1, 1, 1, 1, 1, 1, 1, 1, 1, 1, ...   \n",
       "1       [1, 1, 1, 1, 1, 1, 1, 1, 1, 1, 1, 1, 1, 1, 1, ...   \n",
       "2       [1, 1, 1, 1, 1, 1, 1, 1, 1, 1, 1, 1, 1, 1, 1, ...   \n",
       "3       [1, 1, 1, 1, 1, 1, 1, 1, 1, 1, 1, 1, 1, 1, 1, ...   \n",
       "4       [1, 1, 1, 1, 1, 1, 1, 1, 1, 1, 1, 1, 1, 1, 1, ...   \n",
       "...                                                   ...   \n",
       "254247  [1, 1, 1, 1, 1, 1, 1, 1, 1, 1, 1, 1, 1, 1, 1, ...   \n",
       "254248  [1, 1, 1, 1, 1, 1, 1, 1, 1, 1, 1, 1, 1, 1, 1, ...   \n",
       "254249  [1, 1, 1, 1, 1, 1, 1, 1, 1, 1, 1, 1, 1, 1, 1, ...   \n",
       "254250  [1, 1, 1, 1, 1, 1, 1, 1, 1, 1, 1, 1, 1, 1, 1, ...   \n",
       "254251  [1, 1, 1, 1, 1, 1, 1, 1, 1, 1, 1, 1, 1, 1, 1, ...   \n",
       "\n",
       "                                            c_0_input_ids  \\\n",
       "0       [0, 7331, 14709, 1770, 6, 150652, 22885, 2, 0,...   \n",
       "1       [0, 7331, 14709, 1770, 6, 150652, 22885, 2, 0,...   \n",
       "2       [0, 1721, 9282, 1551, 241140, 7474, 5341, 4967...   \n",
       "3       [0, 1721, 9282, 1551, 241140, 7474, 5341, 4967...   \n",
       "4       [0, 2443, 1488, 14709, 6, 150652, 22885, 15, 3...   \n",
       "...                                                   ...   \n",
       "254247  [0, 239, 199625, 2, 0, 2, 0, 2, 0, 2, 1, 1, 1,...   \n",
       "254248  [0, 97033, 7, 144, 14364, 2, 0, 2, 0, 2, 0, 2,...   \n",
       "254249  [0, 5599, 40, 42624, 8, 51, 178149, 2, 0, 2, 0...   \n",
       "254250  [0, 44891, 14618, 12, 540, 178149, 2, 0, 2, 0,...   \n",
       "254251  [0, 3314, 3081, 158, 576, 37575, 2, 0, 2, 0, 2...   \n",
       "\n",
       "                                       c_1_attention_mask  \\\n",
       "0       [1, 1, 1, 1, 1, 1, 1, 1, 1, 1, 1, 1, 1, 1, 1, ...   \n",
       "1       [1, 1, 1, 1, 1, 1, 1, 1, 1, 1, 1, 1, 1, 1, 1, ...   \n",
       "2       [1, 1, 1, 1, 1, 1, 1, 1, 1, 1, 1, 1, 1, 1, 1, ...   \n",
       "3       [1, 1, 1, 1, 1, 1, 1, 1, 1, 1, 1, 1, 1, 1, 1, ...   \n",
       "4       [1, 1, 1, 1, 1, 1, 1, 1, 1, 1, 1, 1, 1, 1, 1, ...   \n",
       "...                                                   ...   \n",
       "254247  [1, 1, 1, 1, 1, 1, 1, 1, 1, 1, 0, 0, 0, 0, 0, ...   \n",
       "254248  [1, 1, 1, 1, 1, 1, 1, 1, 1, 1, 1, 1, 0, 0, 0, ...   \n",
       "254249  [1, 1, 1, 1, 1, 1, 1, 1, 1, 1, 1, 1, 1, 1, 0, ...   \n",
       "254250  [1, 1, 1, 1, 1, 1, 1, 1, 1, 1, 1, 1, 1, 0, 0, ...   \n",
       "254251  [1, 1, 1, 1, 1, 1, 1, 1, 1, 1, 1, 1, 1, 0, 0, ...   \n",
       "\n",
       "       t_0_input_ids_sep_indices c_0_input_ids_sep_indices  \n",
       "0                   [10, 40, 64]               [8, 33, 35]  \n",
       "1                    [9, 34, 64]               [8, 33, 35]  \n",
       "2                   [10, 40, 64]              [10, 55, 57]  \n",
       "3                    [9, 34, 64]              [10, 55, 57]  \n",
       "4                   [10, 40, 64]              [19, 64, 64]  \n",
       "...                          ...                       ...  \n",
       "254247               [9, 11, 24]                 [4, 6, 8]  \n",
       "254248               [9, 11, 24]                [6, 8, 10]  \n",
       "254249               [9, 11, 24]               [8, 10, 12]  \n",
       "254250               [9, 11, 24]                [7, 9, 11]  \n",
       "254251                [5, 7, 32]                [7, 9, 11]  \n",
       "\n",
       "[254252 rows x 6 columns]"
      ]
     },
     "execution_count": 21,
     "metadata": {},
     "output_type": "execute_result"
    }
   ],
   "source": [
    "# Below is inplace transformation!\n",
    "find_col_sep_indices(train_tokenized_df, sep_input_ids = [2,0], num_seperators = 3)"
   ]
  },
  {
   "cell_type": "code",
   "execution_count": 22,
   "id": "a374c75d-3fcc-40a1-8ffc-4c2b6a8af4f3",
   "metadata": {
    "colab": {
     "base_uri": "https://localhost:8080/",
     "height": 257
    },
    "collapsed": false,
    "id": "a374c75d-3fcc-40a1-8ffc-4c2b6a8af4f3",
    "outputId": "bc3420b9-5250-40f0-dca3-144eccf34e12"
   },
   "outputs": [
    {
     "data": {
      "text/html": [
       "\n",
       "            <style>\n",
       "            pre {\n",
       "                white-space: pre-wrap;\n",
       "                }\n",
       "            </style>\n",
       "        "
      ],
      "text/plain": [
       "<IPython.core.display.HTML object>"
      ]
     },
     "metadata": {},
     "output_type": "display_data"
    },
    {
     "name": "stdout",
     "output_type": "stream",
     "text": [
      "<class 'pandas.core.frame.DataFrame'>\n",
      "Int64Index: 254252 entries, 0 to 254251\n",
      "Data columns (total 6 columns):\n",
      " #   Column                     Non-Null Count   Dtype \n",
      "---  ------                     --------------   ----- \n",
      " 0   t_0_input_ids              254252 non-null  object\n",
      " 1   t_1_attention_mask         254252 non-null  object\n",
      " 2   c_0_input_ids              254252 non-null  object\n",
      " 3   c_1_attention_mask         254252 non-null  object\n",
      " 4   t_0_input_ids_sep_indices  254252 non-null  object\n",
      " 5   c_0_input_ids_sep_indices  254252 non-null  object\n",
      "dtypes: object(6)\n",
      "memory usage: 13.6+ MB\n"
     ]
    }
   ],
   "source": [
    "train_tokenized_df.info()"
   ]
  },
  {
   "cell_type": "code",
   "execution_count": 23,
   "id": "686521a9-a076-4d13-aa53-b8d179bd767a",
   "metadata": {
    "colab": {
     "base_uri": "https://localhost:8080/",
     "height": 363
    },
    "collapsed": false,
    "id": "686521a9-a076-4d13-aa53-b8d179bd767a",
    "outputId": "9dcf047d-41b3-405d-b9c2-0c7422ed9abc"
   },
   "outputs": [
    {
     "data": {
      "text/html": [
       "\n",
       "            <style>\n",
       "            pre {\n",
       "                white-space: pre-wrap;\n",
       "                }\n",
       "            </style>\n",
       "        "
      ],
      "text/plain": [
       "<IPython.core.display.HTML object>"
      ]
     },
     "metadata": {},
     "output_type": "display_data"
    },
    {
     "data": {
      "text/html": [
       "\n",
       "  <div id=\"df-8bd8a66a-58e1-418b-a285-0dfd6036acff\">\n",
       "    <div class=\"colab-df-container\">\n",
       "      <div>\n",
       "<style scoped>\n",
       "    .dataframe tbody tr th:only-of-type {\n",
       "        vertical-align: middle;\n",
       "    }\n",
       "\n",
       "    .dataframe tbody tr th {\n",
       "        vertical-align: top;\n",
       "    }\n",
       "\n",
       "    .dataframe thead th {\n",
       "        text-align: right;\n",
       "    }\n",
       "</style>\n",
       "<table border=\"1\" class=\"dataframe\">\n",
       "  <thead>\n",
       "    <tr style=\"text-align: right;\">\n",
       "      <th></th>\n",
       "      <th>t_0_input_ids_sep_indices</th>\n",
       "    </tr>\n",
       "  </thead>\n",
       "  <tbody>\n",
       "    <tr>\n",
       "      <th>0</th>\n",
       "      <td>[10, 40, 64]</td>\n",
       "    </tr>\n",
       "    <tr>\n",
       "      <th>1</th>\n",
       "      <td>[9, 34, 64]</td>\n",
       "    </tr>\n",
       "    <tr>\n",
       "      <th>2</th>\n",
       "      <td>[10, 40, 64]</td>\n",
       "    </tr>\n",
       "    <tr>\n",
       "      <th>3</th>\n",
       "      <td>[9, 34, 64]</td>\n",
       "    </tr>\n",
       "    <tr>\n",
       "      <th>4</th>\n",
       "      <td>[10, 40, 64]</td>\n",
       "    </tr>\n",
       "    <tr>\n",
       "      <th>5</th>\n",
       "      <td>[9, 34, 64]</td>\n",
       "    </tr>\n",
       "    <tr>\n",
       "      <th>6</th>\n",
       "      <td>[10, 40, 64]</td>\n",
       "    </tr>\n",
       "    <tr>\n",
       "      <th>7</th>\n",
       "      <td>[10, 20, 56]</td>\n",
       "    </tr>\n",
       "    <tr>\n",
       "      <th>8</th>\n",
       "      <td>[10, 28, 51]</td>\n",
       "    </tr>\n",
       "    <tr>\n",
       "      <th>9</th>\n",
       "      <td>[10, 32, 60]</td>\n",
       "    </tr>\n",
       "  </tbody>\n",
       "</table>\n",
       "</div>\n",
       "      <button class=\"colab-df-convert\" onclick=\"convertToInteractive('df-8bd8a66a-58e1-418b-a285-0dfd6036acff')\"\n",
       "              title=\"Convert this dataframe to an interactive table.\"\n",
       "              style=\"display:none;\">\n",
       "        \n",
       "  <svg xmlns=\"http://www.w3.org/2000/svg\" height=\"24px\"viewBox=\"0 0 24 24\"\n",
       "       width=\"24px\">\n",
       "    <path d=\"M0 0h24v24H0V0z\" fill=\"none\"/>\n",
       "    <path d=\"M18.56 5.44l.94 2.06.94-2.06 2.06-.94-2.06-.94-.94-2.06-.94 2.06-2.06.94zm-11 1L8.5 8.5l.94-2.06 2.06-.94-2.06-.94L8.5 2.5l-.94 2.06-2.06.94zm10 10l.94 2.06.94-2.06 2.06-.94-2.06-.94-.94-2.06-.94 2.06-2.06.94z\"/><path d=\"M17.41 7.96l-1.37-1.37c-.4-.4-.92-.59-1.43-.59-.52 0-1.04.2-1.43.59L10.3 9.45l-7.72 7.72c-.78.78-.78 2.05 0 2.83L4 21.41c.39.39.9.59 1.41.59.51 0 1.02-.2 1.41-.59l7.78-7.78 2.81-2.81c.8-.78.8-2.07 0-2.86zM5.41 20L4 18.59l7.72-7.72 1.47 1.35L5.41 20z\"/>\n",
       "  </svg>\n",
       "      </button>\n",
       "      \n",
       "  <style>\n",
       "    .colab-df-container {\n",
       "      display:flex;\n",
       "      flex-wrap:wrap;\n",
       "      gap: 12px;\n",
       "    }\n",
       "\n",
       "    .colab-df-convert {\n",
       "      background-color: #E8F0FE;\n",
       "      border: none;\n",
       "      border-radius: 50%;\n",
       "      cursor: pointer;\n",
       "      display: none;\n",
       "      fill: #1967D2;\n",
       "      height: 32px;\n",
       "      padding: 0 0 0 0;\n",
       "      width: 32px;\n",
       "    }\n",
       "\n",
       "    .colab-df-convert:hover {\n",
       "      background-color: #E2EBFA;\n",
       "      box-shadow: 0px 1px 2px rgba(60, 64, 67, 0.3), 0px 1px 3px 1px rgba(60, 64, 67, 0.15);\n",
       "      fill: #174EA6;\n",
       "    }\n",
       "\n",
       "    [theme=dark] .colab-df-convert {\n",
       "      background-color: #3B4455;\n",
       "      fill: #D2E3FC;\n",
       "    }\n",
       "\n",
       "    [theme=dark] .colab-df-convert:hover {\n",
       "      background-color: #434B5C;\n",
       "      box-shadow: 0px 1px 3px 1px rgba(0, 0, 0, 0.15);\n",
       "      filter: drop-shadow(0px 1px 2px rgba(0, 0, 0, 0.3));\n",
       "      fill: #FFFFFF;\n",
       "    }\n",
       "  </style>\n",
       "\n",
       "      <script>\n",
       "        const buttonEl =\n",
       "          document.querySelector('#df-8bd8a66a-58e1-418b-a285-0dfd6036acff button.colab-df-convert');\n",
       "        buttonEl.style.display =\n",
       "          google.colab.kernel.accessAllowed ? 'block' : 'none';\n",
       "\n",
       "        async function convertToInteractive(key) {\n",
       "          const element = document.querySelector('#df-8bd8a66a-58e1-418b-a285-0dfd6036acff');\n",
       "          const dataTable =\n",
       "            await google.colab.kernel.invokeFunction('convertToInteractive',\n",
       "                                                     [key], {});\n",
       "          if (!dataTable) return;\n",
       "\n",
       "          const docLinkHtml = 'Like what you see? Visit the ' +\n",
       "            '<a target=\"_blank\" href=https://colab.research.google.com/notebooks/data_table.ipynb>data table notebook</a>'\n",
       "            + ' to learn more about interactive tables.';\n",
       "          element.innerHTML = '';\n",
       "          dataTable['output_type'] = 'display_data';\n",
       "          await google.colab.output.renderOutput(dataTable, element);\n",
       "          const docLink = document.createElement('div');\n",
       "          docLink.innerHTML = docLinkHtml;\n",
       "          element.appendChild(docLink);\n",
       "        }\n",
       "      </script>\n",
       "    </div>\n",
       "  </div>\n",
       "  "
      ],
      "text/plain": [
       "  t_0_input_ids_sep_indices\n",
       "0              [10, 40, 64]\n",
       "1               [9, 34, 64]\n",
       "2              [10, 40, 64]\n",
       "3               [9, 34, 64]\n",
       "4              [10, 40, 64]\n",
       "5               [9, 34, 64]\n",
       "6              [10, 40, 64]\n",
       "7              [10, 20, 56]\n",
       "8              [10, 28, 51]\n",
       "9              [10, 32, 60]"
      ]
     },
     "execution_count": 23,
     "metadata": {},
     "output_type": "execute_result"
    }
   ],
   "source": [
    "train_tokenized_df[['t_0_input_ids_sep_indices']][0:10]"
   ]
  },
  {
   "cell_type": "code",
   "execution_count": 24,
   "id": "zkMN4UzVPN3z",
   "metadata": {
    "colab": {
     "base_uri": "https://localhost:8080/",
     "height": 17
    },
    "collapsed": false,
    "id": "zkMN4UzVPN3z",
    "outputId": "698a4862-5db9-437d-fe1a-7de05c01fbe9"
   },
   "outputs": [
    {
     "data": {
      "text/html": [
       "\n",
       "            <style>\n",
       "            pre {\n",
       "                white-space: pre-wrap;\n",
       "                }\n",
       "            </style>\n",
       "        "
      ],
      "text/plain": [
       "<IPython.core.display.HTML object>"
      ]
     },
     "metadata": {},
     "output_type": "display_data"
    }
   ],
   "source": [
    "val_topics_tokenized_df, val_contents_tokenized_df, val_corr_df = get_pos_corr_subsets_for_binary_fold( val_df, contents_tokenized_df, topics_tokenized_df)"
   ]
  },
  {
   "cell_type": "code",
   "execution_count": 25,
   "id": "5053daaf-a7c7-40d6-8d58-6508e34e1896",
   "metadata": {
    "colab": {
     "base_uri": "https://localhost:8080/",
     "height": 424
    },
    "collapsed": false,
    "id": "5053daaf-a7c7-40d6-8d58-6508e34e1896",
    "outputId": "bee81609-d659-4acd-bd86-d2b9545bb5c4"
   },
   "outputs": [
    {
     "data": {
      "text/html": [
       "\n",
       "            <style>\n",
       "            pre {\n",
       "                white-space: pre-wrap;\n",
       "                }\n",
       "            </style>\n",
       "        "
      ],
      "text/plain": [
       "<IPython.core.display.HTML object>"
      ]
     },
     "metadata": {},
     "output_type": "display_data"
    },
    {
     "data": {
      "text/html": [
       "\n",
       "  <div id=\"df-f1695564-721e-41ec-b3d0-0cbde1d68d90\">\n",
       "    <div class=\"colab-df-container\">\n",
       "      <div>\n",
       "<style scoped>\n",
       "    .dataframe tbody tr th:only-of-type {\n",
       "        vertical-align: middle;\n",
       "    }\n",
       "\n",
       "    .dataframe tbody tr th {\n",
       "        vertical-align: top;\n",
       "    }\n",
       "\n",
       "    .dataframe thead th {\n",
       "        text-align: right;\n",
       "    }\n",
       "</style>\n",
       "<table border=\"1\" class=\"dataframe\">\n",
       "  <thead>\n",
       "    <tr style=\"text-align: right;\">\n",
       "      <th></th>\n",
       "      <th>index</th>\n",
       "      <th>id</th>\n",
       "      <th>c_0_input_ids</th>\n",
       "      <th>c_1_attention_mask</th>\n",
       "      <th>c_0_input_ids_sep_indices</th>\n",
       "    </tr>\n",
       "  </thead>\n",
       "  <tbody>\n",
       "    <tr>\n",
       "      <th>0</th>\n",
       "      <td>0</td>\n",
       "      <td>c_00046806ad8a</td>\n",
       "      <td>[0, 113307, 13, 6024, 9, 4803, 217, 101935, 2,...</td>\n",
       "      <td>[1, 1, 1, 1, 1, 1, 1, 1, 1, 1, 1, 1, 1, 1, 1, ...</td>\n",
       "      <td>[9, 23, 25]</td>\n",
       "    </tr>\n",
       "    <tr>\n",
       "      <th>1</th>\n",
       "      <td>1</td>\n",
       "      <td>c_000751f58836</td>\n",
       "      <td>[0, 61765, 35066, 111, 130370, 2967, 15, 3355,...</td>\n",
       "      <td>[1, 1, 1, 1, 1, 1, 1, 1, 1, 1, 1, 1, 1, 1, 1, ...</td>\n",
       "      <td>[12, 35, 64]</td>\n",
       "    </tr>\n",
       "    <tr>\n",
       "      <th>2</th>\n",
       "      <td>2</td>\n",
       "      <td>c_00153f28489c</td>\n",
       "      <td>[0, 3731, 114602, 146, 20286, 2, 0, 2, 0, 2, 0...</td>\n",
       "      <td>[1, 1, 1, 1, 1, 1, 1, 1, 1, 1, 1, 1, 0, 0, 0, ...</td>\n",
       "      <td>[6, 8, 10]</td>\n",
       "    </tr>\n",
       "    <tr>\n",
       "      <th>3</th>\n",
       "      <td>3</td>\n",
       "      <td>c_0016f92657ea</td>\n",
       "      <td>[0, 9626, 144057, 3687, 34292, 2, 0, 6565, 452...</td>\n",
       "      <td>[1, 1, 1, 1, 1, 1, 1, 1, 1, 1, 1, 1, 1, 1, 1, ...</td>\n",
       "      <td>[6, 32, 64]</td>\n",
       "    </tr>\n",
       "    <tr>\n",
       "      <th>4</th>\n",
       "      <td>4</td>\n",
       "      <td>c_0019d72212e6</td>\n",
       "      <td>[0, 10934, 8945, 1861, 47, 2501, 432, 41975, 1...</td>\n",
       "      <td>[1, 1, 1, 1, 1, 1, 1, 1, 1, 1, 1, 1, 1, 1, 1, ...</td>\n",
       "      <td>[16, 64, 64]</td>\n",
       "    </tr>\n",
       "    <tr>\n",
       "      <th>...</th>\n",
       "      <td>...</td>\n",
       "      <td>...</td>\n",
       "      <td>...</td>\n",
       "      <td>...</td>\n",
       "      <td>...</td>\n",
       "    </tr>\n",
       "    <tr>\n",
       "      <th>17416</th>\n",
       "      <td>17416</td>\n",
       "      <td>c_ffe2bc80b2f0</td>\n",
       "      <td>[0, 4764, 1909, 6, 41382, 7, 136, 86869, 116, ...</td>\n",
       "      <td>[1, 1, 1, 1, 1, 1, 1, 1, 1, 1, 1, 1, 1, 1, 1, ...</td>\n",
       "      <td>[12, 24, 26]</td>\n",
       "    </tr>\n",
       "    <tr>\n",
       "      <th>17417</th>\n",
       "      <td>17417</td>\n",
       "      <td>c_ffed65e76e39</td>\n",
       "      <td>[0, 82077, 660, 12, 581, 38280, 136, 158, 7, 1...</td>\n",
       "      <td>[1, 1, 1, 1, 1, 1, 1, 1, 1, 1, 1, 1, 1, 1, 1, ...</td>\n",
       "      <td>[15, 44, 64]</td>\n",
       "    </tr>\n",
       "    <tr>\n",
       "      <th>17418</th>\n",
       "      <td>17418</td>\n",
       "      <td>c_ffed80ebd964</td>\n",
       "      <td>[0, 29117, 209, 7, 136, 805, 7, 15, 157, 456, ...</td>\n",
       "      <td>[1, 1, 1, 1, 1, 1, 1, 1, 1, 1, 1, 1, 1, 1, 1, ...</td>\n",
       "      <td>[14, 32, 34]</td>\n",
       "    </tr>\n",
       "    <tr>\n",
       "      <th>17419</th>\n",
       "      <td>17419</td>\n",
       "      <td>c_fff300566888</td>\n",
       "      <td>[0, 39215, 22819, 4, 29805, 98, 70, 159, 28889...</td>\n",
       "      <td>[1, 1, 1, 1, 1, 1, 1, 1, 1, 1, 1, 1, 1, 1, 1, ...</td>\n",
       "      <td>[13, 19, 21]</td>\n",
       "    </tr>\n",
       "    <tr>\n",
       "      <th>17420</th>\n",
       "      <td>17420</td>\n",
       "      <td>c_fffbfc3d60c6</td>\n",
       "      <td>[0, 14012, 454, 59801, 454, 62015, 297, 454, 6...</td>\n",
       "      <td>[1, 1, 1, 1, 1, 1, 1, 1, 1, 1, 1, 1, 1, 1, 1, ...</td>\n",
       "      <td>[17, 61, 64]</td>\n",
       "    </tr>\n",
       "  </tbody>\n",
       "</table>\n",
       "<p>17421 rows × 5 columns</p>\n",
       "</div>\n",
       "      <button class=\"colab-df-convert\" onclick=\"convertToInteractive('df-f1695564-721e-41ec-b3d0-0cbde1d68d90')\"\n",
       "              title=\"Convert this dataframe to an interactive table.\"\n",
       "              style=\"display:none;\">\n",
       "        \n",
       "  <svg xmlns=\"http://www.w3.org/2000/svg\" height=\"24px\"viewBox=\"0 0 24 24\"\n",
       "       width=\"24px\">\n",
       "    <path d=\"M0 0h24v24H0V0z\" fill=\"none\"/>\n",
       "    <path d=\"M18.56 5.44l.94 2.06.94-2.06 2.06-.94-2.06-.94-.94-2.06-.94 2.06-2.06.94zm-11 1L8.5 8.5l.94-2.06 2.06-.94-2.06-.94L8.5 2.5l-.94 2.06-2.06.94zm10 10l.94 2.06.94-2.06 2.06-.94-2.06-.94-.94-2.06-.94 2.06-2.06.94z\"/><path d=\"M17.41 7.96l-1.37-1.37c-.4-.4-.92-.59-1.43-.59-.52 0-1.04.2-1.43.59L10.3 9.45l-7.72 7.72c-.78.78-.78 2.05 0 2.83L4 21.41c.39.39.9.59 1.41.59.51 0 1.02-.2 1.41-.59l7.78-7.78 2.81-2.81c.8-.78.8-2.07 0-2.86zM5.41 20L4 18.59l7.72-7.72 1.47 1.35L5.41 20z\"/>\n",
       "  </svg>\n",
       "      </button>\n",
       "      \n",
       "  <style>\n",
       "    .colab-df-container {\n",
       "      display:flex;\n",
       "      flex-wrap:wrap;\n",
       "      gap: 12px;\n",
       "    }\n",
       "\n",
       "    .colab-df-convert {\n",
       "      background-color: #E8F0FE;\n",
       "      border: none;\n",
       "      border-radius: 50%;\n",
       "      cursor: pointer;\n",
       "      display: none;\n",
       "      fill: #1967D2;\n",
       "      height: 32px;\n",
       "      padding: 0 0 0 0;\n",
       "      width: 32px;\n",
       "    }\n",
       "\n",
       "    .colab-df-convert:hover {\n",
       "      background-color: #E2EBFA;\n",
       "      box-shadow: 0px 1px 2px rgba(60, 64, 67, 0.3), 0px 1px 3px 1px rgba(60, 64, 67, 0.15);\n",
       "      fill: #174EA6;\n",
       "    }\n",
       "\n",
       "    [theme=dark] .colab-df-convert {\n",
       "      background-color: #3B4455;\n",
       "      fill: #D2E3FC;\n",
       "    }\n",
       "\n",
       "    [theme=dark] .colab-df-convert:hover {\n",
       "      background-color: #434B5C;\n",
       "      box-shadow: 0px 1px 3px 1px rgba(0, 0, 0, 0.15);\n",
       "      filter: drop-shadow(0px 1px 2px rgba(0, 0, 0, 0.3));\n",
       "      fill: #FFFFFF;\n",
       "    }\n",
       "  </style>\n",
       "\n",
       "      <script>\n",
       "        const buttonEl =\n",
       "          document.querySelector('#df-f1695564-721e-41ec-b3d0-0cbde1d68d90 button.colab-df-convert');\n",
       "        buttonEl.style.display =\n",
       "          google.colab.kernel.accessAllowed ? 'block' : 'none';\n",
       "\n",
       "        async function convertToInteractive(key) {\n",
       "          const element = document.querySelector('#df-f1695564-721e-41ec-b3d0-0cbde1d68d90');\n",
       "          const dataTable =\n",
       "            await google.colab.kernel.invokeFunction('convertToInteractive',\n",
       "                                                     [key], {});\n",
       "          if (!dataTable) return;\n",
       "\n",
       "          const docLinkHtml = 'Like what you see? Visit the ' +\n",
       "            '<a target=\"_blank\" href=https://colab.research.google.com/notebooks/data_table.ipynb>data table notebook</a>'\n",
       "            + ' to learn more about interactive tables.';\n",
       "          element.innerHTML = '';\n",
       "          dataTable['output_type'] = 'display_data';\n",
       "          await google.colab.output.renderOutput(dataTable, element);\n",
       "          const docLink = document.createElement('div');\n",
       "          docLink.innerHTML = docLinkHtml;\n",
       "          element.appendChild(docLink);\n",
       "        }\n",
       "      </script>\n",
       "    </div>\n",
       "  </div>\n",
       "  "
      ],
      "text/plain": [
       "       index              id  \\\n",
       "0          0  c_00046806ad8a   \n",
       "1          1  c_000751f58836   \n",
       "2          2  c_00153f28489c   \n",
       "3          3  c_0016f92657ea   \n",
       "4          4  c_0019d72212e6   \n",
       "...      ...             ...   \n",
       "17416  17416  c_ffe2bc80b2f0   \n",
       "17417  17417  c_ffed65e76e39   \n",
       "17418  17418  c_ffed80ebd964   \n",
       "17419  17419  c_fff300566888   \n",
       "17420  17420  c_fffbfc3d60c6   \n",
       "\n",
       "                                           c_0_input_ids  \\\n",
       "0      [0, 113307, 13, 6024, 9, 4803, 217, 101935, 2,...   \n",
       "1      [0, 61765, 35066, 111, 130370, 2967, 15, 3355,...   \n",
       "2      [0, 3731, 114602, 146, 20286, 2, 0, 2, 0, 2, 0...   \n",
       "3      [0, 9626, 144057, 3687, 34292, 2, 0, 6565, 452...   \n",
       "4      [0, 10934, 8945, 1861, 47, 2501, 432, 41975, 1...   \n",
       "...                                                  ...   \n",
       "17416  [0, 4764, 1909, 6, 41382, 7, 136, 86869, 116, ...   \n",
       "17417  [0, 82077, 660, 12, 581, 38280, 136, 158, 7, 1...   \n",
       "17418  [0, 29117, 209, 7, 136, 805, 7, 15, 157, 456, ...   \n",
       "17419  [0, 39215, 22819, 4, 29805, 98, 70, 159, 28889...   \n",
       "17420  [0, 14012, 454, 59801, 454, 62015, 297, 454, 6...   \n",
       "\n",
       "                                      c_1_attention_mask  \\\n",
       "0      [1, 1, 1, 1, 1, 1, 1, 1, 1, 1, 1, 1, 1, 1, 1, ...   \n",
       "1      [1, 1, 1, 1, 1, 1, 1, 1, 1, 1, 1, 1, 1, 1, 1, ...   \n",
       "2      [1, 1, 1, 1, 1, 1, 1, 1, 1, 1, 1, 1, 0, 0, 0, ...   \n",
       "3      [1, 1, 1, 1, 1, 1, 1, 1, 1, 1, 1, 1, 1, 1, 1, ...   \n",
       "4      [1, 1, 1, 1, 1, 1, 1, 1, 1, 1, 1, 1, 1, 1, 1, ...   \n",
       "...                                                  ...   \n",
       "17416  [1, 1, 1, 1, 1, 1, 1, 1, 1, 1, 1, 1, 1, 1, 1, ...   \n",
       "17417  [1, 1, 1, 1, 1, 1, 1, 1, 1, 1, 1, 1, 1, 1, 1, ...   \n",
       "17418  [1, 1, 1, 1, 1, 1, 1, 1, 1, 1, 1, 1, 1, 1, 1, ...   \n",
       "17419  [1, 1, 1, 1, 1, 1, 1, 1, 1, 1, 1, 1, 1, 1, 1, ...   \n",
       "17420  [1, 1, 1, 1, 1, 1, 1, 1, 1, 1, 1, 1, 1, 1, 1, ...   \n",
       "\n",
       "      c_0_input_ids_sep_indices  \n",
       "0                   [9, 23, 25]  \n",
       "1                  [12, 35, 64]  \n",
       "2                    [6, 8, 10]  \n",
       "3                   [6, 32, 64]  \n",
       "4                  [16, 64, 64]  \n",
       "...                         ...  \n",
       "17416              [12, 24, 26]  \n",
       "17417              [15, 44, 64]  \n",
       "17418              [14, 32, 34]  \n",
       "17419              [13, 19, 21]  \n",
       "17420              [17, 61, 64]  \n",
       "\n",
       "[17421 rows x 5 columns]"
      ]
     },
     "execution_count": 25,
     "metadata": {},
     "output_type": "execute_result"
    }
   ],
   "source": [
    "find_col_sep_indices(val_topics_tokenized_df, sep_input_ids = [2,0], num_seperators = 3)\n",
    "find_col_sep_indices(val_contents_tokenized_df, sep_input_ids = [2,0], num_seperators = 3)"
   ]
  },
  {
   "cell_type": "code",
   "execution_count": 26,
   "id": "3dbcf76e-d5b9-480d-bfb4-6d838d3610ab",
   "metadata": {
    "colab": {
     "base_uri": "https://localhost:8080/",
     "height": 608
    },
    "collapsed": false,
    "id": "3dbcf76e-d5b9-480d-bfb4-6d838d3610ab",
    "outputId": "5ed932cf-8074-487b-8419-18b146edf074"
   },
   "outputs": [
    {
     "data": {
      "text/html": [
       "\n",
       "            <style>\n",
       "            pre {\n",
       "                white-space: pre-wrap;\n",
       "                }\n",
       "            </style>\n",
       "        "
      ],
      "text/plain": [
       "<IPython.core.display.HTML object>"
      ]
     },
     "metadata": {},
     "output_type": "display_data"
    },
    {
     "name": "stdout",
     "output_type": "stream",
     "text": [
      "<class 'pandas.core.frame.DataFrame'>\n",
      "RangeIndex: 6070 entries, 0 to 6069\n",
      "Data columns (total 5 columns):\n",
      " #   Column                     Non-Null Count  Dtype \n",
      "---  ------                     --------------  ----- \n",
      " 0   index                      6070 non-null   int64 \n",
      " 1   id                         6070 non-null   object\n",
      " 2   t_0_input_ids              6070 non-null   object\n",
      " 3   t_1_attention_mask         6070 non-null   object\n",
      " 4   t_0_input_ids_sep_indices  6070 non-null   object\n",
      "dtypes: int64(1), object(4)\n",
      "memory usage: 237.2+ KB\n",
      "<class 'pandas.core.frame.DataFrame'>\n",
      "RangeIndex: 17421 entries, 0 to 17420\n",
      "Data columns (total 5 columns):\n",
      " #   Column                     Non-Null Count  Dtype \n",
      "---  ------                     --------------  ----- \n",
      " 0   index                      17421 non-null  int64 \n",
      " 1   id                         17421 non-null  object\n",
      " 2   c_0_input_ids              17421 non-null  object\n",
      " 3   c_1_attention_mask         17421 non-null  object\n",
      " 4   c_0_input_ids_sep_indices  17421 non-null  object\n",
      "dtypes: int64(1), object(4)\n",
      "memory usage: 680.6+ KB\n",
      "<class 'pandas.core.series.Series'>\n",
      "Int64Index: 6070 entries, 0 to 6069\n",
      "Series name: c_idx\n",
      "Non-Null Count  Dtype \n",
      "--------------  ----- \n",
      "6070 non-null   object\n",
      "dtypes: object(1)\n",
      "memory usage: 94.8+ KB\n"
     ]
    }
   ],
   "source": [
    "val_topics_tokenized_df.info()\n",
    "val_contents_tokenized_df.info()\n",
    "val_corr_df.info()"
   ]
  },
  {
   "cell_type": "code",
   "execution_count": 27,
   "id": "2f02438f-a01d-4cee-b264-6a637a855ec9",
   "metadata": {
    "colab": {
     "base_uri": "https://localhost:8080/",
     "height": 17
    },
    "collapsed": false,
    "id": "2f02438f-a01d-4cee-b264-6a637a855ec9",
    "outputId": "9f0606eb-64cb-4072-b3db-d198714ecdfc"
   },
   "outputs": [
    {
     "data": {
      "text/html": [
       "\n",
       "            <style>\n",
       "            pre {\n",
       "                white-space: pre-wrap;\n",
       "                }\n",
       "            </style>\n",
       "        "
      ],
      "text/plain": [
       "<IPython.core.display.HTML object>"
      ]
     },
     "metadata": {},
     "output_type": "display_data"
    }
   ],
   "source": [
    "# Below is the mean pooling value for an empty string('')\n",
    "fill_value= [ 2.2692e-01,  8.1784e-02,  2.3543e-02, -3.0236e-02,  1.1576e-02,\n",
    "        -8.4300e-02,  4.4282e-01,  1.8080e-01,  1.0470e-01,  5.3833e-02,\n",
    "         7.7437e-02, -1.4961e-01,  1.2243e-01, -8.1676e-02, -4.6227e-02,\n",
    "        -6.1527e-02,  3.3096e-02, -4.1630e-02, -8.8344e-02,  7.1950e-02,\n",
    "         1.0894e-01, -7.9747e-02,  3.9635e-02, -2.4031e-02, -2.6754e-02,\n",
    "        -1.0373e-01, -1.2516e-01,  4.3589e-02, -1.2622e-01, -4.5149e-01,\n",
    "         9.8479e-02, -1.1660e-01,  1.8807e-01,  1.6847e-01, -1.3254e-02,\n",
    "         3.5356e-01,  2.0549e-02,  5.1132e-02,  1.3689e-01,  5.7409e-02,\n",
    "         4.7993e-02, -1.6225e-02,  5.7460e-02,  2.5289e-01,  1.8837e-02,\n",
    "         1.0862e-01,  6.3384e-02,  1.0661e-01,  5.4518e-02,  1.0492e-01,\n",
    "         1.2421e-01, -7.6383e-02, -1.3154e-01, -9.2597e-02,  7.3059e-02,\n",
    "         1.5369e-01,  1.6029e-01,  8.9187e-02,  1.3891e-02,  1.4503e-01,\n",
    "        -3.5868e-02,  8.0861e-02, -1.4321e+00,  4.4488e-01, -2.4948e-01,\n",
    "        -1.7631e-01, -3.1910e-02, -5.7227e-02, -2.0145e-01,  2.3304e-01,\n",
    "         1.6574e-01, -7.6594e-03,  1.3327e-02,  1.3708e-01,  4.2691e-02,\n",
    "        -1.0119e-01,  8.7779e-02,  1.2072e-01,  4.7127e-02, -5.6786e-02,\n",
    "         6.0016e-02,  8.9962e-02,  5.6046e-02, -6.7986e-02, -4.2279e-02,\n",
    "         1.1394e-01,  2.1153e-02,  1.1632e-01,  5.6897e-02, -1.1929e-01,\n",
    "        -4.2084e-02, -1.0021e-01,  3.5531e-01, -7.5849e-03,  2.5373e-01,\n",
    "        -4.1627e-03,  9.1205e-02, -1.0644e-01,  9.2273e-02,  2.5044e+00,\n",
    "        -5.8386e-02,  1.0841e-01, -3.7277e-02,  7.8029e-02, -3.0702e-02,\n",
    "        -6.8038e-02,  6.1537e-02,  4.7724e-02,  5.5612e-03, -3.1199e-02,\n",
    "        -4.8965e-02,  9.2526e-03, -3.8606e-02,  4.9563e-03,  2.4629e-02,\n",
    "        -5.5974e-02, -1.4868e-01,  1.6004e-01,  7.8883e-02,  8.8697e-02,\n",
    "        -9.3105e-02, -5.8991e-02, -3.6320e-02, -7.5871e-02,  2.2877e-02,\n",
    "        -8.1515e-01,  2.1145e-01,  1.7188e-01, -1.1297e-01,  5.3246e-02,\n",
    "         2.3842e-02,  1.1703e-01, -5.3804e-03,  1.5747e-01, -1.8410e-01,\n",
    "        -7.9964e-02,  9.7024e-02,  2.4204e-01,  2.4760e-02, -1.6613e-01,\n",
    "        -8.5000e-02,  2.4986e-01,  6.8966e-03,  7.9926e-02, -1.1779e-02,\n",
    "        -9.7117e-02, -5.2436e-02, -1.7714e-01, -1.6264e-02,  1.1144e-01,\n",
    "        -2.5390e-02, -2.8893e-02, -4.3197e-03,  1.1250e-02, -4.3276e-02,\n",
    "        -1.3757e-01,  5.5093e-02, -4.4147e-02,  1.3151e-01,  2.3556e-01,\n",
    "         5.5276e-03,  7.7791e-02,  2.2956e-02, -1.0002e-01,  1.1859e-02,\n",
    "        -1.3781e-01, -1.0910e-01,  3.5769e-02,  1.6109e-01,  1.1679e-01,\n",
    "         6.4749e-02, -1.9757e-02, -2.1249e-02,  8.0824e-02,  3.0256e-02,\n",
    "         3.8728e-03,  2.0422e-02,  1.1680e-01, -6.6920e-02,  7.3023e-02,\n",
    "         7.8251e-02, -2.7585e-02, -5.7218e-02,  1.7479e-01,  2.6265e-02,\n",
    "         5.7760e-02,  5.9157e-03,  1.9767e-02,  2.0600e-01, -1.3334e-01,\n",
    "         2.0944e-02, -1.0435e-01, -6.1183e-03, -2.6320e-02, -1.2500e-01,\n",
    "        -6.1774e-02, -1.5096e-03,  8.4123e-02,  1.1914e-01,  4.6520e-02,\n",
    "        -3.1477e-01, -1.3655e-01,  3.6399e-02, -1.9176e-01,  3.0008e-01,\n",
    "        -9.3990e-02,  2.2608e-01, -4.6670e-03, -5.4418e-02,  2.7442e-02,\n",
    "        -2.8967e-02, -8.9384e-02, -1.2748e-02,  6.2952e-02,  2.4998e-03,\n",
    "        -5.5135e-02,  5.1330e-03,  1.0732e-01, -2.1539e-01, -2.5023e-03,\n",
    "         4.0274e-02, -1.3176e-02,  8.1344e-02, -6.5001e-01,  1.7839e-01,\n",
    "        -1.4987e-01, -1.1081e-01,  1.5927e-01, -4.7563e-02, -2.1222e-02,\n",
    "         3.5939e-02,  6.1253e-02, -3.4650e-02, -1.2995e-03, -1.8612e-01,\n",
    "        -1.0152e-01, -9.3176e-02,  1.0601e-02, -2.0797e-01, -2.1590e-02,\n",
    "        -1.1457e-01, -8.9968e-02,  4.5233e-02,  2.2494e-01,  8.9541e-02,\n",
    "        -1.1733e-01, -1.5098e-01,  4.1164e-01, -1.2247e-01,  4.6524e-01,\n",
    "        -1.6075e-01, -1.2944e-01, -4.2891e-02,  5.1767e-02, -7.4368e-02,\n",
    "         3.1824e-02, -1.6158e-01,  3.0682e-02,  2.3774e-02,  6.4392e-02,\n",
    "         1.2988e-01, -1.5734e-01, -2.5637e-01, -1.3158e-01,  1.1741e-01,\n",
    "        -1.2536e-01, -7.0073e-02,  4.5891e-01,  8.8894e-02,  9.4389e-02,\n",
    "        -9.3856e-02, -2.3517e-02, -3.6313e-02, -6.8319e-02,  1.1310e-02,\n",
    "        -9.5391e-02,  7.1369e-02, -1.7914e-01,  5.4749e-02,  1.0912e-01,\n",
    "        -1.4087e-01, -3.3488e-01,  6.1394e-02,  1.6397e-01,  2.6653e-02,\n",
    "        -5.0510e-02, -8.8065e-05,  1.2700e-01,  1.4438e-02,  1.0510e-01,\n",
    "        -3.1389e-02,  2.0691e-01, -6.8276e-03,  3.1468e-03, -6.3190e-02,\n",
    "        -6.8658e-02, -2.1973e-02,  3.0819e-02,  5.7650e-02,  2.2963e-01,\n",
    "        -4.9901e-02, -2.5205e-01, -1.2389e-01, -1.0548e-02,  5.2336e-02,\n",
    "        -3.9859e-02, -7.1185e-02,  3.0303e-02,  1.5215e-01, -1.0238e-01,\n",
    "        -2.1264e-02,  7.3842e-02,  5.3625e-02,  4.2827e-02,  9.7442e-02,\n",
    "         2.5675e-02, -2.0598e-02, -8.5624e-02,  6.3012e-03, -8.9776e-01,\n",
    "        -4.5344e-02, -3.6481e-02, -1.7548e-01,  9.4196e-02,  2.4167e-01,\n",
    "         4.9701e-02, -4.1320e-02, -1.6034e-01,  7.0406e-02, -2.8026e-02,\n",
    "        -5.2292e-02,  2.1600e-02, -1.0621e-01, -6.8105e-02,  8.0148e-02,\n",
    "         1.8454e-01, -2.1566e-01,  1.7252e-02,  2.1095e-02, -2.4297e-02,\n",
    "         1.6635e-01,  1.7066e-01,  6.9920e-02, -5.6332e-04,  3.1908e-02,\n",
    "         9.9579e-03, -3.5469e-02, -1.2809e-01,  1.0547e-01,  1.4812e-01,\n",
    "         6.4424e-02, -8.2031e-01, -3.3207e-01, -3.8212e-02, -5.2067e-02,\n",
    "         1.1385e-01,  8.5623e-03,  3.7771e-02,  1.3134e-01,  3.7512e-03,\n",
    "         1.7528e-01,  6.9390e-02, -2.9216e-03,  1.4786e-01, -9.3166e-02,\n",
    "         1.6176e-01, -6.5376e-02,  1.1545e-02,  1.5838e-02,  8.9128e-03,\n",
    "        -1.3336e-02,  4.2593e-04, -1.8814e-03, -3.4167e-02,  1.6659e-01,\n",
    "        -4.8261e-02,  4.2300e-02, -1.5586e-03, -1.6665e-01,  2.1690e-01,\n",
    "         1.8591e-01, -9.9829e-02, -3.1076e-02,  7.4184e-02]\n",
    "fill_value = torch.tensor(fill_value).unsqueeze(0).to(device)"
   ]
  },
  {
   "cell_type": "code",
   "execution_count": 28,
   "id": "df4bea1f-564e-4079-b646-f2e68a70219e",
   "metadata": {
    "colab": {
     "base_uri": "https://localhost:8080/",
     "height": 17
    },
    "collapsed": false,
    "id": "df4bea1f-564e-4079-b646-f2e68a70219e",
    "outputId": "1566d0b3-d63b-4c66-8ed6-29aed7f48577"
   },
   "outputs": [
    {
     "data": {
      "text/html": [
       "\n",
       "            <style>\n",
       "            pre {\n",
       "                white-space: pre-wrap;\n",
       "                }\n",
       "            </style>\n",
       "        "
      ],
      "text/plain": [
       "<IPython.core.display.HTML object>"
      ]
     },
     "metadata": {},
     "output_type": "display_data"
    }
   ],
   "source": [
    "def mean_pooling_with_token_embs(token_embeddings, attention_mask):\n",
    "    \"\"\"\n",
    "    Average the output embeddings using the attention mask \n",
    "    to ignore certain tokens.\n",
    "    \"\"\"\n",
    "    input_mask_expanded = (\n",
    "        attention_mask.unsqueeze(-1).expand(token_embeddings.size()).float()\n",
    "    )\n",
    "    return torch.sum(token_embeddings * input_mask_expanded, 1) / torch.clamp(\n",
    "        input_mask_expanded.sum(1), min=1e-9\n",
    "    )\n",
    "\n",
    "def get_feature_embeddings(outputs, attention_mask, sep_indices, fill_value):\n",
    "    # print(outputs.size())\n",
    "    # print(attention_mask.size())\n",
    "    embs = []\n",
    "    for ex_idx in range(outputs.size(0)):\n",
    "        start_idx = 0\n",
    "        ex_embs = []\n",
    "        for end_idx in sep_indices[ex_idx].tolist():\n",
    "            if (start_idx < end_idx):\n",
    "                outputs_slice = outputs[ex_idx:ex_idx+1,start_idx:end_idx,:]\n",
    "                attention_mask_slice = attention_mask[ex_idx:ex_idx+1,start_idx:end_idx]\n",
    "                # print(outputs_slice.size())\n",
    "                # print(attention_mask_slice.size())\n",
    "                ex_embs.append(mean_pooling_with_token_embs(outputs_slice, attention_mask_slice))\n",
    "            else:\n",
    "                ex_embs.append(fill_value)\n",
    "            start_idx = end_idx\n",
    "        embs.append(torch.cat(ex_embs, axis=1))\n",
    "    return torch.cat(embs, axis=0)\n",
    "\n",
    "class TransModel(torch.nn.Module):\n",
    "    \"\"\"\n",
    "    Wrapper. Gets tokenized features and returns the output logits for whether the token and content are matching.\n",
    "    \"\"\"\n",
    "    def __init__(self, trans_model_name):\n",
    "        super().__init__()\n",
    "        self.transformer = AutoModel.from_pretrained(trans_model_name)\n",
    "    \n",
    "    # def get_transformer_output(self, input_ids, attention_mask):\n",
    "    #     outputs = self.transformer(input_ids = input_ids, attention_mask=attention_mask)\n",
    "    #     pooled_embeddings=self.mean_pooling_x(outputs[0], attention_mask)\n",
    "    #     return pooled_embeddings\n",
    "\n",
    "    # def forward(self, features):\n",
    "    #     # Grab embeddings from transformer\n",
    "    #     embs = self.get_transformer_output(\n",
    "    #         features[:,0,:],\n",
    "    #         features[:,1,:]\n",
    "    #     )\n",
    "\n",
    "    def forward(self, features, sep_indices):\n",
    "\n",
    "        input_ids      = features[:,0,:]\n",
    "        attention_mask = features[:,1,:]\n",
    "        outputs = self.transformer(input_ids = input_ids, attention_mask=attention_mask)\n",
    "        embs    = get_feature_embeddings(outputs[0], attention_mask, sep_indices, fill_value)\n",
    "        return embs\n",
    "\n",
    "from model_defs import LinearReLU\n",
    "\n",
    "class TC_NN(nn.Module):\n",
    "    def __init__(self, num_features, feature_emb_dim, output_emb_dim):\n",
    "        super().__init__()\n",
    "\n",
    "        self.num_features = num_features\n",
    "        self.feature_emb_dim = feature_emb_dim\n",
    "        \n",
    "        neurons_tl1 = 256\n",
    "        self.l1 = [LinearReLU(feature_emb_dim, neurons_tl1, add_batch_norm = True) for _ in range(num_features)]\n",
    "        self.l1 = nn.ModuleList(self.l1)\n",
    "        self.l2 = nn.Linear(neurons_tl1*num_features, output_emb_dim)\n",
    "        # self.tl6 = nn.BatchNorm1d(emb_dim)\n",
    "\n",
    "        self.dropout_30p = nn.Dropout(0.3)\n",
    "        self.dropout_10p = nn.Dropout(0.1)\n",
    "        \n",
    "    def forward(self, x):\n",
    "        x_temp = []\n",
    "        for i in range(self.num_features):\n",
    "            x_sub = x[:,i*self.feature_emb_dim:(i+1)*self.feature_emb_dim]\n",
    "            x_sub = self.dropout_10p(x_sub)\n",
    "            x_temp.append(self.l1[i](x_sub))\n",
    "        x = torch.cat(x_temp, axis = 1)\n",
    "        x = self.l2(x)\n",
    "\n",
    "        return x\n"
   ]
  },
  {
   "cell_type": "code",
   "execution_count": 29,
   "id": "e2832046-c9b2-4e07-8abb-e942f4ec4f3a",
   "metadata": {
    "colab": {
     "base_uri": "https://localhost:8080/",
     "height": 17
    },
    "collapsed": false,
    "id": "e2832046-c9b2-4e07-8abb-e942f4ec4f3a",
    "outputId": "ce6abf99-2e87-4b50-b310-a1fed3dc47f6"
   },
   "outputs": [
    {
     "data": {
      "text/html": [
       "\n",
       "            <style>\n",
       "            pre {\n",
       "                white-space: pre-wrap;\n",
       "                }\n",
       "            </style>\n",
       "        "
      ],
      "text/plain": [
       "<IPython.core.display.HTML object>"
      ]
     },
     "metadata": {},
     "output_type": "display_data"
    }
   ],
   "source": [
    "class CustomDS(torch.utils.data.Dataset):\n",
    "    def __init__(self, tensor):\n",
    "        self.topic               = tensor[0]\n",
    "        self.topic_sep_indices   = tensor[1]\n",
    "        self.content             = tensor[2]\n",
    "        self.content_sep_indices = tensor[3]\n",
    "            \n",
    "    def __len__(self):\n",
    "        return self.topic.size(dim=0)\n",
    "    \n",
    "    def __getitem__(self, item):\n",
    "        \n",
    "        topic               = self.topic[item]\n",
    "        topic_sep_indices   = self.topic_sep_indices[item]\n",
    "        content             = self.content[item]\n",
    "        content_sep_indices = self.content_sep_indices[item]\n",
    "\n",
    "\n",
    "        return topic, topic_sep_indices, content, content_sep_indices"
   ]
  },
  {
   "cell_type": "code",
   "execution_count": 30,
   "id": "0f21d2d8-257d-4707-a36c-d50959fc31fa",
   "metadata": {
    "colab": {
     "base_uri": "https://localhost:8080/",
     "height": 91
    },
    "collapsed": false,
    "id": "0f21d2d8-257d-4707-a36c-d50959fc31fa",
    "outputId": "6f1d8623-8d6c-4212-b855-45a381a31151"
   },
   "outputs": [
    {
     "data": {
      "text/html": [
       "\n",
       "            <style>\n",
       "            pre {\n",
       "                white-space: pre-wrap;\n",
       "                }\n",
       "            </style>\n",
       "        "
      ],
      "text/plain": [
       "<IPython.core.display.HTML object>"
      ]
     },
     "metadata": {},
     "output_type": "display_data"
    },
    {
     "name": "stderr",
     "output_type": "stream",
     "text": [
      "<ipython-input-30-2a3d8658da39>:6: UserWarning: Creating a tensor from a list of numpy.ndarrays is extremely slow. Please consider converting the list to a single numpy.ndarray with numpy.array() before converting to a tensor. (Triggered internally at ../torch/csrc/utils/tensor_new.cpp:230.)\n",
      "  (torch.tensor(train_tokenized_df[t_cols].values.tolist()),\n"
     ]
    }
   ],
   "source": [
    "t_cols = [col for col in train_tokenized_df.columns if col.startswith('t_') and not col.endswith('_sep_indices')]\n",
    "t_col_sep_indices = [col for col in train_tokenized_df.columns if col.startswith('t_') and col.endswith('_sep_indices')]\n",
    "c_cols = [col for col in train_tokenized_df.columns if col.startswith('c_') and not col.endswith('_sep_indices')]\n",
    "c_col_sep_indices = [col for col in train_tokenized_df.columns if col.startswith('c_') and col.endswith('_sep_indices')]\n",
    "train_ds = CustomDS(\n",
    "                    (torch.tensor(train_tokenized_df[t_cols].values.tolist()),\n",
    "                     torch.tensor(train_tokenized_df[t_col_sep_indices].values.tolist()).squeeze(1),\n",
    "                     torch.tensor(train_tokenized_df[c_cols].values.tolist()),\n",
    "                     torch.tensor(train_tokenized_df[c_col_sep_indices].values.tolist()).squeeze(1)\n",
    "                     )\n",
    "                    )\n"
   ]
  },
  {
   "cell_type": "code",
   "execution_count": 31,
   "id": "8448d04c-0383-42b6-a626-a3575c084dcb",
   "metadata": {
    "colab": {
     "base_uri": "https://localhost:8080/",
     "height": 35
    },
    "collapsed": false,
    "id": "8448d04c-0383-42b6-a626-a3575c084dcb",
    "outputId": "16cfb5b6-c5cd-4211-dc6a-65330c8c8fd1"
   },
   "outputs": [
    {
     "data": {
      "text/html": [
       "\n",
       "            <style>\n",
       "            pre {\n",
       "                white-space: pre-wrap;\n",
       "                }\n",
       "            </style>\n",
       "        "
      ],
      "text/plain": [
       "<IPython.core.display.HTML object>"
      ]
     },
     "metadata": {},
     "output_type": "display_data"
    },
    {
     "data": {
      "text/plain": [
       "torch.Size([254252, 3])"
      ]
     },
     "execution_count": 31,
     "metadata": {},
     "output_type": "execute_result"
    }
   ],
   "source": [
    "train_ds.topic_sep_indices.size()"
   ]
  },
  {
   "cell_type": "code",
   "execution_count": 32,
   "id": "89042ca8-d9ab-4279-9244-ea01f0b50f70",
   "metadata": {
    "colab": {
     "base_uri": "https://localhost:8080/",
     "height": 17
    },
    "collapsed": false,
    "id": "89042ca8-d9ab-4279-9244-ea01f0b50f70",
    "outputId": "e4474daf-97cc-4a8d-c09c-e980347186f3"
   },
   "outputs": [
    {
     "data": {
      "text/html": [
       "\n",
       "            <style>\n",
       "            pre {\n",
       "                white-space: pre-wrap;\n",
       "                }\n",
       "            </style>\n",
       "        "
      ],
      "text/plain": [
       "<IPython.core.display.HTML object>"
      ]
     },
     "metadata": {},
     "output_type": "display_data"
    }
   ],
   "source": [
    "val_data = (torch.tensor(val_topics_tokenized_df[t_cols].values.tolist()),\n",
    "            torch.tensor(val_topics_tokenized_df[t_col_sep_indices].values.tolist()).squeeze(1),\n",
    "            torch.tensor(val_contents_tokenized_df[c_cols].values.tolist()),\n",
    "            torch.tensor(val_contents_tokenized_df[c_col_sep_indices].values.tolist()).squeeze(1)\n",
    "            ,val_corr_df\n",
    "            )"
   ]
  },
  {
   "cell_type": "code",
   "execution_count": 33,
   "id": "436d52f2-8ad3-419b-bb96-c6acda12755b",
   "metadata": {
    "colab": {
     "base_uri": "https://localhost:8080/",
     "height": 54
    },
    "collapsed": false,
    "id": "436d52f2-8ad3-419b-bb96-c6acda12755b",
    "outputId": "34675d97-d942-4e05-8fd2-fba4052b622e"
   },
   "outputs": [
    {
     "data": {
      "text/html": [
       "\n",
       "            <style>\n",
       "            pre {\n",
       "                white-space: pre-wrap;\n",
       "                }\n",
       "            </style>\n",
       "        "
      ],
      "text/plain": [
       "<IPython.core.display.HTML object>"
      ]
     },
     "metadata": {},
     "output_type": "display_data"
    },
    {
     "name": "stdout",
     "output_type": "stream",
     "text": [
      "GPU:0\n",
      "process     185504 uses     1044.000 MB GPU memory\n"
     ]
    }
   ],
   "source": [
    "try: t_model\n",
    "except NameError: t_model = None\n",
    "if t_model is not None:\n",
    "  del t_model\n",
    "report_gpu()\n",
    "BATCH_SIZE = 760 # 650 works for A100, 20 works good for training for TESTING_SUBSET\n",
    "if TESTING_SUBSET:\n",
    "    # 20 works good for training for TESTING_SUBSET\n",
    "    BATCH_SIZE = 20\n",
    "else:\n",
    "    BATCH_SIZE = 1100\n",
    "train_loader = DataLoader(train_ds, batch_size=BATCH_SIZE, shuffle=True, num_workers = 2)"
   ]
  },
  {
   "cell_type": "code",
   "execution_count": 34,
   "id": "09b2154a-d3b0-4dc7-92ab-f8d16c8cf88e",
   "metadata": {
    "colab": {
     "base_uri": "https://localhost:8080/",
     "height": 17
    },
    "collapsed": false,
    "id": "09b2154a-d3b0-4dc7-92ab-f8d16c8cf88e",
    "outputId": "e50125e7-60d8-46a2-b859-55ebb6b4c7a3"
   },
   "outputs": [
    {
     "data": {
      "text/html": [
       "\n",
       "            <style>\n",
       "            pre {\n",
       "                white-space: pre-wrap;\n",
       "                }\n",
       "            </style>\n",
       "        "
      ],
      "text/plain": [
       "<IPython.core.display.HTML object>"
      ]
     },
     "metadata": {},
     "output_type": "display_data"
    }
   ],
   "source": [
    "# Add option to load pre-existing model\n",
    "LOAD_CHECKPOINT_MODEL = False\n",
    "SAVE_BEST_MODEL = True\n",
    "DRY_RUN = False\n",
    "TRAIN_PATIENCE = 3\n",
    "k_vals = [5,10, 50]\n",
    "METRIC = 'recall'\n",
    "METRIC_KEY = 10\n",
    "MODEL_FILENAME_PREFIX = f'One_trans_MiniLM_MNRL_fp16_ml64_train_shuffled_parent_title_new_sep_batch_size_{BATCH_SIZE}'\n",
    "SAVE_MODEL_DIR = CFG.SAVE_MODEL_DIR\n",
    "NUM_FEATURES = 3\n",
    "FEATURE_EMB_DIM = 384\n",
    "OUTPUT_EMB_DIM = 512\n",
    "trans_model = TransModel( trans_model_name = CFG.MODEL)\n",
    "t_model = TC_NN(num_features = NUM_FEATURES, feature_emb_dim = FEATURE_EMB_DIM , output_emb_dim = OUTPUT_EMB_DIM)\n",
    "c_model = TC_NN(num_features = NUM_FEATURES, feature_emb_dim = FEATURE_EMB_DIM , output_emb_dim = OUTPUT_EMB_DIM)\n",
    "optimizer = torch.optim.Adam((list(trans_model.parameters()) + list(t_model.parameters()) + list(c_model.parameters())),\n",
    "                              lr=2e-4,\n",
    "                             #weight_decay = 1e-4 # L2 regularization, 1e-4 is a good value\n",
    "                             )\n",
    "model_dict = {'trans_model': trans_model, 't_model': t_model, 'c_model': c_model, 'optimizer': optimizer}\n",
    "if LOAD_CHECKPOINT_MODEL:\n",
    "    MODEL_FILENAME = SAVE_MODEL_DIR + 'One_trans_MiniLM_MNRL_fp16_ml64_train_shuffled_parent_title_new_sep_batch_size_1100.last_model.pth'\n",
    "    # t_model, optimizer = load_model(t_model, optimizer = None, filename = MODEL_FILENAME)\n",
    "    # We'll use a fresh optimizer since we are loading ArcFace pre-trained model.\n",
    "    # optimizer = torch.optim.Adam((list(t_model.parameters())),\n",
    "    #                           lr=2e-4,\n",
    "    #                          #weight_decay = 1e-4 # L2 regularization, 1e-4 is a good value\n",
    "    #                          )\n",
    "    # train_scores = []\n",
    "    # val_scores = []\n",
    "    # epoch_count = 0\n",
    "    # MODEL_FILENAME = None\n",
    "    load_model( model_dict, filename = MODEL_FILENAME)\n",
    "    train_data_dict = load_dict(SAVE_MODEL_DIR + f'{MODEL_FILENAME_PREFIX}.train.txt')\n",
    "    train_scores, val_scores = train_data_dict['train_scores'], train_data_dict['val_scores']\n",
    "    epoch_count = len(val_scores)\n",
    "else:\n",
    "    train_scores = []\n",
    "    val_scores = []\n",
    "    epoch_count = 0\n",
    "    MODEL_FILENAME = None\n",
    "\n",
    "trans_model = trans_model.to(device)\n",
    "t_model = t_model.to(device)\n",
    "c_model = c_model.to(device)\n",
    "# criterion = nn.BCEWithLogitsLoss()\n",
    "criterion = MultipleNegativesRankingLoss()\n",
    "\n"
   ]
  },
  {
   "cell_type": "code",
   "execution_count": null,
   "id": "8a443487-0abf-46f5-9544-828b0795fcf5",
   "metadata": {
    "colab": {
     "base_uri": "https://localhost:8080/",
     "height": 1000
    },
    "collapsed": false,
    "id": "8a443487-0abf-46f5-9544-828b0795fcf5",
    "outputId": "d58376b6-6dcf-4e5a-fe9a-98d600406260"
   },
   "outputs": [
    {
     "data": {
      "text/html": [
       "\n",
       "            <style>\n",
       "            pre {\n",
       "                white-space: pre-wrap;\n",
       "                }\n",
       "            </style>\n",
       "        "
      ],
      "text/plain": [
       "<IPython.core.display.HTML object>"
      ]
     },
     "metadata": {},
     "output_type": "display_data"
    },
    {
     "name": "stdout",
     "output_type": "stream",
     "text": [
      "2023-03-24 19:55:47.664340 : Starting Training\n",
      "2023-03-24 19:55:47.665770 : ***** Epoch 0 *****\n"
     ]
    },
    {
     "name": "stderr",
     "output_type": "stream",
     "text": [
      "Training: 100%|██████████| 232/232 [13:00<00:00,  3.36s/it]\n"
     ]
    },
    {
     "name": "stdout",
     "output_type": "stream",
     "text": [
      "2023-03-24 20:08:47.736139 : Train : | Loss: 1.62606 \n"
     ]
    },
    {
     "name": "stderr",
     "output_type": "stream",
     "text": [
      "100%|██████████| 6/6 [00:03<00:00,  1.79it/s]\n"
     ]
    },
    {
     "name": "stdout",
     "output_type": "stream",
     "text": [
      "2023-03-24 20:09:00.592119 : \n",
      "Validation:  | Recall@5: 0.422| Recall@10: 0.555| Recall@50: 0.791\n",
      "2023-03-24 20:09:00.592212 : Saving /content/drive/MyDrive/ML/lecr/models/One_trans_MiniLM_MNRL_fp16_ml64_train_shuffled_parent_title_new_sep_batch_size_1100_epoch_0_recall_10_0.555.pth\n",
      "2023-03-24 20:09:10.021139 : ***** Epoch 1 *****\n"
     ]
    },
    {
     "name": "stderr",
     "output_type": "stream",
     "text": [
      "Training: 100%|██████████| 232/232 [12:59<00:00,  3.36s/it]\n"
     ]
    },
    {
     "name": "stdout",
     "output_type": "stream",
     "text": [
      "2023-03-24 20:22:09.808338 : Train : | Loss: 0.65249 \n"
     ]
    },
    {
     "name": "stderr",
     "output_type": "stream",
     "text": [
      "100%|██████████| 6/6 [00:03<00:00,  1.81it/s]\n"
     ]
    },
    {
     "name": "stdout",
     "output_type": "stream",
     "text": [
      "2023-03-24 20:22:22.596858 : \n",
      "Validation:  | Recall@5: 0.466| Recall@10: 0.604| Recall@50: 0.830\n",
      "2023-03-24 20:22:22.596942 : Deleting /content/drive/MyDrive/ML/lecr/models/One_trans_MiniLM_MNRL_fp16_ml64_train_shuffled_parent_title_new_sep_batch_size_1100_epoch_0_recall_10_0.555.pth\n",
      "2023-03-24 20:22:22.599836 : Saving /content/drive/MyDrive/ML/lecr/models/One_trans_MiniLM_MNRL_fp16_ml64_train_shuffled_parent_title_new_sep_batch_size_1100_epoch_1_recall_10_0.604.pth\n",
      "2023-03-24 20:22:32.677751 : ***** Epoch 2 *****\n"
     ]
    },
    {
     "name": "stderr",
     "output_type": "stream",
     "text": [
      "Training: 100%|██████████| 232/232 [13:00<00:00,  3.36s/it]\n"
     ]
    },
    {
     "name": "stdout",
     "output_type": "stream",
     "text": [
      "2023-03-24 20:35:32.900640 : Train : | Loss: 0.48093 \n"
     ]
    },
    {
     "name": "stderr",
     "output_type": "stream",
     "text": [
      "100%|██████████| 6/6 [00:03<00:00,  1.77it/s]\n"
     ]
    },
    {
     "name": "stdout",
     "output_type": "stream",
     "text": [
      "2023-03-24 20:35:45.865804 : \n",
      "Validation:  | Recall@5: 0.512| Recall@10: 0.651| Recall@50: 0.850\n",
      "2023-03-24 20:35:45.865885 : Deleting /content/drive/MyDrive/ML/lecr/models/One_trans_MiniLM_MNRL_fp16_ml64_train_shuffled_parent_title_new_sep_batch_size_1100_epoch_1_recall_10_0.604.pth\n",
      "2023-03-24 20:35:45.868115 : Saving /content/drive/MyDrive/ML/lecr/models/One_trans_MiniLM_MNRL_fp16_ml64_train_shuffled_parent_title_new_sep_batch_size_1100_epoch_2_recall_10_0.651.pth\n",
      "2023-03-24 20:35:56.095831 : ***** Epoch 3 *****\n"
     ]
    },
    {
     "name": "stderr",
     "output_type": "stream",
     "text": [
      "Training: 100%|██████████| 232/232 [13:00<00:00,  3.36s/it]\n"
     ]
    },
    {
     "name": "stdout",
     "output_type": "stream",
     "text": [
      "2023-03-24 20:48:56.166788 : Train : | Loss: 0.40618 \n"
     ]
    },
    {
     "name": "stderr",
     "output_type": "stream",
     "text": [
      "100%|██████████| 6/6 [00:03<00:00,  1.78it/s]\n"
     ]
    },
    {
     "name": "stdout",
     "output_type": "stream",
     "text": [
      "2023-03-24 20:49:09.011800 : \n",
      "Validation:  | Recall@5: 0.544| Recall@10: 0.688| Recall@50: 0.864\n",
      "2023-03-24 20:49:09.011886 : Deleting /content/drive/MyDrive/ML/lecr/models/One_trans_MiniLM_MNRL_fp16_ml64_train_shuffled_parent_title_new_sep_batch_size_1100_epoch_2_recall_10_0.651.pth\n",
      "2023-03-24 20:49:09.014028 : Saving /content/drive/MyDrive/ML/lecr/models/One_trans_MiniLM_MNRL_fp16_ml64_train_shuffled_parent_title_new_sep_batch_size_1100_epoch_3_recall_10_0.688.pth\n",
      "2023-03-24 20:49:17.040245 : ***** Epoch 4 *****\n"
     ]
    },
    {
     "name": "stderr",
     "output_type": "stream",
     "text": [
      "Training: 100%|██████████| 232/232 [12:58<00:00,  3.35s/it]\n"
     ]
    },
    {
     "name": "stdout",
     "output_type": "stream",
     "text": [
      "2023-03-24 21:02:15.066621 : Train : | Loss: 0.35485 \n"
     ]
    },
    {
     "name": "stderr",
     "output_type": "stream",
     "text": [
      "100%|██████████| 6/6 [00:03<00:00,  1.82it/s]\n"
     ]
    },
    {
     "name": "stdout",
     "output_type": "stream",
     "text": [
      "2023-03-24 21:02:27.674330 : \n",
      "Validation:  | Recall@5: 0.567| Recall@10: 0.707| Recall@50: 0.871\n",
      "2023-03-24 21:02:27.674418 : Deleting /content/drive/MyDrive/ML/lecr/models/One_trans_MiniLM_MNRL_fp16_ml64_train_shuffled_parent_title_new_sep_batch_size_1100_epoch_3_recall_10_0.688.pth\n",
      "2023-03-24 21:02:27.677263 : Saving /content/drive/MyDrive/ML/lecr/models/One_trans_MiniLM_MNRL_fp16_ml64_train_shuffled_parent_title_new_sep_batch_size_1100_epoch_4_recall_10_0.707.pth\n",
      "2023-03-24 21:02:35.816856 : ***** Epoch 5 *****\n"
     ]
    },
    {
     "name": "stderr",
     "output_type": "stream",
     "text": [
      "Training: 100%|██████████| 232/232 [12:57<00:00,  3.35s/it]\n"
     ]
    },
    {
     "name": "stdout",
     "output_type": "stream",
     "text": [
      "2023-03-24 21:15:33.730353 : Train : | Loss: 0.31713 \n"
     ]
    },
    {
     "name": "stderr",
     "output_type": "stream",
     "text": [
      "100%|██████████| 6/6 [00:03<00:00,  1.83it/s]\n"
     ]
    },
    {
     "name": "stdout",
     "output_type": "stream",
     "text": [
      "2023-03-24 21:15:46.340787 : \n",
      "Validation:  | Recall@5: 0.582| Recall@10: 0.721| Recall@50: 0.878\n",
      "2023-03-24 21:15:46.340871 : Deleting /content/drive/MyDrive/ML/lecr/models/One_trans_MiniLM_MNRL_fp16_ml64_train_shuffled_parent_title_new_sep_batch_size_1100_epoch_4_recall_10_0.707.pth\n",
      "2023-03-24 21:15:46.342920 : Saving /content/drive/MyDrive/ML/lecr/models/One_trans_MiniLM_MNRL_fp16_ml64_train_shuffled_parent_title_new_sep_batch_size_1100_epoch_5_recall_10_0.721.pth\n",
      "2023-03-24 21:15:54.370165 : ***** Epoch 6 *****\n"
     ]
    },
    {
     "name": "stderr",
     "output_type": "stream",
     "text": [
      "Training: 100%|██████████| 232/232 [12:58<00:00,  3.36s/it]\n"
     ]
    },
    {
     "name": "stdout",
     "output_type": "stream",
     "text": [
      "2023-03-24 21:28:53.356961 : Train : | Loss: 0.29523 \n"
     ]
    },
    {
     "name": "stderr",
     "output_type": "stream",
     "text": [
      "100%|██████████| 6/6 [00:03<00:00,  1.82it/s]\n"
     ]
    },
    {
     "name": "stdout",
     "output_type": "stream",
     "text": [
      "2023-03-24 21:29:06.023562 : \n",
      "Validation:  | Recall@5: 0.582| Recall@10: 0.723| Recall@50: 0.876\n",
      "2023-03-24 21:29:06.023650 : Deleting /content/drive/MyDrive/ML/lecr/models/One_trans_MiniLM_MNRL_fp16_ml64_train_shuffled_parent_title_new_sep_batch_size_1100_epoch_5_recall_10_0.721.pth\n",
      "2023-03-24 21:29:06.026626 : Saving /content/drive/MyDrive/ML/lecr/models/One_trans_MiniLM_MNRL_fp16_ml64_train_shuffled_parent_title_new_sep_batch_size_1100_epoch_6_recall_10_0.723.pth\n",
      "2023-03-24 21:29:16.171156 : ***** Epoch 7 *****\n"
     ]
    },
    {
     "name": "stderr",
     "output_type": "stream",
     "text": [
      "Training: 100%|██████████| 232/232 [12:58<00:00,  3.36s/it]\n"
     ]
    },
    {
     "name": "stdout",
     "output_type": "stream",
     "text": [
      "2023-03-24 21:42:14.970308 : Train : | Loss: 0.27955 \n"
     ]
    },
    {
     "name": "stderr",
     "output_type": "stream",
     "text": [
      "100%|██████████| 6/6 [00:03<00:00,  1.80it/s]\n"
     ]
    },
    {
     "name": "stdout",
     "output_type": "stream",
     "text": [
      "2023-03-24 21:42:27.670147 : \n",
      "Validation:  | Recall@5: 0.592| Recall@10: 0.728| Recall@50: 0.879\n",
      "2023-03-24 21:42:27.670247 : Deleting /content/drive/MyDrive/ML/lecr/models/One_trans_MiniLM_MNRL_fp16_ml64_train_shuffled_parent_title_new_sep_batch_size_1100_epoch_6_recall_10_0.723.pth\n",
      "2023-03-24 21:42:27.672956 : Saving /content/drive/MyDrive/ML/lecr/models/One_trans_MiniLM_MNRL_fp16_ml64_train_shuffled_parent_title_new_sep_batch_size_1100_epoch_7_recall_10_0.728.pth\n",
      "2023-03-24 21:42:37.243414 : ***** Epoch 8 *****\n"
     ]
    },
    {
     "name": "stderr",
     "output_type": "stream",
     "text": [
      "Training: 100%|██████████| 232/232 [12:58<00:00,  3.36s/it]\n"
     ]
    },
    {
     "name": "stdout",
     "output_type": "stream",
     "text": [
      "2023-03-24 21:55:35.860472 : Train : | Loss: 0.26502 \n"
     ]
    },
    {
     "name": "stderr",
     "output_type": "stream",
     "text": [
      "100%|██████████| 6/6 [00:03<00:00,  1.82it/s]\n"
     ]
    },
    {
     "name": "stdout",
     "output_type": "stream",
     "text": [
      "2023-03-24 21:55:48.535956 : \n",
      "Validation:  | Recall@5: 0.591| Recall@10: 0.733| Recall@50: 0.880\n",
      "2023-03-24 21:55:48.536043 : Deleting /content/drive/MyDrive/ML/lecr/models/One_trans_MiniLM_MNRL_fp16_ml64_train_shuffled_parent_title_new_sep_batch_size_1100_epoch_7_recall_10_0.728.pth\n",
      "2023-03-24 21:55:48.538407 : Saving /content/drive/MyDrive/ML/lecr/models/One_trans_MiniLM_MNRL_fp16_ml64_train_shuffled_parent_title_new_sep_batch_size_1100_epoch_8_recall_10_0.733.pth\n",
      "2023-03-24 21:55:56.701591 : ***** Epoch 9 *****\n"
     ]
    },
    {
     "name": "stderr",
     "output_type": "stream",
     "text": [
      "Training: 100%|██████████| 232/232 [12:59<00:00,  3.36s/it]\n"
     ]
    },
    {
     "name": "stdout",
     "output_type": "stream",
     "text": [
      "2023-03-24 22:08:56.132152 : Train : | Loss: 0.25549 \n"
     ]
    },
    {
     "name": "stderr",
     "output_type": "stream",
     "text": [
      "100%|██████████| 6/6 [00:03<00:00,  1.79it/s]\n"
     ]
    },
    {
     "name": "stdout",
     "output_type": "stream",
     "text": [
      "2023-03-24 22:09:08.874103 : \n",
      "Validation:  | Recall@5: 0.603| Recall@10: 0.739| Recall@50: 0.879\n",
      "2023-03-24 22:09:08.874268 : Deleting /content/drive/MyDrive/ML/lecr/models/One_trans_MiniLM_MNRL_fp16_ml64_train_shuffled_parent_title_new_sep_batch_size_1100_epoch_8_recall_10_0.733.pth\n",
      "2023-03-24 22:09:08.876291 : Saving /content/drive/MyDrive/ML/lecr/models/One_trans_MiniLM_MNRL_fp16_ml64_train_shuffled_parent_title_new_sep_batch_size_1100_epoch_9_recall_10_0.739.pth\n",
      "2023-03-24 22:09:16.898127 : ***** Epoch 10 *****\n"
     ]
    },
    {
     "name": "stderr",
     "output_type": "stream",
     "text": [
      "Training: 100%|██████████| 232/232 [12:58<00:00,  3.36s/it]\n"
     ]
    },
    {
     "name": "stdout",
     "output_type": "stream",
     "text": [
      "2023-03-24 22:22:15.883047 : Train : | Loss: 0.24858 \n"
     ]
    },
    {
     "name": "stderr",
     "output_type": "stream",
     "text": [
      "100%|██████████| 6/6 [00:03<00:00,  1.80it/s]\n"
     ]
    },
    {
     "name": "stdout",
     "output_type": "stream",
     "text": [
      "2023-03-24 22:22:28.627740 : \n",
      "Validation:  | Recall@5: 0.597| Recall@10: 0.737| Recall@50: 0.876\n",
      "2023-03-24 22:22:34.731186 : ***** Epoch 11 *****\n"
     ]
    },
    {
     "name": "stderr",
     "output_type": "stream",
     "text": [
      "Training: 100%|██████████| 232/232 [12:59<00:00,  3.36s/it]\n"
     ]
    },
    {
     "name": "stdout",
     "output_type": "stream",
     "text": [
      "2023-03-24 22:35:34.385507 : Train : | Loss: 0.23950 \n"
     ]
    },
    {
     "name": "stderr",
     "output_type": "stream",
     "text": [
      "100%|██████████| 6/6 [00:03<00:00,  1.82it/s]\n"
     ]
    },
    {
     "name": "stdout",
     "output_type": "stream",
     "text": [
      "2023-03-24 22:35:47.073816 : \n",
      "Validation:  | Recall@5: 0.610| Recall@10: 0.748| Recall@50: 0.881\n",
      "2023-03-24 22:35:47.073914 : Deleting /content/drive/MyDrive/ML/lecr/models/One_trans_MiniLM_MNRL_fp16_ml64_train_shuffled_parent_title_new_sep_batch_size_1100_epoch_9_recall_10_0.739.pth\n",
      "2023-03-24 22:35:47.076395 : Saving /content/drive/MyDrive/ML/lecr/models/One_trans_MiniLM_MNRL_fp16_ml64_train_shuffled_parent_title_new_sep_batch_size_1100_epoch_11_recall_10_0.748.pth\n",
      "2023-03-24 22:35:55.211887 : ***** Epoch 12 *****\n"
     ]
    },
    {
     "name": "stderr",
     "output_type": "stream",
     "text": [
      "Training: 100%|██████████| 232/232 [13:00<00:00,  3.36s/it]\n"
     ]
    },
    {
     "name": "stdout",
     "output_type": "stream",
     "text": [
      "2023-03-24 22:48:55.438807 : Train : | Loss: 0.23372 \n"
     ]
    },
    {
     "name": "stderr",
     "output_type": "stream",
     "text": [
      "100%|██████████| 6/6 [00:03<00:00,  1.79it/s]\n"
     ]
    },
    {
     "name": "stdout",
     "output_type": "stream",
     "text": [
      "2023-03-24 22:49:08.199381 : \n",
      "Validation:  | Recall@5: 0.610| Recall@10: 0.751| Recall@50: 0.881\n",
      "2023-03-24 22:49:08.199475 : Deleting /content/drive/MyDrive/ML/lecr/models/One_trans_MiniLM_MNRL_fp16_ml64_train_shuffled_parent_title_new_sep_batch_size_1100_epoch_11_recall_10_0.748.pth\n",
      "2023-03-24 22:49:08.201685 : Saving /content/drive/MyDrive/ML/lecr/models/One_trans_MiniLM_MNRL_fp16_ml64_train_shuffled_parent_title_new_sep_batch_size_1100_epoch_12_recall_10_0.751.pth\n",
      "2023-03-24 22:49:16.266722 : ***** Epoch 13 *****\n"
     ]
    },
    {
     "name": "stderr",
     "output_type": "stream",
     "text": [
      "Training:   1%|          | 2/232 [00:07<13:33,  3.54s/it]"
     ]
    }
   ],
   "source": [
    "NUM_EPOCHS = 15\n",
    "\n",
    "DISABLE_TQDM = False\n",
    "if (DISABLE_TQDM):\n",
    "    tqdm.__init__ = partialmethod(tqdm.__init__, disable=DISABLE_TQDM)\n",
    "\n",
    "scaler = torch.cuda.amp.GradScaler()\n",
    "\n",
    "pt('Starting Training')\n",
    "trans_model.train()\n",
    "t_model.train()\n",
    "c_model.train()\n",
    "#for epoch in tqdm(range(EPOCHS), desc=\"Epochs\"):\n",
    "for epoch in range(NUM_EPOCHS):\n",
    "    # We set the below in case it is frozen while doing eval\n",
    "    pt(f\"***** Epoch {epoch_count} *****\")\n",
    "    train_loss = 0\n",
    "    #train_acc = 0\n",
    "    #train_f2_score = 0\n",
    "    for (topic, t_sep_indices, content, c_sep_indices) in tqdm(train_loader, desc=\"Training\"):\n",
    "        topic   = topic.to(device)\n",
    "        content = content.to(device)\n",
    "\n",
    "        optimizer.zero_grad()\n",
    "\n",
    "        with torch.autocast(device_type='cuda', dtype=torch.float16):\n",
    "            t_emb = trans_model(topic, t_sep_indices)\n",
    "            c_emb = trans_model(content, c_sep_indices)\n",
    "\n",
    "            t_emb = t_model(t_emb)\n",
    "            c_emb = c_model(c_emb)\n",
    "            \n",
    "            loss = criterion(t_emb, c_emb)\n",
    "\n",
    "        # loss.backward()\n",
    "        # optimizer.step()\n",
    "        scaler.scale(loss).backward()\n",
    "        scaler.step(optimizer)\n",
    "        scaler.update()\n",
    "       \n",
    "        train_loss += loss.item()\n",
    "    train_loss = round(train_loss/len(train_loader), 5)\n",
    "    pt(f'Train : | Loss: {train_loss:.5f} ')\n",
    "    train_scores.append({'loss':train_loss})\n",
    "    recalls  = compute_recall_at_k_for_one_trans_two_towers(trans_model, t_model, c_model, device, val_data[0], val_data[1], val_data[2], val_data[3], val_data[4], k_vals = k_vals, batch_size = BATCH_SIZE)\n",
    "    recall_str = '\\nValidation:  ' + ''.join([f'| Recall@{k}: {recalls[k]:.3f}' for k in k_vals])\n",
    "    pt(recall_str)\n",
    "    val_scores.append({'recall':recalls})\n",
    "    if SAVE_BEST_MODEL:\n",
    "        MODEL_FILENAME = save_best_model( \n",
    "                                        model_dict = model_dict,\n",
    "                                        old_model_filename = MODEL_FILENAME,\n",
    "                                        model_filename_prefix = MODEL_FILENAME_PREFIX,\n",
    "                                        model_path = SAVE_MODEL_DIR,\n",
    "                                        save_model_fn = save_model,\n",
    "                                        train_scores = train_scores,\n",
    "                                        val_scores = val_scores, \n",
    "                                        metric = METRIC, metric_key = METRIC_KEY,\n",
    "                                        dry_run = DRY_RUN\n",
    "                                        )\n",
    "    save_model(model_dict, SAVE_MODEL_DIR + f\"{MODEL_FILENAME_PREFIX}.last_model.pth\")\n",
    "    epoch_count += 1\n",
    "    save_dict({'train_scores':train_scores, 'val_scores':val_scores}, SAVE_MODEL_DIR + f'{MODEL_FILENAME_PREFIX}.train.txt')\n",
    "    if not check_improvement(val_scores, metric = METRIC, metric_key = METRIC_KEY, patience = TRAIN_PATIENCE):\n",
    "        pt(f'Exiting training since no improvement in the last {TRAIN_PATIENCE} epochs')\n",
    "        break\n"
   ]
  },
  {
   "cell_type": "code",
   "execution_count": null,
   "id": "-9y5cb8CWuZO",
   "metadata": {
    "collapsed": false,
    "id": "-9y5cb8CWuZO"
   },
   "outputs": [],
   "source": [
    "if IN_COLAB:\n",
    "    from google.colab import runtime\n",
    "    runtime.unassign()"
   ]
  }
 ],
 "metadata": {
  "accelerator": "GPU",
  "colab": {
   "provenance": []
  },
  "gpuClass": "premium",
  "kernelspec": {
   "argv": [
    "/home/mahesh/Desktop/ML/kaggle/LearningEquality/learning-equality-code/le-venv/bin/python3",
    "-m",
    "ipykernel_launcher",
    "-f",
    "{connection_file}"
   ],
   "display_name": "le-venv",
   "env": null,
   "interrupt_mode": "signal",
   "language": "python",
   "metadata": {
    "debugger": true
   },
   "name": "le-venv"
  },
  "language_info": {
   "name": "python"
  },
  "name": "One_trans_mnr_loss_no_lightning_train_shuffled_with_sep_token.ipynb"
 },
 "nbformat": 4,
 "nbformat_minor": 5
}
